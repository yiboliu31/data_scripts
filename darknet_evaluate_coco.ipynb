{
 "cells": [
  {
   "cell_type": "code",
   "execution_count": 1,
   "metadata": {},
   "outputs": [],
   "source": [
    "import os\n",
    "import yaml\n",
    "import urllib\n",
    "from PIL import Image\n",
    "from enum import Enum\n",
    "from pycocotools.coco import COCO\n",
    "from pycocotools.cocoeval import COCOeval\n",
    "\n",
    "import xml.etree.cElementTree as ET\n",
    "import glob\n",
    "import argparse\n",
    "import numpy as np\n",
    "import json\n",
    "import numpy\n",
    "import cv2\n",
    "from collections import OrderedDict\n",
    "import scipy.misc\n",
    "from skimage import measure   \n",
    "from shapely.geometry import Polygon, MultiPolygon, MultiPoint\n",
    "import random\n",
    "import skimage.io as io\n",
    "import matplotlib.pyplot as plt\n",
    "import pylab\n",
    "import shutil\n",
    "import pickle\n",
    "\n",
    "WORKING_DIRECTORY = '/media/dean/datastore/datasets/darknet_evaluate_pretrained_coco'\n",
    "COCO_DIRECTORY = os.path.join(WORKING_DIRECTORY, 'data', 'coco')\n",
    "COCO_ANNOTATIONS_FILE = os.path.join(COCO_DIRECTORY,'annotations' , 'instances_val2014.json')\n",
    "IMAGES_DIRECTORY = os.path.join(COCO_DIRECTORY, 'images','val2014')\n",
    "WEIGHTS_DIRECTORY = os.path.join(WORKING_DIRECTORY,'trained_weights')\n",
    "LABELS_DIRECTORY = os.path.join(COCO_DIRECTORY, 'labels','val2014')\n",
    "CATEGORY_NAMES = os.path.join(WORKING_DIRECTORY, 'data', 'coco.names')"
   ]
  },
  {
   "cell_type": "code",
   "execution_count": 2,
   "metadata": {},
   "outputs": [
    {
     "name": "stdout",
     "output_type": "stream",
     "text": [
      "loading annotations into memory...\n",
      "Done (t=10.47s)\n",
      "creating index...\n",
      "index created!\n",
      "291875\n"
     ]
    }
   ],
   "source": [
    "pretrained_coco = COCO(COCO_ANNOTATIONS_FILE)\n",
    "ann_ids = pretrained_coco.getAnnIds()\n",
    "print(len(ann_ids))"
   ]
  },
  {
   "cell_type": "code",
   "execution_count": 3,
   "metadata": {
    "scrolled": false
   },
   "outputs": [
    {
     "name": "stdout",
     "output_type": "stream",
     "text": [
      "Evaluating mAP on Training Run: /media/dean/datastore/datasets/darknet_evaluate_pretrained_coco/trained_weights/training_runs/run1_pretrained\n",
      "{'total_detection_time': '2031.000000 Seconds', 'mean_avg_precision': '65.64', 'class_stats': [{'class_id': 0, 'class_name': ' person', 'class_ap': '73.46'}, {'class_id': 1, 'class_name': ' bicycle', 'class_ap': '61.62'}, {'class_id': 2, 'class_name': ' car', 'class_ap': '66.13'}, {'class_id': 3, 'class_name': ' motorcycle', 'class_ap': '73.42'}, {'class_id': 4, 'class_name': ' airplane', 'class_ap': '79.32'}, {'class_id': 5, 'class_name': ' bus', 'class_ap': '85.18'}, {'class_id': 6, 'class_name': ' train', 'class_ap': '88.78'}, {'class_id': 7, 'class_name': ' truck', 'class_ap': '63.82'}, {'class_id': 8, 'class_name': ' boat', 'class_ap': '52.16'}, {'class_id': 9, 'class_name': ' traffic light', 'class_ap': '57.99'}, {'class_id': 10, 'class_name': ' fire hydrant', 'class_ap': '85.61'}, {'class_id': 11, 'class_name': ' stop sign', 'class_ap': '80.89'}, {'class_id': 12, 'class_name': ' parking meter', 'class_ap': '60.26'}, {'class_id': 13, 'class_name': ' bench', 'class_ap': '49.52'}, {'class_id': 14, 'class_name': ' bird', 'class_ap': '57.71'}, {'class_id': 15, 'class_name': ' cat', 'class_ap': '89.58'}, {'class_id': 16, 'class_name': ' dog', 'class_ap': '83.50'}, {'class_id': 17, 'class_name': ' horse', 'class_ap': '80.76'}, {'class_id': 18, 'class_name': ' sheep', 'class_ap': '65.43'}, {'class_id': 19, 'class_name': ' cow', 'class_ap': '66.33'}, {'class_id': 20, 'class_name': ' elephant', 'class_ap': '85.21'}, {'class_id': 21, 'class_name': ' bear', 'class_ap': '88.54'}, {'class_id': 22, 'class_name': ' zebra', 'class_ap': '85.35'}, {'class_id': 23, 'class_name': ' giraffe', 'class_ap': '87.60'}, {'class_id': 24, 'class_name': ' backpack', 'class_ap': '43.02'}, {'class_id': 25, 'class_name': ' umbrella', 'class_ap': '65.24'}, {'class_id': 26, 'class_name': ' handbag', 'class_ap': '35.24'}, {'class_id': 27, 'class_name': ' tie', 'class_ap': '60.99'}, {'class_id': 28, 'class_name': ' suitcase', 'class_ap': '65.26'}, {'class_id': 29, 'class_name': ' frisbee', 'class_ap': '86.58'}, {'class_id': 30, 'class_name': ' skis', 'class_ap': '51.47'}, {'class_id': 31, 'class_name': ' snowboard', 'class_ap': '63.75'}, {'class_id': 32, 'class_name': ' sports ball', 'class_ap': '65.17'}, {'class_id': 33, 'class_name': ' kite', 'class_ap': '54.75'}, {'class_id': 34, 'class_name': ' baseball bat', 'class_ap': '66.36'}, {'class_id': 35, 'class_name': ' baseball glove', 'class_ap': '67.92'}, {'class_id': 36, 'class_name': ' skateboard', 'class_ap': '78.12'}, {'class_id': 37, 'class_name': ' surfboard', 'class_ap': '72.26'}, {'class_id': 38, 'class_name': ' tennis racket', 'class_ap': '78.46'}, {'class_id': 39, 'class_name': ' bottle', 'class_ap': '55.77'}, {'class_id': 40, 'class_name': ' wine glass', 'class_ap': '64.03'}, {'class_id': 41, 'class_name': ' cup', 'class_ap': '64.67'}, {'class_id': 42, 'class_name': ' fork', 'class_ap': '53.28'}, {'class_id': 43, 'class_name': ' knife', 'class_ap': '42.71'}, {'class_id': 44, 'class_name': ' spoon', 'class_ap': '40.74'}, {'class_id': 45, 'class_name': ' bowl', 'class_ap': '63.86'}, {'class_id': 46, 'class_name': ' banana', 'class_ap': '47.14'}, {'class_id': 47, 'class_name': ' apple', 'class_ap': '41.19'}, {'class_id': 48, 'class_name': ' sandwich', 'class_ap': '70.97'}, {'class_id': 49, 'class_name': ' orange', 'class_ap': '45.88'}, {'class_id': 50, 'class_name': ' broccoli', 'class_ap': '50.30'}, {'class_id': 51, 'class_name': ' carrot', 'class_ap': '45.83'}, {'class_id': 52, 'class_name': ' hot dog', 'class_ap': '66.05'}, {'class_id': 53, 'class_name': ' pizza', 'class_ap': '77.24'}, {'class_id': 54, 'class_name': ' donut', 'class_ap': '67.29'}, {'class_id': 55, 'class_name': ' cake', 'class_ap': '70.16'}, {'class_id': 56, 'class_name': ' chair', 'class_ap': '56.92'}, {'class_id': 57, 'class_name': ' sofa', 'class_ap': '73.73'}, {'class_id': 59, 'class_name': ' bed', 'class_ap': '81.95'}, {'class_id': 60, 'class_name': ' dining table', 'class_ap': '58.30'}, {'class_id': 61, 'class_name': ' toilet', 'class_ap': '87.68'}, {'class_id': 62, 'class_name': ' tv monitor', 'class_ap': '83.12'}, {'class_id': 63, 'class_name': ' laptop', 'class_ap': '82.60'}, {'class_id': 64, 'class_name': ' mouse', 'class_ap': '76.08'}, {'class_id': 65, 'class_name': ' remote', 'class_ap': '62.14'}, {'class_id': 66, 'class_name': ' keyboard', 'class_ap': '76.93'}, {'class_id': 67, 'class_name': ' cell phone', 'class_ap': '59.12'}, {'class_id': 68, 'class_name': ' microwave', 'class_ap': '83.66'}, {'class_id': 69, 'class_name': ' oven', 'class_ap': '69.38'}, {'class_id': 70, 'class_name': ' toaster', 'class_ap': '32.19'}, {'class_id': 71, 'class_name': ' sink', 'class_ap': '67.13'}, {'class_id': 72, 'class_name': ' refrigerator', 'class_ap': '78.42'}, {'class_id': 73, 'class_name': ' book', 'class_ap': '28.60'}, {'class_id': 74, 'class_name': ' clock', 'class_ap': '78.18'}, {'class_id': 75, 'class_name': ' vase', 'class_ap': '65.95'}, {'class_id': 76, 'class_name': ' scissors', 'class_ap': '58.42'}, {'class_id': 77, 'class_name': ' teddy bear', 'class_ap': '71.41'}, {'class_id': 78, 'class_name': ' hair drier', 'class_ap': '22.82'}, {'class_id': 79, 'class_name': ' toothbrush', 'class_ap': '48.05'}]} \n",
      "\n",
      "\n",
      "[('run1_pretrained', OrderedDict([('yolov3_pretrain0001.weights', {'total_detection_time': '2031.000000 Seconds', 'mean_avg_precision': '65.64', 'class_stats': [{'class_id': 0, 'class_name': ' person', 'class_ap': '73.46'}, {'class_id': 1, 'class_name': ' bicycle', 'class_ap': '61.62'}, {'class_id': 2, 'class_name': ' car', 'class_ap': '66.13'}, {'class_id': 3, 'class_name': ' motorcycle', 'class_ap': '73.42'}, {'class_id': 4, 'class_name': ' airplane', 'class_ap': '79.32'}, {'class_id': 5, 'class_name': ' bus', 'class_ap': '85.18'}, {'class_id': 6, 'class_name': ' train', 'class_ap': '88.78'}, {'class_id': 7, 'class_name': ' truck', 'class_ap': '63.82'}, {'class_id': 8, 'class_name': ' boat', 'class_ap': '52.16'}, {'class_id': 9, 'class_name': ' traffic light', 'class_ap': '57.99'}, {'class_id': 10, 'class_name': ' fire hydrant', 'class_ap': '85.61'}, {'class_id': 11, 'class_name': ' stop sign', 'class_ap': '80.89'}, {'class_id': 12, 'class_name': ' parking meter', 'class_ap': '60.26'}, {'class_id': 13, 'class_name': ' bench', 'class_ap': '49.52'}, {'class_id': 14, 'class_name': ' bird', 'class_ap': '57.71'}, {'class_id': 15, 'class_name': ' cat', 'class_ap': '89.58'}, {'class_id': 16, 'class_name': ' dog', 'class_ap': '83.50'}, {'class_id': 17, 'class_name': ' horse', 'class_ap': '80.76'}, {'class_id': 18, 'class_name': ' sheep', 'class_ap': '65.43'}, {'class_id': 19, 'class_name': ' cow', 'class_ap': '66.33'}, {'class_id': 20, 'class_name': ' elephant', 'class_ap': '85.21'}, {'class_id': 21, 'class_name': ' bear', 'class_ap': '88.54'}, {'class_id': 22, 'class_name': ' zebra', 'class_ap': '85.35'}, {'class_id': 23, 'class_name': ' giraffe', 'class_ap': '87.60'}, {'class_id': 24, 'class_name': ' backpack', 'class_ap': '43.02'}, {'class_id': 25, 'class_name': ' umbrella', 'class_ap': '65.24'}, {'class_id': 26, 'class_name': ' handbag', 'class_ap': '35.24'}, {'class_id': 27, 'class_name': ' tie', 'class_ap': '60.99'}, {'class_id': 28, 'class_name': ' suitcase', 'class_ap': '65.26'}, {'class_id': 29, 'class_name': ' frisbee', 'class_ap': '86.58'}, {'class_id': 30, 'class_name': ' skis', 'class_ap': '51.47'}, {'class_id': 31, 'class_name': ' snowboard', 'class_ap': '63.75'}, {'class_id': 32, 'class_name': ' sports ball', 'class_ap': '65.17'}, {'class_id': 33, 'class_name': ' kite', 'class_ap': '54.75'}, {'class_id': 34, 'class_name': ' baseball bat', 'class_ap': '66.36'}, {'class_id': 35, 'class_name': ' baseball glove', 'class_ap': '67.92'}, {'class_id': 36, 'class_name': ' skateboard', 'class_ap': '78.12'}, {'class_id': 37, 'class_name': ' surfboard', 'class_ap': '72.26'}, {'class_id': 38, 'class_name': ' tennis racket', 'class_ap': '78.46'}, {'class_id': 39, 'class_name': ' bottle', 'class_ap': '55.77'}, {'class_id': 40, 'class_name': ' wine glass', 'class_ap': '64.03'}, {'class_id': 41, 'class_name': ' cup', 'class_ap': '64.67'}, {'class_id': 42, 'class_name': ' fork', 'class_ap': '53.28'}, {'class_id': 43, 'class_name': ' knife', 'class_ap': '42.71'}, {'class_id': 44, 'class_name': ' spoon', 'class_ap': '40.74'}, {'class_id': 45, 'class_name': ' bowl', 'class_ap': '63.86'}, {'class_id': 46, 'class_name': ' banana', 'class_ap': '47.14'}, {'class_id': 47, 'class_name': ' apple', 'class_ap': '41.19'}, {'class_id': 48, 'class_name': ' sandwich', 'class_ap': '70.97'}, {'class_id': 49, 'class_name': ' orange', 'class_ap': '45.88'}, {'class_id': 50, 'class_name': ' broccoli', 'class_ap': '50.30'}, {'class_id': 51, 'class_name': ' carrot', 'class_ap': '45.83'}, {'class_id': 52, 'class_name': ' hot dog', 'class_ap': '66.05'}, {'class_id': 53, 'class_name': ' pizza', 'class_ap': '77.24'}, {'class_id': 54, 'class_name': ' donut', 'class_ap': '67.29'}, {'class_id': 55, 'class_name': ' cake', 'class_ap': '70.16'}, {'class_id': 56, 'class_name': ' chair', 'class_ap': '56.92'}, {'class_id': 57, 'class_name': ' sofa', 'class_ap': '73.73'}, {'class_id': 59, 'class_name': ' bed', 'class_ap': '81.95'}, {'class_id': 60, 'class_name': ' dining table', 'class_ap': '58.30'}, {'class_id': 61, 'class_name': ' toilet', 'class_ap': '87.68'}, {'class_id': 62, 'class_name': ' tv monitor', 'class_ap': '83.12'}, {'class_id': 63, 'class_name': ' laptop', 'class_ap': '82.60'}, {'class_id': 64, 'class_name': ' mouse', 'class_ap': '76.08'}, {'class_id': 65, 'class_name': ' remote', 'class_ap': '62.14'}, {'class_id': 66, 'class_name': ' keyboard', 'class_ap': '76.93'}, {'class_id': 67, 'class_name': ' cell phone', 'class_ap': '59.12'}, {'class_id': 68, 'class_name': ' microwave', 'class_ap': '83.66'}, {'class_id': 69, 'class_name': ' oven', 'class_ap': '69.38'}, {'class_id': 70, 'class_name': ' toaster', 'class_ap': '32.19'}, {'class_id': 71, 'class_name': ' sink', 'class_ap': '67.13'}, {'class_id': 72, 'class_name': ' refrigerator', 'class_ap': '78.42'}, {'class_id': 73, 'class_name': ' book', 'class_ap': '28.60'}, {'class_id': 74, 'class_name': ' clock', 'class_ap': '78.18'}, {'class_id': 75, 'class_name': ' vase', 'class_ap': '65.95'}, {'class_id': 76, 'class_name': ' scissors', 'class_ap': '58.42'}, {'class_id': 77, 'class_name': ' teddy bear', 'class_ap': '71.41'}, {'class_id': 78, 'class_name': ' hair drier', 'class_ap': '22.82'}, {'class_id': 79, 'class_name': ' toothbrush', 'class_ap': '48.05'}]})]))]\n"
     ]
    }
   ],
   "source": [
    "# For Run in Training Runs    \n",
    "training_runs = os.listdir(os.path.join(WEIGHTS_DIRECTORY,'training_runs'))\n",
    "all_runs = []\n",
    "for run in training_runs:\n",
    "    print('Evaluating mAP on Training Run:', os.path.join(WEIGHTS_DIRECTORY,'training_runs',run))\n",
    "    # Grab iterations and sort checkpoints\n",
    "    d = {}\n",
    "    weights_files = glob.glob(os.path.join(WEIGHTS_DIRECTORY,'training_runs',run, '*.weights'))\n",
    "    \n",
    "    for fpath in weights_files:\n",
    "        fname = os.path.split(fpath)[-1]\n",
    "        iterations = fname[15:].split('.weights')[0]\n",
    "        d[fname] = int(iterations)\n",
    "    sorted_weights = OrderedDict(sorted(d.items(), key=lambda kv: kv[1]))\n",
    "    bdd_weights = OrderedDict()\n",
    "\n",
    "    for weights_file in sorted_weights.keys():\n",
    "        d = {}\n",
    "        d['iterations'] = sorted_weights[weights_file]\n",
    "        d['map_results_file'] = os.path.join(WEIGHTS_DIRECTORY, 'training_runs',run, weights_file+'.txt')\n",
    "        map_results_file = d['map_results_file']\n",
    "\n",
    "        if not os.path.exists(d['map_results_file']+'.backup'):\n",
    "            # Create annotations if labels directory not found\n",
    "            if not os.path.exists(os.path.join(COCO_DIRECTORY,'labels/val2014/image_list.txt')):\n",
    "                !java -jar $WORKING_DIRECTORY/data/cocotoyolo.jar \"{COCO_ANNOTATIONS_FILE}\" \"{IMAGES_DIRECTORY}/\" \"all\" \"{COCO_DIRECTORY}/labels/val2014\"\n",
    "                yolo_convert_output = os.path.join(COCO_DIRECTORY, 'labels','convert2yolo_results.txt')\n",
    "                #!python3 $WORKING_DIRECTORY/convert2Yolo/example.py --datasets COCO --img_path \"{IMAGES_DIRECTORY}\" --label \"{COCO_ANNOTATIONS_FILE}\" --convert_output_path \"{LABELS_DIRECTORY}\" --img_type \".jpg\" --manipast_path $LABELS_DIRECTORY --cls_list_file $CATEGORY_NAMES | tee -a $yolo_convert_output\n",
    "                \n",
    "            CURRENT_WEIGHT = os.path.join(WEIGHTS_DIRECTORY, 'training_runs',run, weights_file)\n",
    "            outfile = !cd $WORKING_DIRECTORY && ./darknet detector map cfg/coco.data cfg/yolov3_pretrained.cfg $CURRENT_WEIGHT | tee -a $map_results_file\n",
    "            #!cd $WORKING_DIRECTORY && ./darknet detector valid cfg/coco.data cfg/yolov3_pretrained.cfg $CURRENT_WEIGHT -gpus 0 | tee -a $map_results_file\n",
    "            with open(d['map_results_file']+'.backup',\"w+\") as f:\n",
    "                outfile = '\\n'.join(outfile)\n",
    "                f.write(outfile)\n",
    "\n",
    "        #Get mAP results from file\n",
    "        class_stats = []\n",
    "        map_stats = {}\n",
    "        with open(d['map_results_file']+'.backup') as openfile:\n",
    "            for line in openfile:\n",
    "                for part in line.split():\n",
    "                    if 'class_id' in part:\n",
    "                        class_map = {}\n",
    "                        id_tokens = line.split('class_id =')[1].split(',')\n",
    "                        class_map['class_id'] = int(id_tokens[0].strip())\n",
    "\n",
    "                        name_tokens = line.split('name =')[1].split(',')\n",
    "                        class_map['class_name'] = name_tokens[0]\n",
    "\n",
    "                        if 'ap =' in line:\n",
    "                            ap_tokens = line.split('ap =')[1].split(',')\n",
    "                            class_map['class_ap'] = ap_tokens[0].split('%')[0].strip()\n",
    "\n",
    "                        class_stats.append(class_map)\n",
    "                    elif '(mAP)' in part:\n",
    "                        tokens = line.split('(mAP) =')[1]\n",
    "                        map_stats['mean_avg_precision'] = tokens.split()[2].strip(',')\n",
    "                    elif 'Detection' in part:\n",
    "                        tokens = line.split(':')[1]\n",
    "                        total_detection_time = str(''.join(tokens)).strip()\n",
    "                        map_stats['total_detection_time'] = total_detection_time\n",
    "        map_stats['class_stats'] = class_stats\n",
    "        print(map_stats,'\\n\\n') \n",
    "        bdd_weights[weights_file] = map_stats\n",
    "\n",
    "    # Make sure Dictionary is made properly\n",
    "    all_runs.append((run, bdd_weights))\n",
    "print(all_runs)\n",
    "pickle_file = os.path.join(COCO_DIRECTORY, 'mAP_all_runs.pickle')\n",
    "pickle_dict = {'all_runs': all_runs}\n",
    "with open(pickle_file,\"wb\") as pickle_out:\n",
    "    pickle.dump(pickle_dict, pickle_out)   "
   ]
  },
  {
   "cell_type": "code",
   "execution_count": 4,
   "metadata": {},
   "outputs": [
    {
     "name": "stdout",
     "output_type": "stream",
     "text": [
      "1\n"
     ]
    }
   ],
   "source": [
    "print(len(bdd_weights))"
   ]
  }
 ],
 "metadata": {
  "kernelspec": {
   "display_name": "Python [conda env:ros-kache]",
   "language": "python",
   "name": "conda-env-ros-kache-py"
  },
  "language_info": {
   "codemirror_mode": {
    "name": "ipython",
    "version": 3
   },
   "file_extension": ".py",
   "mimetype": "text/x-python",
   "name": "python",
   "nbconvert_exporter": "python",
   "pygments_lexer": "ipython3",
   "version": "3.6.0"
  },
  "widgets": {
   "state": {},
   "version": "1.1.2"
  }
 },
 "nbformat": 4,
 "nbformat_minor": 2
}
