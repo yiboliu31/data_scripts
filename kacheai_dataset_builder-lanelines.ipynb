{
 "cells": [
  {
   "cell_type": "code",
   "execution_count": 1,
   "metadata": {},
   "outputs": [],
   "source": [
    "%load_ext autoreload\n",
    "%autoreload 2"
   ]
  },
  {
   "cell_type": "code",
   "execution_count": 2,
   "metadata": {},
   "outputs": [],
   "source": [
    "# from PIL import Image\n",
    "# import os, sys\n",
    "# import glob\n",
    "\n",
    "\n",
    "# IMAGE_EXTENSTION = '.jpg'\n",
    "# path = '/media/dean/datastore/datasets/darknet/data/construction_set4/coco/images/train2014'\n",
    "# imgs = glob.glob(os.path.join(path, '*'+IMAGE_EXTENSTION))\n",
    "\n",
    "# def resize():\n",
    "#     for img in imgs:\n",
    "#         if os.path.isfile(img):\n",
    "#             im = Image.open(img)\n",
    "#             if im.mode in (\"RGBA\", \"P\"):\n",
    "#                 im = im.convert(\"RGB\")\n",
    "#             f, e = os.path.splitext(img)\n",
    "#             #imResize = im.resize((1280,1080), Image.ANTIALIAS)\n",
    "#             im.save(f.replace('COCO_train2014_0000', '') + '.jpg', 'JPEG', quality=99)\n",
    "#             print('resized:', img)\n",
    "#             #!rm -f $img\n",
    "            \n",
    "# resize()"
   ]
  },
  {
   "cell_type": "code",
   "execution_count": 3,
   "metadata": {},
   "outputs": [],
   "source": [
    "import os\n",
    "import glob\n",
    "import shutil\n",
    "import hashlib\n",
    "from collections import OrderedDict\n",
    "import pandas as pd\n",
    "import time\n",
    "import datetime\n",
    "import pickle\n",
    "from utils import datasets\n",
    "from enum import Enum\n",
    "import pynmea2"
   ]
  },
  {
   "cell_type": "code",
   "execution_count": 4,
   "metadata": {},
   "outputs": [],
   "source": [
    "IMAGE_EXTENSTION = '.jpg'"
   ]
  },
  {
   "cell_type": "code",
   "execution_count": 5,
   "metadata": {},
   "outputs": [],
   "source": [
    "\n",
    "class Format(Enum):\n",
    "    atm = 0\n",
    "    ros = 1\n",
    "    gopro = 2\n",
    "    raw = 3"
   ]
  },
  {
   "cell_type": "code",
   "execution_count": 6,
   "metadata": {},
   "outputs": [],
   "source": [
    "# Try on small subset ..\n",
    "input_format = Format.raw\n",
    "skip_section = True\n",
    "\n",
    "## --- Raw Image Data Handler --- ##\n",
    "if input_format == Format.raw and not skip_section:\n",
    "    frames_dir = '/media/dean/datastore/datasets/kache_ai/frames_dev/'\n",
    "    save_dir = os.path.join(frames_dir,'kache_set/')\n",
    "    os.makedirs(save_dir, 0o755 , exist_ok = True )\n",
    "\n",
    "    img_data = []\n",
    "    lookup_table = OrderedDict()\n",
    "    img_dict = OrderedDict()\n",
    "    bag_path = os.path.join(frames_dir)\n",
    "\n",
    "    img_dict['bag_path'] = frames_dir\n",
    "    img_dict['frames'] = []\n",
    "    img_dict['csv_path'] = ''\n",
    "\n",
    "    # Get all images\n",
    "    imgs = glob.glob(os.path.join(bag_path,'**', '*'+IMAGE_EXTENSTION))\n",
    "    print(len(imgs))\n",
    "    for idx, img in enumerate(sorted(set(imgs))):\n",
    "        print(img)\n",
    "        d = OrderedDict()\n",
    "        d['frame_path'] = img\n",
    "        d['frame_idx'] = int(idx)\n",
    "        hex_val = os.path.abspath(d['frame_path']).replace('/', '^^')+'---'+os.path.abspath(img_dict['csv_path']).replace('/', '^^')\n",
    "        hash_object = hashlib.sha1(str.encode(hex_val))\n",
    "        hex_dig = hash_object.hexdigest()\n",
    "        shutil.copyfile(d['frame_path'], os.path.join(save_dir, str(hex_dig)+IMAGE_EXTENSTION))\n",
    "        d['dataset_path'] = os.path.join(save_dir, str(hex_dig)+IMAGE_EXTENSTION)\n",
    "        d['hash_key'] = hex_dig\n",
    "        d['hash_val'] = hex_val\n",
    "        d['frame'] = str(d['dataset_path'])\n",
    "        lookup_table[d['hash_key']] = d['hash_val'] \n",
    "        old_path = os.path.join(bag_path, 'frames', os.path.split(d['frame_path'])[-1])\n",
    "\n",
    "        if d.get('frame', None): img_dict['frames'].append(d)\n",
    "    if img_dict['frames']: img_data.append((bag_path,img_dict))\n",
    "\n",
    "\n",
    "## --- ROS Bag Handler --- ##\n",
    "elif input_format == Format.ros:\n",
    "    HEADER_ROW=['bag', 'time_sec', 'time_nsec', 'GPS', 'v_ego', 'key_event', 'frame_name']\n",
    "    frames_dir = '/media/dean/datastore/datasets/kache_ai/frames_dev/'\n",
    "    save_dir = os.path.join(frames_dir,'kache_set/')\n",
    "    os.makedirs(save_dir, 0o755 , exist_ok = True )\n",
    "\n",
    "    img_data = []\n",
    "    lookup_table = OrderedDict()\n",
    "    img_dict = OrderedDict()\n",
    "    bag_path = os.path.join(frames_dir)\n",
    "    img_dict['bag_path'] = frames_dir\n",
    "    img_dict['frames'] = []\n",
    "    img_dict['csv_path'] = os.path.join(bag_path, 'frames.csv')\n",
    "    csv_logger = pd.read_csv(img_dict['csv_path'], names=HEADER_ROW, skiprows=1)\n",
    "\n",
    "    # Get all images\n",
    "    imgs = glob.glob(os.path.join(bag_path,'**/', '*.JPG'))\n",
    "\n",
    "    #for idx, img in enumerate(sorted(set(imgs))):\n",
    "    for idx, img in enumerate(set(imgs)):\n",
    "        d = OrderedDict()\n",
    "        d['frame_path'] = img\n",
    "        d['frame_idx'] = int(idx)\n",
    "        hex_val = os.path.abspath(d['frame_path']).replace('/', '^^')+'---'+os.path.abspath(img_dict['csv_path']).replace('/', '^^')\n",
    "        hash_object = hashlib.sha1(str.encode(hex_val))\n",
    "        hex_dig = hash_object.hexdigest()\n",
    "        shutil.copyfile(d['frame_path'], os.path.join(save_dir, str(hex_dig)+'.jpg'))\n",
    "        d['dataset_path'] = os.path.join(save_dir, str(hex_dig)+'.jpg')\n",
    "        d['hash_key'] = hex_dig\n",
    "        d['hash_val'] = hex_val\n",
    "        lookup_table[d['hash_key']] = d['hash_val'] \n",
    "        old_path = os.path.join(bag_path, 'frames', os.path.split(d['frame_path'])[-1])\n",
    "\n",
    "        for log in [x for x in csv_logger.as_matrix() if os.path.join(bag_path, 'frames', x[6].rstrip('/')) == old_path.rstrip('/')]:\n",
    "            d['bag_name'] = log[0]\n",
    "            d['time_sec'] = log[1]\n",
    "            d['time_readable'] = time.ctime(int(log[1]))\n",
    "\n",
    "            d['time_nsec'] = log[2]\n",
    "            d['GPS'] = log[3]\n",
    "            d['v-ego'] = log[4]\n",
    "\n",
    "            d['key_event'] = log[5]\n",
    "            d['frame'] = log[6]\n",
    "\n",
    "        if d.get('frame', None): img_dict['frames'].append(d)\n",
    "    if img_dict['frames']: img_data.append((bag_path,img_dict))\n",
    "\n",
    "\n",
    "        \n",
    "        \n",
    "        \n",
    "        \n",
    "if not skip_section:        \n",
    "    pickle_file = os.path.join(save_dir, 'kacheai_logs.pkl')\n",
    "    pickle_dict = {'img_data':img_data,'lookup_table':lookup_table}\n",
    "    print('Saving to Pickle File:', pickle_file)\n",
    "    with open(pickle_file,\"wb\") as pickle_out:\n",
    "        pickle.dump(pickle_dict, pickle_out)\n",
    "    print(img_data)\n",
    "\n"
   ]
  },
  {
   "cell_type": "code",
   "execution_count": 7,
   "metadata": {
    "scrolled": true
   },
   "outputs": [
    {
     "name": "stdout",
     "output_type": "stream",
     "text": [
      "DATA_CONFIG: /media/dean/datastore/datasets/kache_ai/frames_dev/kache_set/scalabel_files/inference/cfg/bdd100k.data\n",
      "MODEL_CONFIG: /media/dean/datastore/datasets/kache_ai/frames_dev/kache_set/scalabel_files/inference/cfg/yolov3-bdd100k.cfg\n",
      "MODEL_WEIGHTS: /media/dean/datastore/datasets/kache_ai/frames_dev/kache_set/scalabel_files/inference/models/yolov3-bdd100k_6327.weights\n",
      "Initializing Annotation Pipeline via Darknet ... \\o/ \\o/\n",
      "Saving to Pickle File: kache_ai_frames_dev_kache_set_kacheai_logs.pkl.pkl\n",
      "Length of COCO Images 4687\n",
      "Length of COCO Annotations: 10532\n",
      "loading annotations into memory...\n",
      "Done (t=0.08s)\n",
      "creating index...\n",
      "index created!\n",
      "\n",
      "########### DATASET DISTRIBUTION: ###########\n",
      "\n",
      "CONSTRUCT-POST | Annotations: 10532  | Images:  3321\n",
      "\n",
      "################################################\n",
      "\n"
     ]
    }
   ],
   "source": [
    "WORKING_DIR = '/media/dean/datastore/datasets/kache_ai/frames_dev/kache_set/'\n",
    "kache_set = datasets.DataFormatter(annotations_list = os.path.join(WORKING_DIR,'kacheai_logs.pkl'), image_list = WORKING_DIR, input_format = datasets.Format.kache,\n",
    "                                 output_path = os.path.join(WORKING_DIR,'scalabel_files/'),\n",
    "                                 trainer_prefix = 'COCO_train2014_0000', \n",
    "                                 s3_bucket = 'kache-scalabel/kache_ai/frames/', check_s3 = False, use_static_categories = True)"
   ]
  },
  {
   "cell_type": "code",
   "execution_count": null,
   "metadata": {
    "scrolled": true
   },
   "outputs": [],
   "source": [
    "# WORKING_DIR = '/media/dean/datastore/datasets/kache_ai/frames_dev/kache_set/'\n",
    "\n",
    "# !aws s3 sync $WORKING_DIR s3://kache-scalabel/kache_ai/frames/"
   ]
  },
  {
   "cell_type": "code",
   "execution_count": 9,
   "metadata": {},
   "outputs": [],
   "source": [
    "kache_set.export(format = datasets.Format.scalabel, paginate = False)"
   ]
  },
  {
   "cell_type": "code",
   "execution_count": 10,
   "metadata": {},
   "outputs": [
    {
     "ename": "KeyError",
     "evalue": "'index'",
     "output_type": "error",
     "traceback": [
      "\u001b[0;31m---------------------------------------------------------------------------\u001b[0m",
      "\u001b[0;31mKeyError\u001b[0m                                  Traceback (most recent call last)",
      "\u001b[0;32m<ipython-input-10-c97141444616>\u001b[0m in \u001b[0;36m<module>\u001b[0;34m()\u001b[0m\n\u001b[0;32m----> 1\u001b[0;31m \u001b[0mkache_set\u001b[0m\u001b[0;34m.\u001b[0m\u001b[0mexport\u001b[0m\u001b[0;34m(\u001b[0m\u001b[0mformat\u001b[0m \u001b[0;34m=\u001b[0m \u001b[0mdatasets\u001b[0m\u001b[0;34m.\u001b[0m\u001b[0mFormat\u001b[0m\u001b[0;34m.\u001b[0m\u001b[0mscalabel\u001b[0m\u001b[0;34m,\u001b[0m \u001b[0mpaginate\u001b[0m \u001b[0;34m=\u001b[0m \u001b[0;32mTrue\u001b[0m\u001b[0;34m)\u001b[0m\u001b[0;34m\u001b[0m\u001b[0m\n\u001b[0m",
      "\u001b[0;32m/media/dean/datastore/datasets/Scripts/utils/datasets.py\u001b[0m in \u001b[0;36mexport\u001b[0;34m(self, format, force, paginate)\u001b[0m\n\u001b[1;32m   1212\u001b[0m                 \u001b[0mimg_data\u001b[0m \u001b[0;34m=\u001b[0m \u001b[0mlist\u001b[0m\u001b[0;34m(\u001b[0m\u001b[0mself\u001b[0m\u001b[0;34m.\u001b[0m\u001b[0m_images\u001b[0m\u001b[0;34m.\u001b[0m\u001b[0mvalues\u001b[0m\u001b[0;34m(\u001b[0m\u001b[0;34m)\u001b[0m\u001b[0;34m)\u001b[0m\u001b[0;34m\u001b[0m\u001b[0m\n\u001b[1;32m   1213\u001b[0m                 \u001b[0;32mfor\u001b[0m \u001b[0mi\u001b[0m\u001b[0;34m,\u001b[0m \u001b[0mchunk\u001b[0m \u001b[0;32min\u001b[0m \u001b[0menumerate\u001b[0m\u001b[0;34m(\u001b[0m\u001b[0mself\u001b[0m\u001b[0;34m.\u001b[0m\u001b[0mdata_grouper\u001b[0m\u001b[0;34m(\u001b[0m\u001b[0mself\u001b[0m\u001b[0;34m.\u001b[0m\u001b[0m_images\u001b[0m\u001b[0;34m.\u001b[0m\u001b[0mvalues\u001b[0m\u001b[0;34m(\u001b[0m\u001b[0;34m)\u001b[0m\u001b[0;34m,\u001b[0m \u001b[0;36m1000\u001b[0m\u001b[0;34m)\u001b[0m\u001b[0;34m)\u001b[0m\u001b[0;34m:\u001b[0m\u001b[0;34m\u001b[0m\u001b[0m\n\u001b[0;32m-> 1214\u001b[0;31m                     \u001b[0mtmp\u001b[0m \u001b[0;34m=\u001b[0m\u001b[0msorted\u001b[0m\u001b[0;34m(\u001b[0m\u001b[0mlist\u001b[0m\u001b[0;34m(\u001b[0m\u001b[0mcopy\u001b[0m\u001b[0;34m.\u001b[0m\u001b[0mdeepcopy\u001b[0m\u001b[0;34m(\u001b[0m\u001b[0mchunk\u001b[0m\u001b[0;34m)\u001b[0m\u001b[0;34m)\u001b[0m\u001b[0;34m,\u001b[0m \u001b[0mkey\u001b[0m\u001b[0;34m=\u001b[0m\u001b[0mitemgetter\u001b[0m\u001b[0;34m(\u001b[0m\u001b[0;34m'index'\u001b[0m\u001b[0;34m)\u001b[0m\u001b[0;34m)\u001b[0m\u001b[0;34m\u001b[0m\u001b[0m\n\u001b[0m\u001b[1;32m   1215\u001b[0m                     \u001b[0mlblidx\u001b[0m \u001b[0;34m=\u001b[0m \u001b[0;36m0\u001b[0m\u001b[0;34m\u001b[0m\u001b[0m\n\u001b[1;32m   1216\u001b[0m                     \u001b[0;32mfor\u001b[0m \u001b[0mtmpidx\u001b[0m\u001b[0;34m,\u001b[0m \u001b[0md\u001b[0m \u001b[0;32min\u001b[0m \u001b[0menumerate\u001b[0m\u001b[0;34m(\u001b[0m\u001b[0mtmp\u001b[0m\u001b[0;34m)\u001b[0m\u001b[0;34m:\u001b[0m\u001b[0;34m\u001b[0m\u001b[0m\n",
      "\u001b[0;31mKeyError\u001b[0m: 'index'"
     ]
    }
   ],
   "source": [
    "kache_set.export(format = datasets.Format.scalabel, paginate = True)"
   ]
  },
  {
   "cell_type": "code",
   "execution_count": 7,
   "metadata": {
    "scrolled": true
   },
   "outputs": [
    {
     "name": "stdout",
     "output_type": "stream",
     "text": [
      "DATA_CONFIG: /media/dean/datastore/datasets/kache_ai/frames_dev/kache_set/scalabel_files/inference/cfg/bdd100k.data\n",
      "MODEL_CONFIG: /media/dean/datastore/datasets/kache_ai/frames_dev/kache_set/scalabel_files/inference/cfg/yolov3-bdd100k.cfg\n",
      "MODEL_WEIGHTS: /media/dean/datastore/datasets/kache_ai/frames_dev/kache_set/scalabel_files/inference/models/yolov3-bdd100k_6327.weights\n",
      "Initializing Annotation Pipeline via Darknet ... \\o/ \\o/\n",
      "Saving to Pickle File: kache_ai_frames_dev_kache_set_kacheai_logs.pkl.pkl\n",
      "Length of COCO Images 4687\n",
      "Length of COCO Annotations: 10532\n",
      "loading annotations into memory...\n",
      "Done (t=0.08s)\n",
      "creating index...\n",
      "index created!\n",
      "\n",
      "########### DATASET DISTRIBUTION: ###########\n",
      "\n",
      "CONSTRUCT-POST | Annotations: 10532  | Images:  3321\n",
      "\n",
      "################################################\n",
      "\n"
     ]
    }
   ],
   "source": [
    "WORKING_DIR = '/media/dean/datastore/datasets/kache_ai/frames_dev/kache_set/'\n",
    "kache_set_with10cats = datasets.DataFormatter(annotations_list = os.path.join(WORKING_DIR,'kacheai_logs.pkl'), image_list = WORKING_DIR, input_format = datasets.Format.kache,\n",
    "                                 output_path = os.path.join(WORKING_DIR,'scalabel_files_10cats/'),\n",
    "                                 trainer_prefix = 'COCO_train2014_0000', \n",
    "                                 s3_bucket = 'kache-scalabel/kache_ai/frames/', check_s3 = False, use_static_categories = True)"
   ]
  },
  {
   "cell_type": "code",
   "execution_count": null,
   "metadata": {},
   "outputs": [],
   "source": []
  },
  {
   "cell_type": "code",
   "execution_count": null,
   "metadata": {},
   "outputs": [],
   "source": [
    "kache_set.merge(kache_set_with10cats, include=['CONSTRUCT-BARREL', 'trailer',  'CONSTRUCT-CONE','CONSTRUCT-EQUIPMENT', 'CONSTRUCT-POLE', 'CONSTRUCT-POST', 'CONSTRUCT-SIGN', 'person', 'train', 'truck', 'car', 'traffic light', 'traffic light-red','traffic light-amber','traffic light-green', 'bus', 'bike', 'motor', 'traffic sign','traffic sign-slow_sign', 'rider','traffic sign-speed_sign', 'traffic sign-stop_sign'], reject_new_categories = False)"
   ]
  },
  {
   "cell_type": "code",
   "execution_count": null,
   "metadata": {},
   "outputs": [],
   "source": []
  },
  {
   "cell_type": "code",
   "execution_count": null,
   "metadata": {},
   "outputs": [],
   "source": [
    "# input_format = Format.ros"
   ]
  },
  {
   "cell_type": "code",
   "execution_count": null,
   "metadata": {
    "scrolled": false
   },
   "outputs": [],
   "source": [
    "# ## --- ROS Bag Handler --- ##\n",
    "# if input_format == Format.ros:\n",
    "\n",
    "#     HEADER_ROW=['bag', 'time_sec', 'time_nsec', 'GPS', 'v_ego', 'key_event', 'frame_name']\n",
    "#     frames_dir = '/media/dean/datastore1/datasets/kache_ai/frames/'\n",
    "#     bag_dirs = os.listdir(frames_dir)\n",
    "#     save_dir = os.path.join(frames_dir,'kache_set/')\n",
    "#     os.makedirs(save_dir, 0o755 , exist_ok = True )\n",
    "\n",
    "#     img_data = []\n",
    "#     lookup_table = {}\n",
    "#     # if not os.path.exists(os.path.join())\n",
    "#     for bag in bag_dirs:\n",
    "#         if frames_dir != save_dir or '.csv' not in frames_dir:\n",
    "#             img_dict = {}\n",
    "#             bag_path = os.path.join(frames_dir, bag)\n",
    "#             img_dict['bag_path'] = frames_dir\n",
    "#             img_dict['frames'] = []\n",
    "#             img_dict['csv_path'] = os.path.join(bag_path, 'frames.csv')\n",
    "#             if os.path.exists(img_dict['csv_path']):\n",
    "#                 csv_logger = pd.read_csv(img_dict['csv_path'], names=HEADER_ROW, skiprows=1)\n",
    "\n",
    "#                 # Get all images\n",
    "#                 imgs = glob.glob(os.path.join(bag_path,'**/', '*.jpg'))\n",
    "\n",
    "#                 for img in sorted(set(imgs)):\n",
    "#                     d = {}\n",
    "#                     d['frame_path'] = img\n",
    "#                     hex_val = os.path.abspath(d['frame_path']).replace('/', '^^')+'---'+os.path.abspath(img_dict['csv_path']).replace('/', '^^')\n",
    "#                     hash_object = hashlib.sha1(str.encode(hex_val))\n",
    "#                     hex_dig = hash_object.hexdigest()\n",
    "#                     shutil.copyfile(d['frame_path'], os.path.join(save_dir, str(hex_dig)+'.jpg'))\n",
    "#                     d['dataset_path'] = os.path.join(save_dir, str(hex_dig)+'.jpg')\n",
    "#                     d['hash_key'] = hex_dig\n",
    "#                     d['hash_val'] = hex_val\n",
    "#                     lookup_table[d['hash_key']] = d['hash_val'] \n",
    "#                     old_path = os.path.join(bag_path, 'frames', os.path.split(d['frame_path'])[-1])\n",
    "\n",
    "#                     for log in [x for x in csv_logger.as_matrix() if os.path.join(bag_path, 'frames', x[6].rstrip('/')) == old_path.rstrip('/')]:\n",
    "#                         d['bag_name'] = log[0]\n",
    "#                         d['time_sec'] = log[1]\n",
    "#                         d['time_readable'] = time.ctime(int(log[1]))\n",
    "\n",
    "#                         d['time_nsec'] = log[2]\n",
    "#                         d['GPS'] = log[3]\n",
    "#                         d['v-ego'] = log[4]\n",
    "#                         d['latitude'] = None\n",
    "#                         d['longitude'] = None\n",
    "#                         if d['GPS']:\n",
    "#                             msg = pynmea2.parse(d['GPS'])\n",
    "#                             d['latitude'] = msg.lat\n",
    "#                             d['longitude'] = msg.lon\n",
    "\n",
    "#                         d['key_event'] = log[5]\n",
    "#                         d['frame'] = log[6]\n",
    "\n",
    "#                     if d.get('frame', None): img_dict['frames'].append(d)\n",
    "#                 if img_dict['frames']: img_data.append((bag_path,img_dict))\n",
    "\n",
    "# pickle_file = os.path.join(save_dir, 'kacheai_logs.pickle')\n",
    "# pickle_dict = {'img_data':img_data,'lookup_table':lookup_table}\n",
    "# print('Saving to Pickle File:', pickle_file)\n",
    "# with open(pickle_file,\"wb\") as pickle_out:\n",
    "#     pickle.dump(pickle_dict, pickle_out)\n",
    "\n"
   ]
  },
  {
   "cell_type": "code",
   "execution_count": null,
   "metadata": {},
   "outputs": [],
   "source": [
    "# WORKING_DIR = '/media/dean/datastore1/datasets/kache_ai/frames/kache_set/'\n",
    "# kache_set = datasets.DataFormatter(annotations_list = '/media/dean/datastore1/datasets/kache_ai/frames/kache_set/kacheai_logs.pickle', \n",
    "#                                    image_list = '/media/dean/datastore/datasets1/kache_ai/frames/kache_set/', \n",
    "#                                    input_format = datasets.Format.kache, output_path = os.path.join(WORKING_DIR,'scalabel_files'), use_cache = True,\n",
    "#                                    trainer_prefix = 'COCO_train2014_0000', s3_bucket = 'kache-scalabel/kache_ai/frames/', check_s3 = False, use_static_categories = True)"
   ]
  },
  {
   "cell_type": "code",
   "execution_count": null,
   "metadata": {},
   "outputs": [],
   "source": [
    "# kache_set.export(format = datasets.Format.scalabel, paginate = False)"
   ]
  },
  {
   "cell_type": "code",
   "execution_count": null,
   "metadata": {},
   "outputs": [],
   "source": [
    "# kache_set.export(format = datasets.Format.scalabel, paginate = True)"
   ]
  },
  {
   "cell_type": "code",
   "execution_count": null,
   "metadata": {},
   "outputs": [],
   "source": [
    "# !cp /media/dean/datastore1/datasets/kache_ai/frames/kache_set/scalabel_files/bdd100k/annotations/bdd100k_altered_annotations.json /media/dean/datastore1/data-pipeline-master/data_processing/data/fixtures/kache_construction_prelabel_v1.json"
   ]
  },
  {
   "cell_type": "code",
   "execution_count": null,
   "metadata": {},
   "outputs": [],
   "source": [
    "# !cp /media/dean/datastore1/datasets/darknet/data/bdd_set/bdd100k/annotations/bdd100k_altered_annotations.json /media/dean/datastore1/data-pipeline-master/data_processing/data/fixtures/bdd100k_train_prelabel.json"
   ]
  },
  {
   "cell_type": "code",
   "execution_count": null,
   "metadata": {},
   "outputs": [],
   "source": [
    "# !cp /media/dean/datastore1/datasets/darknet/data/bdd_val_set/bdd100k/annotations/bdd100k_altered_annotations.json /media/dean/datastore1/data-pipeline-master/data_processing/data/fixtures/bdd100k_val_prelabel.json"
   ]
  },
  {
   "cell_type": "code",
   "execution_count": null,
   "metadata": {},
   "outputs": [],
   "source": [
    "# !cp /media/dean/datastore1/datasets/darknet/data/coco_set/bdd100k/annotations/bdd100k_altered_annotations.json /media/dean/datastore1/data-pipeline-master/data_processing/data/fixtures/coco_train2014_prelabel.json"
   ]
  },
  {
   "cell_type": "code",
   "execution_count": null,
   "metadata": {},
   "outputs": [],
   "source": [
    "# !cp /media/dean/datastore1/datasets/darknet/data/coco_val_set/bdd100k/annotations/bdd100k_altered_annotations.json /media/dean/datastore1/data-pipeline-master/data_processing/data/fixtures/coco_val2014_prelabel.json"
   ]
  },
  {
   "cell_type": "code",
   "execution_count": null,
   "metadata": {},
   "outputs": [],
   "source": [
    "# !cd /media/dean/datastore1/data-pipeline-master/ && sudo docker-compose up import_json"
   ]
  },
  {
   "cell_type": "code",
   "execution_count": null,
   "metadata": {},
   "outputs": [],
   "source": []
  },
  {
   "cell_type": "code",
   "execution_count": null,
   "metadata": {},
   "outputs": [],
   "source": []
  },
  {
   "cell_type": "code",
   "execution_count": null,
   "metadata": {},
   "outputs": [],
   "source": []
  },
  {
   "cell_type": "code",
   "execution_count": null,
   "metadata": {},
   "outputs": [],
   "source": []
  },
  {
   "cell_type": "code",
   "execution_count": null,
   "metadata": {},
   "outputs": [],
   "source": []
  }
 ],
 "metadata": {
  "kernelspec": {
   "display_name": "Python [default]",
   "language": "python",
   "name": "python3"
  },
  "language_info": {
   "codemirror_mode": {
    "name": "ipython",
    "version": 3
   },
   "file_extension": ".py",
   "mimetype": "text/x-python",
   "name": "python",
   "nbconvert_exporter": "python",
   "pygments_lexer": "ipython3",
   "version": "3.6.0"
  }
 },
 "nbformat": 4,
 "nbformat_minor": 2
}
