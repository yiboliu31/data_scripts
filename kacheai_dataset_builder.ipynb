{
 "cells": [
  {
   "cell_type": "code",
   "execution_count": 28,
   "metadata": {
    "scrolled": false
   },
   "outputs": [
    {
     "name": "stderr",
     "output_type": "stream",
     "text": [
      "/home/dean/miniconda3/envs/ros-kache/lib/python3.6/site-packages/ipykernel/__main__.py:43: FutureWarning: Method .as_matrix will be removed in a future version. Use .values instead.\n"
     ]
    },
    {
     "name": "stdout",
     "output_type": "stream",
     "text": [
      "Saving to Pickle File: /media/dean/deans_data/construction_frames/kache_set/kacheai_logs.pickle\n"
     ]
    }
   ],
   "source": [
    "import os\n",
    "import glob\n",
    "import shutil\n",
    "import hashlib\n",
    "from collections import OrderedDict\n",
    "import pandas as pd\n",
    "import time\n",
    "\n",
    "HEADER_ROW=['bag', 'time_sec', 'time_nsec', 'GPS', 'v_ego', 'key_event', 'frame_name']\n",
    "frames_dir = '/media/dean/deans_data/construction_frames/'\n",
    "bag_dirs = os.listdir(frames_dir)\n",
    "save_dir = os.path.join(frames_dir,'kache_set')\n",
    "os.makedirs(save_dir, 0o755 , exist_ok = True )\n",
    "\n",
    "img_data = []\n",
    "lookup_table = {}\n",
    "\n",
    "for bag in bag_dirs:\n",
    "    if os.path.join(frames_dir,bag) != save_dir:\n",
    "        img_dict = {}\n",
    "        bag_path = os.path.join(frames_dir, bag)\n",
    "        img_dict['bag_path'] = bag_path\n",
    "        img_dict['frames'] = []\n",
    "        img_dict['csv_path'] = os.path.join(bag_path, 'frames.csv')\n",
    "        csv_logger = pd.read_csv(img_dict['csv_path'], names=HEADER_ROW, skiprows=1)\n",
    "\n",
    "        # Get all images\n",
    "        imgs = glob.glob(os.path.join(bag_path,'**/', '*.jpg'))\n",
    "\n",
    "        for img in imgs:\n",
    "            d = {}\n",
    "            d['frame_path'] = img\n",
    "            new_path = os.path.split(os.path.split(os.path.split(img)[0])[0])[1].rstrip('/')+'-'+os.path.split(img)[1]\n",
    "            hash_object = hashlib.sha1(str.encode(new_path))\n",
    "            hex_dig = hash_object.hexdigest()\n",
    "            #shutil.copyfile(img, os.path.join(save_dir, str(hex_dig)+'.jpg'))\n",
    "            d['dataset_path'] = os.path.join(save_dir, str(hex_dig)+'.jpg')\n",
    "            d['hash_key'] = hex_dig\n",
    "            d['hash_val'] = new_path\n",
    "            lookup_table[d['hash_key']] = d['hash_val'] \n",
    "            old_path = os.path.join(bag_path, 'frames', d['frame_path'].split('-')[-1])\n",
    "\n",
    "            for log in [x for x in csv_logger.as_matrix() if os.path.join(bag_path, 'frames', x[6].rstrip('/')) == old_path.rstrip('/')]:\n",
    "                d['bag_name'] = log[0]\n",
    "                d['time_sec'] = log[1]\n",
    "                d['time_readable'] = time.ctime(int(log[1]))\n",
    "\n",
    "                d['time_nsec'] = log[2]\n",
    "                d['GPS'] = log[3]\n",
    "                d['v-ego'] = log[4]\n",
    "                                    \n",
    "                d['key_event'] = log[5]\n",
    "                d['frame'] = log[6]\n",
    "\n",
    "            img_dict['frames'].append(d)\n",
    "        if img_dict['frames']: img_data.append((bag_path,img_dict))\n",
    "\n",
    "pickle_file = os.path.join(save_dir, 'kacheai_logs'+'.pickle')\n",
    "pickle_dict = {'img_data':img_data,'lookup_table':lookup_table}\n",
    "print('Saving to Pickle File:', pickle_file)\n",
    "with open(pickle_file,\"wb\") as pickle_out:\n",
    "    pickle.dump(pickle_dict, pickle_out)\n",
    "\n"
   ]
  },
  {
   "cell_type": "code",
   "execution_count": 29,
   "metadata": {
    "scrolled": true
   },
   "outputs": [
    {
     "name": "stdout",
     "output_type": "stream",
     "text": [
      "('/media/dean/deans_data/construction_frames/vidlog-18-09-28', {'bag_path': '/media/dean/deans_data/construction_frames/vidlog-18-09-28', 'frames': [{'frame_path': '/media/dean/deans_data/construction_frames/vidlog-18-09-28/frames/frames-frames-frame0005.jpg', 'dataset_path': '/media/dean/deans_data/construction_frames/kache_set/626c8348a139d312f94b4183bb019b7608d6c801.jpg', 'hash_key': '626c8348a139d312f94b4183bb019b7608d6c801', 'hash_val': 'vidlog-18-09-28-frames-frames-frame0005.jpg', 'bag_name': 'bagfile_18-09-28_1529_1.bag', 'time_sec': 1538174201, 'time_readable': 'Fri Sep 28 15:36:41 2018', 'time_nsec': 440282106, 'GPS': '$GNGGA,223641.40,3741.66247,N,12223.50050,W,1,12,0.72,-3.7,M,-29.8,M,,*55\\r', 'v-ego': 26.26666641235352, 'key_event': 'c', 'frame': 'frame0005.jpg'}, {'frame_path': '/media/dean/deans_data/construction_frames/vidlog-18-09-28/frames/frames-frame0003.jpg', 'dataset_path': '/media/dean/deans_data/construction_frames/kache_set/b016c08d8ba018dfd9621ae681567a9aad769569.jpg', 'hash_key': 'b016c08d8ba018dfd9621ae681567a9aad769569', 'hash_val': 'vidlog-18-09-28-frames-frame0003.jpg', 'bag_name': 'bagfile_18-09-28_1529_1.bag', 'time_sec': 1538174201, 'time_readable': 'Fri Sep 28 15:36:41 2018', 'time_nsec': 73020935, 'GPS': '$GNGGA,223641.00,3741.65682,N,12223.49924,W,1,12,0.72,-3.6,M,-29.8,M,,*5C\\r', 'v-ego': 26.13194465637207, 'key_event': 'c', 'frame': 'frame0003.jpg'}, {'frame_path': '/media/dean/deans_data/construction_frames/vidlog-18-09-28/frames/frames-frame0007.jpg', 'dataset_path': '/media/dean/deans_data/construction_frames/kache_set/2ee5c8689ad0ecfa3ee52094a669aef093f9894e.jpg', 'hash_key': '2ee5c8689ad0ecfa3ee52094a669aef093f9894e', 'hash_val': 'vidlog-18-09-28-frames-frame0007.jpg', 'bag_name': 'bagfile_18-09-28_1529_1.bag', 'time_sec': 1538174201, 'time_readable': 'Fri Sep 28 15:36:41 2018', 'time_nsec': 815710067, 'GPS': '$GNGGA,223641.80,3741.66813,N,12223.50179,W,1,12,0.72,-3.8,M,-29.8,M,,*57\\r', 'v-ego': 26.34027862548828, 'key_event': 'c', 'frame': 'frame0007.jpg'}, {'frame_path': '/media/dean/deans_data/construction_frames/vidlog-18-09-28/frames/frames-frames-frame0002.jpg', 'dataset_path': '/media/dean/deans_data/construction_frames/kache_set/966679943387d8423132eead34da650bd9ae0ea3.jpg', 'hash_key': '966679943387d8423132eead34da650bd9ae0ea3', 'hash_val': 'vidlog-18-09-28-frames-frames-frame0002.jpg', 'bag_name': 'bagfile_18-09-28_1529_1.bag', 'time_sec': 1538174200, 'time_readable': 'Fri Sep 28 15:36:40 2018', 'time_nsec': 932573080, 'GPS': '$GNGGA,223640.90,3741.65541,N,12223.49892,W,1,12,0.72,-3.6,M,-29.8,M,,*54\\r', 'v-ego': 26.15972137451172, 'key_event': 'c', 'frame': 'frame0002.jpg'}, {'frame_path': '/media/dean/deans_data/construction_frames/vidlog-18-09-28/frames/frame0009.jpg', 'dataset_path': '/media/dean/deans_data/construction_frames/kache_set/4714e82c2ca6945f5874b1d9a84aeb5f00ead360.jpg', 'hash_key': '4714e82c2ca6945f5874b1d9a84aeb5f00ead360', 'hash_val': 'vidlog-18-09-28-frame0009.jpg'}, {'frame_path': '/media/dean/deans_data/construction_frames/vidlog-18-09-28/frames/frames-frames-frame0001.jpg', 'dataset_path': '/media/dean/deans_data/construction_frames/kache_set/5ceb71cca343f0dab8accfde0c55b1ae9c5e121b.jpg', 'hash_key': '5ceb71cca343f0dab8accfde0c55b1ae9c5e121b', 'hash_val': 'vidlog-18-09-28-frames-frames-frame0001.jpg', 'bag_name': 'bagfile_18-09-28_1529_1.bag', 'time_sec': 1538174200, 'time_readable': 'Fri Sep 28 15:36:40 2018', 'time_nsec': 672276020, 'GPS': '$GNGGA,223640.60,3741.65119,N,12223.49796,W,1,12,0.72,-3.5,M,-29.8,M,,*5A\\r', 'v-ego': 26.13750076293945, 'key_event': 'c', 'frame': 'frame0001.jpg'}, {'frame_path': '/media/dean/deans_data/construction_frames/vidlog-18-09-28/frames/frame0007.jpg', 'dataset_path': '/media/dean/deans_data/construction_frames/kache_set/bba8d54e40ebbf4cf726e8af61e5279e5012578c.jpg', 'hash_key': 'bba8d54e40ebbf4cf726e8af61e5279e5012578c', 'hash_val': 'vidlog-18-09-28-frame0007.jpg'}, {'frame_path': '/media/dean/deans_data/construction_frames/vidlog-18-09-28/frames/frames-frames-frame0003.jpg', 'dataset_path': '/media/dean/deans_data/construction_frames/kache_set/1d3028df95ee2e687082c76441d5d6053a73d66f.jpg', 'hash_key': '1d3028df95ee2e687082c76441d5d6053a73d66f', 'hash_val': 'vidlog-18-09-28-frames-frames-frame0003.jpg', 'bag_name': 'bagfile_18-09-28_1529_1.bag', 'time_sec': 1538174201, 'time_readable': 'Fri Sep 28 15:36:41 2018', 'time_nsec': 73020935, 'GPS': '$GNGGA,223641.00,3741.65682,N,12223.49924,W,1,12,0.72,-3.6,M,-29.8,M,,*5C\\r', 'v-ego': 26.13194465637207, 'key_event': 'c', 'frame': 'frame0003.jpg'}, {'frame_path': '/media/dean/deans_data/construction_frames/vidlog-18-09-28/frames/frames-frames-frame0000.jpg', 'dataset_path': '/media/dean/deans_data/construction_frames/kache_set/38d01efdbd246f185dd33049ebf84335038cc854.jpg', 'hash_key': '38d01efdbd246f185dd33049ebf84335038cc854', 'hash_val': 'vidlog-18-09-28-frames-frames-frame0000.jpg', 'bag_name': 'bagfile_18-09-28_1529_1.bag', 'time_sec': 1538174200, 'time_readable': 'Fri Sep 28 15:36:40 2018', 'time_nsec': 473982095, 'GPS': '$GNGGA,223640.40,3741.64838,N,12223.49734,W,1,12,0.72,-3.5,M,-29.8,M,,*5B\\r', 'v-ego': 26.04999923706055, 'key_event': 'c', 'frame': 'frame0000.jpg'}, {'frame_path': '/media/dean/deans_data/construction_frames/vidlog-18-09-28/frames/frames-frame0002.jpg', 'dataset_path': '/media/dean/deans_data/construction_frames/kache_set/a4123296eb655733584192d7977321d5898b2c5e.jpg', 'hash_key': 'a4123296eb655733584192d7977321d5898b2c5e', 'hash_val': 'vidlog-18-09-28-frames-frame0002.jpg', 'bag_name': 'bagfile_18-09-28_1529_1.bag', 'time_sec': 1538174200, 'time_readable': 'Fri Sep 28 15:36:40 2018', 'time_nsec': 932573080, 'GPS': '$GNGGA,223640.90,3741.65541,N,12223.49892,W,1,12,0.72,-3.6,M,-29.8,M,,*54\\r', 'v-ego': 26.15972137451172, 'key_event': 'c', 'frame': 'frame0002.jpg'}, {'frame_path': '/media/dean/deans_data/construction_frames/vidlog-18-09-28/frames/frames-frame0008.jpg', 'dataset_path': '/media/dean/deans_data/construction_frames/kache_set/07cd2c19b6f89b6861aadf0357e7f13cac803c80.jpg', 'hash_key': '07cd2c19b6f89b6861aadf0357e7f13cac803c80', 'hash_val': 'vidlog-18-09-28-frames-frame0008.jpg', 'bag_name': 'bagfile_18-09-28_1529_1.bag', 'time_sec': 1538174202, 'time_readable': 'Fri Sep 28 15:36:42 2018', 'time_nsec': 5702018, 'GPS': '$GNGGA,223641.90,3741.66955,N,12223.50211,W,1,12,0.72,-3.8,M,-29.8,M,,*58\\r', 'v-ego': 26.36249923706055, 'key_event': 'c', 'frame': 'frame0008.jpg'}, {'frame_path': '/media/dean/deans_data/construction_frames/vidlog-18-09-28/frames/frames-frames-frame0006.jpg', 'dataset_path': '/media/dean/deans_data/construction_frames/kache_set/a4c9a77e763e67c30907eab195859f2148c549a2.jpg', 'hash_key': 'a4c9a77e763e67c30907eab195859f2148c549a2', 'hash_val': 'vidlog-18-09-28-frames-frames-frame0006.jpg', 'bag_name': 'bagfile_18-09-28_1529_1.bag', 'time_sec': 1538174201, 'time_readable': 'Fri Sep 28 15:36:41 2018', 'time_nsec': 641978025, 'GPS': '$GNGGA,223641.60,3741.66530,N,12223.50114,W,1,12,0.72,-3.8,M,-29.8,M,,*5E\\r', 'v-ego': 26.26944351196289, 'key_event': 'c', 'frame': 'frame0006.jpg'}, {'frame_path': '/media/dean/deans_data/construction_frames/vidlog-18-09-28/frames/frames-frame0000.jpg', 'dataset_path': '/media/dean/deans_data/construction_frames/kache_set/b9061bd70a06553200b9c92971bb89a12472dce6.jpg', 'hash_key': 'b9061bd70a06553200b9c92971bb89a12472dce6', 'hash_val': 'vidlog-18-09-28-frames-frame0000.jpg', 'bag_name': 'bagfile_18-09-28_1529_1.bag', 'time_sec': 1538174200, 'time_readable': 'Fri Sep 28 15:36:40 2018', 'time_nsec': 473982095, 'GPS': '$GNGGA,223640.40,3741.64838,N,12223.49734,W,1,12,0.72,-3.5,M,-29.8,M,,*5B\\r', 'v-ego': 26.04999923706055, 'key_event': 'c', 'frame': 'frame0000.jpg'}, {'frame_path': '/media/dean/deans_data/construction_frames/vidlog-18-09-28/frames/frame0000.jpg', 'dataset_path': '/media/dean/deans_data/construction_frames/kache_set/c9597da4658ce7eb192203027a8874520e2a85f7.jpg', 'hash_key': 'c9597da4658ce7eb192203027a8874520e2a85f7', 'hash_val': 'vidlog-18-09-28-frame0000.jpg'}, {'frame_path': '/media/dean/deans_data/construction_frames/vidlog-18-09-28/frames/frame0001.jpg', 'dataset_path': '/media/dean/deans_data/construction_frames/kache_set/e8750cdffc5fd96e17029c572829a7c7406b6941.jpg', 'hash_key': 'e8750cdffc5fd96e17029c572829a7c7406b6941', 'hash_val': 'vidlog-18-09-28-frame0001.jpg'}, {'frame_path': '/media/dean/deans_data/construction_frames/vidlog-18-09-28/frames/frames-frames-frame0009.jpg', 'dataset_path': '/media/dean/deans_data/construction_frames/kache_set/0ba1088df28d0da6b2e1760a12d405420d3a06a3.jpg', 'hash_key': '0ba1088df28d0da6b2e1760a12d405420d3a06a3', 'hash_val': 'vidlog-18-09-28-frames-frames-frame0009.jpg', 'bag_name': 'bagfile_18-09-28_1529_1.bag', 'time_sec': 1538174202, 'time_readable': 'Fri Sep 28 15:36:42 2018', 'time_nsec': 208775043, 'GPS': '$GNGGA,223642.20,3741.67383,N,12223.50307,W,1,12,0.72,-3.8,M,-29.8,M,,*56\\r', 'v-ego': 26.36666679382324, 'key_event': 'c', 'frame': 'frame0009.jpg'}, {'frame_path': '/media/dean/deans_data/construction_frames/vidlog-18-09-28/frames/frame0005.jpg', 'dataset_path': '/media/dean/deans_data/construction_frames/kache_set/799bb1c19c604909ec87277e9654ee86c2b5fbdf.jpg', 'hash_key': '799bb1c19c604909ec87277e9654ee86c2b5fbdf', 'hash_val': 'vidlog-18-09-28-frame0005.jpg'}, {'frame_path': '/media/dean/deans_data/construction_frames/vidlog-18-09-28/frames/frame0004.jpg', 'dataset_path': '/media/dean/deans_data/construction_frames/kache_set/4182c4d6e71cfaaea154475489077ce06acca27d.jpg', 'hash_key': '4182c4d6e71cfaaea154475489077ce06acca27d', 'hash_val': 'vidlog-18-09-28-frame0004.jpg'}, {'frame_path': '/media/dean/deans_data/construction_frames/vidlog-18-09-28/frames/frames-frame0009.jpg', 'dataset_path': '/media/dean/deans_data/construction_frames/kache_set/9b072a4575b41d43b3a188eb316acbe40312e098.jpg', 'hash_key': '9b072a4575b41d43b3a188eb316acbe40312e098', 'hash_val': 'vidlog-18-09-28-frames-frame0009.jpg', 'bag_name': 'bagfile_18-09-28_1529_1.bag', 'time_sec': 1538174202, 'time_readable': 'Fri Sep 28 15:36:42 2018', 'time_nsec': 208775043, 'GPS': '$GNGGA,223642.20,3741.67383,N,12223.50307,W,1,12,0.72,-3.8,M,-29.8,M,,*56\\r', 'v-ego': 26.36666679382324, 'key_event': 'c', 'frame': 'frame0009.jpg'}, {'frame_path': '/media/dean/deans_data/construction_frames/vidlog-18-09-28/frames/frames-frames-frame0007.jpg', 'dataset_path': '/media/dean/deans_data/construction_frames/kache_set/40b2485bdb2277a195a4efdfc50cf86837d63290.jpg', 'hash_key': '40b2485bdb2277a195a4efdfc50cf86837d63290', 'hash_val': 'vidlog-18-09-28-frames-frames-frame0007.jpg', 'bag_name': 'bagfile_18-09-28_1529_1.bag', 'time_sec': 1538174201, 'time_readable': 'Fri Sep 28 15:36:41 2018', 'time_nsec': 815710067, 'GPS': '$GNGGA,223641.80,3741.66813,N,12223.50179,W,1,12,0.72,-3.8,M,-29.8,M,,*57\\r', 'v-ego': 26.34027862548828, 'key_event': 'c', 'frame': 'frame0007.jpg'}, {'frame_path': '/media/dean/deans_data/construction_frames/vidlog-18-09-28/frames/frame0006.jpg', 'dataset_path': '/media/dean/deans_data/construction_frames/kache_set/725eb0932fa649ee779ee57b11afb7e778047a9e.jpg', 'hash_key': '725eb0932fa649ee779ee57b11afb7e778047a9e', 'hash_val': 'vidlog-18-09-28-frame0006.jpg'}, {'frame_path': '/media/dean/deans_data/construction_frames/vidlog-18-09-28/frames/frames-frame0005.jpg', 'dataset_path': '/media/dean/deans_data/construction_frames/kache_set/83b8aa89503ec5010249b5bbee6ec1084c2fe1db.jpg', 'hash_key': '83b8aa89503ec5010249b5bbee6ec1084c2fe1db', 'hash_val': 'vidlog-18-09-28-frames-frame0005.jpg', 'bag_name': 'bagfile_18-09-28_1529_1.bag', 'time_sec': 1538174201, 'time_readable': 'Fri Sep 28 15:36:41 2018', 'time_nsec': 440282106, 'GPS': '$GNGGA,223641.40,3741.66247,N,12223.50050,W,1,12,0.72,-3.7,M,-29.8,M,,*55\\r', 'v-ego': 26.26666641235352, 'key_event': 'c', 'frame': 'frame0005.jpg'}, {'frame_path': '/media/dean/deans_data/construction_frames/vidlog-18-09-28/frames/frame0003.jpg', 'dataset_path': '/media/dean/deans_data/construction_frames/kache_set/dc80efe1d5bef8a02e9ab2413f81e1236b3ac650.jpg', 'hash_key': 'dc80efe1d5bef8a02e9ab2413f81e1236b3ac650', 'hash_val': 'vidlog-18-09-28-frame0003.jpg'}, {'frame_path': '/media/dean/deans_data/construction_frames/vidlog-18-09-28/frames/frames-frame0001.jpg', 'dataset_path': '/media/dean/deans_data/construction_frames/kache_set/14daf08a3e25bb66cf3f3d965e78abad357f6ebb.jpg', 'hash_key': '14daf08a3e25bb66cf3f3d965e78abad357f6ebb', 'hash_val': 'vidlog-18-09-28-frames-frame0001.jpg', 'bag_name': 'bagfile_18-09-28_1529_1.bag', 'time_sec': 1538174200, 'time_readable': 'Fri Sep 28 15:36:40 2018', 'time_nsec': 672276020, 'GPS': '$GNGGA,223640.60,3741.65119,N,12223.49796,W,1,12,0.72,-3.5,M,-29.8,M,,*5A\\r', 'v-ego': 26.13750076293945, 'key_event': 'c', 'frame': 'frame0001.jpg'}, {'frame_path': '/media/dean/deans_data/construction_frames/vidlog-18-09-28/frames/frame0002.jpg', 'dataset_path': '/media/dean/deans_data/construction_frames/kache_set/4cceebb83da0373489a92a46a44f627269d78459.jpg', 'hash_key': '4cceebb83da0373489a92a46a44f627269d78459', 'hash_val': 'vidlog-18-09-28-frame0002.jpg'}, {'frame_path': '/media/dean/deans_data/construction_frames/vidlog-18-09-28/frames/frame0008.jpg', 'dataset_path': '/media/dean/deans_data/construction_frames/kache_set/29b0bdba2e663b2bc2ecd437f23967e8c48df354.jpg', 'hash_key': '29b0bdba2e663b2bc2ecd437f23967e8c48df354', 'hash_val': 'vidlog-18-09-28-frame0008.jpg'}, {'frame_path': '/media/dean/deans_data/construction_frames/vidlog-18-09-28/frames/frames-frame0004.jpg', 'dataset_path': '/media/dean/deans_data/construction_frames/kache_set/5fbf5525e977940c61b5ddb2b8a1a9a1afb90bfb.jpg', 'hash_key': '5fbf5525e977940c61b5ddb2b8a1a9a1afb90bfb', 'hash_val': 'vidlog-18-09-28-frames-frame0004.jpg', 'bag_name': 'bagfile_18-09-28_1529_1.bag', 'time_sec': 1538174201, 'time_readable': 'Fri Sep 28 15:36:41 2018', 'time_nsec': 239434003, 'GPS': '$GNGGA,223641.20,3741.65964,N,12223.49986,W,1,12,0.72,-3.7,M,-29.8,M,,*50\\r', 'v-ego': 26.22361183166504, 'key_event': 'c', 'frame': 'frame0004.jpg'}, {'frame_path': '/media/dean/deans_data/construction_frames/vidlog-18-09-28/frames/frames-frame0006.jpg', 'dataset_path': '/media/dean/deans_data/construction_frames/kache_set/e9019b7e7d61116f0b809b0580effda82274d6c0.jpg', 'hash_key': 'e9019b7e7d61116f0b809b0580effda82274d6c0', 'hash_val': 'vidlog-18-09-28-frames-frame0006.jpg', 'bag_name': 'bagfile_18-09-28_1529_1.bag', 'time_sec': 1538174201, 'time_readable': 'Fri Sep 28 15:36:41 2018', 'time_nsec': 641978025, 'GPS': '$GNGGA,223641.60,3741.66530,N,12223.50114,W,1,12,0.72,-3.8,M,-29.8,M,,*5E\\r', 'v-ego': 26.26944351196289, 'key_event': 'c', 'frame': 'frame0006.jpg'}, {'frame_path': '/media/dean/deans_data/construction_frames/vidlog-18-09-28/frames/frames-frames-frame0008.jpg', 'dataset_path': '/media/dean/deans_data/construction_frames/kache_set/a3e5018e91f279e8b450c246162a0b28aad26377.jpg', 'hash_key': 'a3e5018e91f279e8b450c246162a0b28aad26377', 'hash_val': 'vidlog-18-09-28-frames-frames-frame0008.jpg', 'bag_name': 'bagfile_18-09-28_1529_1.bag', 'time_sec': 1538174202, 'time_readable': 'Fri Sep 28 15:36:42 2018', 'time_nsec': 5702018, 'GPS': '$GNGGA,223641.90,3741.66955,N,12223.50211,W,1,12,0.72,-3.8,M,-29.8,M,,*58\\r', 'v-ego': 26.36249923706055, 'key_event': 'c', 'frame': 'frame0008.jpg'}, {'frame_path': '/media/dean/deans_data/construction_frames/vidlog-18-09-28/frames/frames-frames-frame0004.jpg', 'dataset_path': '/media/dean/deans_data/construction_frames/kache_set/a080e76c7e56319bccf4f26d9b0196f6b8c406a7.jpg', 'hash_key': 'a080e76c7e56319bccf4f26d9b0196f6b8c406a7', 'hash_val': 'vidlog-18-09-28-frames-frames-frame0004.jpg', 'bag_name': 'bagfile_18-09-28_1529_1.bag', 'time_sec': 1538174201, 'time_readable': 'Fri Sep 28 15:36:41 2018', 'time_nsec': 239434003, 'GPS': '$GNGGA,223641.20,3741.65964,N,12223.49986,W,1,12,0.72,-3.7,M,-29.8,M,,*50\\r', 'v-ego': 26.22361183166504, 'key_event': 'c', 'frame': 'frame0004.jpg'}], 'csv_path': '/media/dean/deans_data/construction_frames/vidlog-18-09-28/frames.csv'})\n"
     ]
    }
   ],
   "source": [
    "print(img_data[5])"
   ]
  },
  {
   "cell_type": "code",
   "execution_count": null,
   "metadata": {},
   "outputs": [],
   "source": [
    "kache_set = datasets.DataFormatter(annotations_list = '/media/dean/deans_data/construction_frames/kache_set/kacheai_logs.pickle', image_list = '/media/dean/datastore/datasets/kache_ai/frames/', input_format = datasets.Format.kache,\n",
    "                                 output_path = os.path.join(WORKING_DIRECTORY,'kache--ai'),\n",
    "                                 trainer_prefix = 'COCO_train2014_0000', \n",
    "                                 s3_bucket = 'kache-scalabel/kache_ai/frames/', check_s3 = True)"
   ]
  }
 ],
 "metadata": {
  "kernelspec": {
   "display_name": "Python [default]",
   "language": "python",
   "name": "python3"
  },
  "language_info": {
   "codemirror_mode": {
    "name": "ipython",
    "version": 3
   },
   "file_extension": ".py",
   "mimetype": "text/x-python",
   "name": "python",
   "nbconvert_exporter": "python",
   "pygments_lexer": "ipython3",
   "version": "3.6.0"
  }
 },
 "nbformat": 4,
 "nbformat_minor": 2
}
