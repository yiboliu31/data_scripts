{
 "cells": [
  {
   "cell_type": "code",
   "execution_count": null,
   "metadata": {
    "scrolled": true
   },
   "outputs": [
    {
     "name": "stderr",
     "output_type": "stream",
     "text": [
      "/home/dean/miniconda3/envs/ros-kache/lib/python3.6/site-packages/ipykernel/__main__.py:40: FutureWarning: Method .as_matrix will be removed in a future version. Use .values instead.\n"
     ]
    }
   ],
   "source": [
    "import os\n",
    "import glob\n",
    "import shutil\n",
    "import hashlib\n",
    "from collections import OrderedDict\n",
    "import pandas as pd\n",
    "\n",
    "HEADER_ROW=['bag', 'time_sec', 'time_nsec', 'GPS', 'v_ego', 'key_event', 'frame_name']\n",
    "frames_dir = '/media/dean/deans_data/construction_frames/'\n",
    "bag_dirs = os.listdir(frames_dir)\n",
    "save_dir = os.path.join(frames_dir,'construction_set/')\n",
    "os.makedirs(save_dir, 0o755 , exist_ok = True )\n",
    "\n",
    "img_data = []\n",
    "lookup_table = {}\n",
    "\n",
    "for bag in bag_dirs:\n",
    "    img_dict = {}\n",
    "    bag_path = os.path.join(frames_dir, bag)\n",
    "    img_dict['bag_path'] = bag_path\n",
    "    img_dict['frames'] = []\n",
    "    img_dict['csv_path'] = os.path.join(bag_path, 'frames.csv')\n",
    "    csv_logger = pd.read_csv(img_dict['csv_path'], names=HEADER_ROW, skiprows=1)\n",
    "    \n",
    "    # Get all images\n",
    "    imgs = glob.glob(os.path.join(bag_path,'**/', '*.jpg'))\n",
    "    \n",
    "    for img in imgs:\n",
    "        d = {}\n",
    "        d['frame_path'] = img\n",
    "        new_path = os.path.split(os.path.split(os.path.split(img)[0])[0])[1].rstrip('/')+'-'+os.path.split(img)[1]\n",
    "        hash_object = hashlib.sha1(str.encode(new_path))\n",
    "        hex_dig = hash_object.hexdigest()\n",
    "        shutil.copyfile(img, os.path.join(save_dir, str(hex_dig)+'.jpg'))\n",
    "        d['dataset_path'] = os.path.join(save_dir, str(hex_dig)+'.jpg')\n",
    "        d['hash_key'] = hex_dig\n",
    "        d['hash_val'] = new_path\n",
    "        lookup_table[d['hash_key']] = d['hash_val']    \n",
    "        \n",
    "        for log in [x for x in csv_logger.as_matrix() if os.path.join(bag_path, x[6]) == d['frame_path']]:\n",
    "            d['bag_name'] = log[0]\n",
    "            d['time_sec'] = log[1]\n",
    "            d['time_nsec'] = log[2]\n",
    "            d['GPS'] = log[3]\n",
    "            d['v-ego'] = log[4]\n",
    "            d['key_event'] = log[5]\n",
    "            d['frame'] = log[6]\n",
    "        \n",
    "        img_dict['frames'].append(d)\n",
    "    img_data.append((bag_path,img_dict))\n",
    "    \n",
    "print(img_data)\n",
    "pickle_file = os.path.join(save_dir, 'kacheai_logs'+'.pickle')\n",
    "pickle_dict = {'img_data':img_data,'lookup_table':lookup_table}\n",
    "print('Saving to Pickle File:', pickle_file)\n",
    "with open(pickle_file,\"wb\") as pickle_out:\n",
    "    pickle.dump(pickle_dict, pickle_out)\n",
    "\n"
   ]
  },
  {
   "cell_type": "code",
   "execution_count": 16,
   "metadata": {},
   "outputs": [],
   "source": [
    "for lst in remove_list:\n",
    "    try:\n",
    "        os.remove(os.path.join(save_dir,lst))\n",
    "    except OSError:\n",
    "        pass"
   ]
  },
  {
   "cell_type": "code",
   "execution_count": null,
   "metadata": {},
   "outputs": [],
   "source": []
  }
 ],
 "metadata": {
  "kernelspec": {
   "display_name": "Python [default]",
   "language": "python",
   "name": "python3"
  },
  "language_info": {
   "codemirror_mode": {
    "name": "ipython",
    "version": 3
   },
   "file_extension": ".py",
   "mimetype": "text/x-python",
   "name": "python",
   "nbconvert_exporter": "python",
   "pygments_lexer": "ipython3",
   "version": "3.6.0"
  }
 },
 "nbformat": 4,
 "nbformat_minor": 2
}
