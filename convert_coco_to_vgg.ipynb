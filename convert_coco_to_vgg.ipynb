{
 "cells": [
  {
   "cell_type": "markdown",
   "metadata": {},
   "source": [
    "## Coco Annotations to VGG Labeler"
   ]
  },
  {
   "cell_type": "code",
   "execution_count": 1,
   "metadata": {},
   "outputs": [
    {
     "name": "stderr",
     "output_type": "stream",
     "text": [
      "/home/dean/miniconda3/envs/ros-kache/lib/python3.6/site-packages/pycocotools/coco.py:49: UserWarning: \n",
      "This call to matplotlib.use() has no effect because the backend has already\n",
      "been chosen; matplotlib.use() must be called *before* pylab, matplotlib.pyplot,\n",
      "or matplotlib.backends is imported for the first time.\n",
      "\n",
      "The backend was *originally* set to 'module://ipykernel.pylab.backend_inline' by the following code:\n",
      "  File \"/home/dean/miniconda3/envs/ros-kache/lib/python3.6/runpy.py\", line 193, in _run_module_as_main\n",
      "    \"__main__\", mod_spec)\n",
      "  File \"/home/dean/miniconda3/envs/ros-kache/lib/python3.6/runpy.py\", line 85, in _run_code\n",
      "    exec(code, run_globals)\n",
      "  File \"/home/dean/miniconda3/envs/ros-kache/lib/python3.6/site-packages/ipykernel/__main__.py\", line 3, in <module>\n",
      "    app.launch_new_instance()\n",
      "  File \"/home/dean/miniconda3/envs/ros-kache/lib/python3.6/site-packages/traitlets/config/application.py\", line 658, in launch_instance\n",
      "    app.start()\n",
      "  File \"/home/dean/miniconda3/envs/ros-kache/lib/python3.6/site-packages/ipykernel/kernelapp.py\", line 497, in start\n",
      "    self.io_loop.start()\n",
      "  File \"/home/dean/miniconda3/envs/ros-kache/lib/python3.6/site-packages/tornado/platform/asyncio.py\", line 132, in start\n",
      "    self.asyncio_loop.run_forever()\n",
      "  File \"/home/dean/miniconda3/envs/ros-kache/lib/python3.6/asyncio/base_events.py\", line 421, in run_forever\n",
      "    self._run_once()\n",
      "  File \"/home/dean/miniconda3/envs/ros-kache/lib/python3.6/asyncio/base_events.py\", line 1425, in _run_once\n",
      "    handle._run()\n",
      "  File \"/home/dean/miniconda3/envs/ros-kache/lib/python3.6/asyncio/events.py\", line 126, in _run\n",
      "    self._callback(*self._args)\n",
      "  File \"/home/dean/miniconda3/envs/ros-kache/lib/python3.6/site-packages/tornado/platform/asyncio.py\", line 122, in _handle_events\n",
      "    handler_func(fileobj, events)\n",
      "  File \"/home/dean/miniconda3/envs/ros-kache/lib/python3.6/site-packages/tornado/stack_context.py\", line 300, in null_wrapper\n",
      "    return fn(*args, **kwargs)\n",
      "  File \"/home/dean/miniconda3/envs/ros-kache/lib/python3.6/site-packages/zmq/eventloop/zmqstream.py\", line 450, in _handle_events\n",
      "    self._handle_recv()\n",
      "  File \"/home/dean/miniconda3/envs/ros-kache/lib/python3.6/site-packages/zmq/eventloop/zmqstream.py\", line 480, in _handle_recv\n",
      "    self._run_callback(callback, msg)\n",
      "  File \"/home/dean/miniconda3/envs/ros-kache/lib/python3.6/site-packages/zmq/eventloop/zmqstream.py\", line 432, in _run_callback\n",
      "    callback(*args, **kwargs)\n",
      "  File \"/home/dean/miniconda3/envs/ros-kache/lib/python3.6/site-packages/tornado/stack_context.py\", line 300, in null_wrapper\n",
      "    return fn(*args, **kwargs)\n",
      "  File \"/home/dean/miniconda3/envs/ros-kache/lib/python3.6/site-packages/ipykernel/kernelbase.py\", line 283, in dispatcher\n",
      "    return self.dispatch_shell(stream, msg)\n",
      "  File \"/home/dean/miniconda3/envs/ros-kache/lib/python3.6/site-packages/ipykernel/kernelbase.py\", line 233, in dispatch_shell\n",
      "    handler(stream, idents, msg)\n",
      "  File \"/home/dean/miniconda3/envs/ros-kache/lib/python3.6/site-packages/ipykernel/kernelbase.py\", line 399, in execute_request\n",
      "    user_expressions, allow_stdin)\n",
      "  File \"/home/dean/miniconda3/envs/ros-kache/lib/python3.6/site-packages/ipykernel/ipkernel.py\", line 208, in do_execute\n",
      "    res = shell.run_cell(code, store_history=store_history, silent=silent)\n",
      "  File \"/home/dean/miniconda3/envs/ros-kache/lib/python3.6/site-packages/ipykernel/zmqshell.py\", line 537, in run_cell\n",
      "    return super(ZMQInteractiveShell, self).run_cell(*args, **kwargs)\n",
      "  File \"/home/dean/miniconda3/envs/ros-kache/lib/python3.6/site-packages/IPython/core/interactiveshell.py\", line 2662, in run_cell\n",
      "    raw_cell, store_history, silent, shell_futures)\n",
      "  File \"/home/dean/miniconda3/envs/ros-kache/lib/python3.6/site-packages/IPython/core/interactiveshell.py\", line 2785, in _run_cell\n",
      "    interactivity=interactivity, compiler=compiler, result=result)\n",
      "  File \"/home/dean/miniconda3/envs/ros-kache/lib/python3.6/site-packages/IPython/core/interactiveshell.py\", line 2901, in run_ast_nodes\n",
      "    if self.run_code(code, result):\n",
      "  File \"/home/dean/miniconda3/envs/ros-kache/lib/python3.6/site-packages/IPython/core/interactiveshell.py\", line 2961, in run_code\n",
      "    exec(code_obj, self.user_global_ns, self.user_ns)\n",
      "  File \"<ipython-input-1-51496f385330>\", line 3, in <module>\n",
      "    get_ipython().run_line_magic('matplotlib', 'inline')\n",
      "  File \"/home/dean/miniconda3/envs/ros-kache/lib/python3.6/site-packages/IPython/core/interactiveshell.py\", line 2131, in run_line_magic\n",
      "    result = fn(*args,**kwargs)\n",
      "  File \"<decorator-gen-107>\", line 2, in matplotlib\n",
      "  File \"/home/dean/miniconda3/envs/ros-kache/lib/python3.6/site-packages/IPython/core/magic.py\", line 187, in <lambda>\n",
      "    call = lambda f, *a, **k: f(*a, **k)\n",
      "  File \"/home/dean/miniconda3/envs/ros-kache/lib/python3.6/site-packages/IPython/core/magics/pylab.py\", line 99, in matplotlib\n",
      "    gui, backend = self.shell.enable_matplotlib(args.gui)\n",
      "  File \"/home/dean/miniconda3/envs/ros-kache/lib/python3.6/site-packages/IPython/core/interactiveshell.py\", line 3049, in enable_matplotlib\n",
      "    pt.activate_matplotlib(backend)\n",
      "  File \"/home/dean/miniconda3/envs/ros-kache/lib/python3.6/site-packages/IPython/core/pylabtools.py\", line 311, in activate_matplotlib\n",
      "    matplotlib.pyplot.switch_backend(backend)\n",
      "  File \"/home/dean/miniconda3/envs/ros-kache/lib/python3.6/site-packages/matplotlib/pyplot.py\", line 232, in switch_backend\n",
      "    matplotlib.use(newbackend, warn=False, force=True)\n",
      "  File \"/home/dean/miniconda3/envs/ros-kache/lib/python3.6/site-packages/matplotlib/__init__.py\", line 1305, in use\n",
      "    reload(sys.modules['matplotlib.backends'])\n",
      "  File \"/home/dean/miniconda3/envs/ros-kache/lib/python3.6/importlib/__init__.py\", line 166, in reload\n",
      "    _bootstrap._exec(spec, module)\n",
      "  File \"/home/dean/miniconda3/envs/ros-kache/lib/python3.6/site-packages/matplotlib/backends/__init__.py\", line 14, in <module>\n",
      "    line for line in traceback.format_stack()\n",
      "\n",
      "\n",
      "  import matplotlib; matplotlib.use('Agg')\n"
     ]
    }
   ],
   "source": [
    "## Imports\n",
    "\n",
    "%matplotlib inline\n",
    "import matplotlib.image as mpimg\n",
    "import matplotlib.pyplot as plt\n",
    "import numpy as np\n",
    "import cv2\n",
    "import glob\n",
    "from PIL import Image\n",
    "\n",
    "import scipy.misc\n",
    "from skimage import measure   \n",
    "\n",
    "import time\n",
    "import os\n",
    "import zipfile as zf\n",
    "import tarfile\n",
    "import csv\n",
    "import pickle\n",
    "import urllib\n",
    "import pandas as pd\n",
    "\n",
    "\n",
    "from pycocotools.coco import COCO\n",
    "import numpy as np\n",
    "import skimage.io as io\n",
    "import matplotlib.pyplot as plt\n",
    "import pylab\n",
    "import json"
   ]
  },
  {
   "cell_type": "markdown",
   "metadata": {},
   "source": [
    "### Helper Functions - Kache Dataset Loading"
   ]
  },
  {
   "cell_type": "code",
   "execution_count": 2,
   "metadata": {},
   "outputs": [],
   "source": [
    "def maybe_download(source_url, filename):\n",
    "    if not os.path.exists(IMAGES_DIRECTORY):\n",
    "        os.mkdir(IMAGES_DIRECTORY)\n",
    "    \n",
    "    filepath = os.path.join(IMAGES_DIRECTORY, filename)\n",
    "    if not os.path.exists(filepath):\n",
    "        filepath, _ = urllib.request.urlretrieve(source_url, filepath)\n",
    "        statinfo = os.stat(filepath)\n",
    "        print('')\n",
    "        print('Succesfully downloaded:', filepath, '| % d MB.' % int(statinfo.st_size*1e-6))\n",
    "    return filepath"
   ]
  },
  {
   "cell_type": "markdown",
   "metadata": {},
   "source": [
    "### Script Constants"
   ]
  },
  {
   "cell_type": "code",
   "execution_count": 3,
   "metadata": {},
   "outputs": [],
   "source": [
    "## Dataset Parameters ##\n",
    "WORKING_DIRECTORY = '/media/dean/datastore/ROAD_COCO'\n",
    "\n",
    "COCO_DIRECTORY = '/media/dean/datastore/ROAD_COCO/darknet/data/coco/'\n",
    "IMAGES_DIRECTORY = os.path.join(COCO_DIRECTORY,'images/vgg_anns/')\n",
    "img_prefix = 'COCO_train2014_0000'\n",
    "UNCHANGED_COCO_ANNOTATIONS_FILE = os.path.join(COCO_DIRECTORY,'annotations' , 'instances_train2014.json')\n",
    "\n",
    "## VGG Labeler Dataset Extraction Parameters ##\n",
    "PARTIAL_ANNS_CSV = os.path.join(WORKING_DIRECTORY, 'partial_detections.csv')\n",
    "HEADER_ROW=['filename', 'file_size', 'file_attributes', 'region_count', 'region_id', 'region_shape_attributes', 'region_attributes']"
   ]
  },
  {
   "cell_type": "code",
   "execution_count": 4,
   "metadata": {},
   "outputs": [
    {
     "name": "stdout",
     "output_type": "stream",
     "text": [
      "loading annotations into memory...\n",
      "Done (t=8.37s)\n",
      "creating index...\n",
      "index created!\n"
     ]
    }
   ],
   "source": [
    "example_coco = COCO(UNCHANGED_COCO_ANNOTATIONS_FILE)"
   ]
  },
  {
   "cell_type": "code",
   "execution_count": null,
   "metadata": {},
   "outputs": [],
   "source": [
    "## Write Annotations to CSV\n",
    "\n",
    "anns = []\n",
    "filename = UNCHANGED_COCO_ANNOTATIONS_FILE\n",
    "with open(filename, 'r') as f:\n",
    "    data = json.load(f)\n",
    "    ann = {}\n",
    "    \n",
    "    g = open(PARTIAL_ANNS_CSV, \"w\")\n",
    "    g.write(','.join(HEADER_ROW))\n",
    "    g.write('\\n')\n",
    "    \n",
    "    # loop through each image\n",
    "    urlstofilepaths = {}\n",
    "    for image_data in data['images']:\n",
    "        \n",
    "        # Download Image if not exist\n",
    "        url = image_data['flickr_url']\n",
    "        fname = os.path.split(url)[-1]\n",
    "        urlstofilepaths[url] = maybe_download(url, os.path.join(IMAGES_DIRECTORY, img_prefix+fname))\n",
    "    \n",
    "        \n",
    "        # Get Image Size in Bytes\n",
    "        img_file_size =  os.stat(urlstofilepaths[url]).st_size\n",
    "        ann['filename'] = url\n",
    "        ann['file_size'] = img_file_size\n",
    "        \n",
    "        # Grab all annotations corresponding to ther image\n",
    "        img_annotation_ids = example_coco.getAnnIds(imgIds=image_data['id'])\n",
    "        \n",
    "        # Determine Region Count\n",
    "        region_count = len(img_annotation_ids)\n",
    "        ann['region_count'] = region_count\n",
    "        \n",
    "        # Loop through each annotation\n",
    "        for i, annotation in enumerate(example_coco.loadAnns(img_annotation_ids)):\n",
    "            ann['region_id'] = i\n",
    "            cat = example_coco.loadCats([annotation['category_id']])[0]\n",
    "            ann['category'] = cat['name']\n",
    "            ann['x'] = annotation['bbox'][0]\n",
    "            ann['y'] = annotation['bbox'][1]\n",
    "            ann['width'] = annotation['bbox'][2]\n",
    "            ann['height'] = annotation['bbox'][3]\n",
    "        \n",
    "            # Create row entry in csv table\n",
    "            g.write(ann['filename'] + ',' + str(ann['file_size']) + ',\"{}\",' + str(ann['region_count']) + \\\n",
    "                    \",\" + str(ann['region_id']) + \",\" + '\"{\"\"name\"\":\"\"rect\"\",\"\"x\"\":' + str(ann['x']) + \\\n",
    "                    \",\" + '\"\"y\"\":' + str(ann['y']) + \",\" + '\"\"width\"\":' + str(ann['width']) + ','+ '\"\"height\"\":' + \\\n",
    "                     str(ann['height']) + '}\"' + \",\" + '\"{\"\"type\"\":\"\"' + str(ann['category']) + '\"\"}\"') \n",
    "            g.write('\\n')\n",
    "    \n"
   ]
  }
 ],
 "metadata": {
  "kernelspec": {
   "display_name": "Python [conda env:ros-kache]",
   "language": "python",
   "name": "conda-env-ros-kache-py"
  },
  "language_info": {
   "codemirror_mode": {
    "name": "ipython",
    "version": 3
   },
   "file_extension": ".py",
   "mimetype": "text/x-python",
   "name": "python",
   "nbconvert_exporter": "python",
   "pygments_lexer": "ipython3",
   "version": "3.6.0"
  },
  "widgets": {
   "state": {},
   "version": "1.1.2"
  }
 },
 "nbformat": 4,
 "nbformat_minor": 2
}
