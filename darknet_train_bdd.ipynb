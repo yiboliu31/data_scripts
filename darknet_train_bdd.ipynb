{
 "cells": [
  {
   "cell_type": "code",
   "execution_count": 1,
   "metadata": {},
   "outputs": [],
   "source": [
    "%load_ext autoreload\n",
    "%autoreload 2"
   ]
  },
  {
   "cell_type": "code",
   "execution_count": 2,
   "metadata": {},
   "outputs": [],
   "source": [
    "## Run Evaluation Script\n",
    "# %matplotlib inline\n",
    "# %run /media/dean/datastore1/datasets/Scripts/darknet_evaluate_bdd.ipynb"
   ]
  },
  {
   "cell_type": "code",
   "execution_count": 3,
   "metadata": {},
   "outputs": [],
   "source": [
    "def parse_model_config(path):\n",
    "    \"\"\"Parses the yolo-v3 layer configuration file and returns module definitions\"\"\"\n",
    "    file = open(path, 'r')\n",
    "    lines = file.read().split('\\n')\n",
    "    lines = [x for x in lines if x and not x.startswith('#')]\n",
    "    lines = [x.rstrip().lstrip() for x in lines] # get rid of fringe whitespaces\n",
    "    module_defs = []\n",
    "    for line in lines:\n",
    "        if line.startswith('['): # This marks the start of a new block\n",
    "            module_defs.append({})\n",
    "            module_defs[-1]['type'] = line[1:-1].rstrip()\n",
    "            if module_defs[-1]['type'] == 'convolutional':\n",
    "                module_defs[-1]['batch_normalize'] = 0\n",
    "        else:\n",
    "            key, value = line.split(\"=\")\n",
    "            value = value.strip()\n",
    "            module_defs[-1][key.rstrip()] = value.strip()\n",
    "\n",
    "    return module_defs\n",
    "\n",
    "\n",
    "def save_model_config(model_defs, path):\n",
    "    \"\"\"Saves the yolo-v3 layer configuration file\"\"\"\n",
    "    with open(path, 'w') as writer:\n",
    "        \n",
    "        for block in model_defs:\n",
    "            writer.write('['+ block['type'] +']'+'\\n')\n",
    "            [writer.write(str(k)+'='+str(v)+'\\n') for k,v in block.items() if k != 'type']\n",
    "            writer.write('\\n')\n",
    "    \n",
    "\n",
    "def parse_data_config(path):\n",
    "    \"\"\"Parses the data configuration file\"\"\"\n",
    "    options = dict()\n",
    "    options['gpus'] = '0,1'\n",
    "    with open(path, 'r') as fp:\n",
    "        lines = fp.readlines()\n",
    "    for line in lines:\n",
    "        line = line.strip()\n",
    "        if line == '' or line.startswith('#'):\n",
    "            continue\n",
    "        key, value = line.split('=')\n",
    "        options[key.strip()] = value.strip()\n",
    "    return options"
   ]
  },
  {
   "cell_type": "code",
   "execution_count": 4,
   "metadata": {},
   "outputs": [],
   "source": [
    "import os\n",
    "import yaml\n",
    "import urllib\n",
    "from PIL import Image\n",
    "from enum import Enum\n",
    "from pycocotools.coco import COCO\n",
    "\n",
    "\n",
    "import xml.etree.cElementTree as ET\n",
    "import glob\n",
    "import argparse\n",
    "import numpy as np\n",
    "import json\n",
    "import numpy\n",
    "import cv2\n",
    "from collections import OrderedDict\n",
    "import scipy.misc\n",
    "from skimage import measure   \n",
    "import random\n",
    "import skimage.io as io\n",
    "import matplotlib.pyplot as plt\n",
    "import pylab\n",
    "import shutil\n",
    "import pickle\n",
    "import pandas as pd\n",
    "\n",
    "from utils import datasets\n",
    "\n",
    "WORKING_DIRECTORY = '/media/dean/datastore1/datasets/darknet'\n",
    "DATA_DIRECTORY = os.path.join(WORKING_DIRECTORY, 'data')\n",
    "BDD100K_DIRECTORY = os.path.join('/media/dean/datastore1/datasets/BerkeleyDeepDrive', 'bdd100k')\n",
    "COCO_DIRECTORY = os.path.join(DATA_DIRECTORY, 'coco')\n",
    "BDD100K_COCO_ANNOTATIONS_FILE = os.path.join(COCO_DIRECTORY,'annotations' , 'bdd100k_instances_train2014.json')\n",
    "\n",
    "\n",
    "\n",
    "CATEGORY_NAMES = os.path.join(WORKING_DIRECTORY, 'data', 'coco.bdd100k.names')\n",
    "TRAINERS_DIRECTORY = os.path.join(WORKING_DIRECTORY, 'trainers')\n",
    "ANNOTATIONS_FILE = os.path.join(BDD100K_DIRECTORY, 'labels/kache_bdd100k_labels_images_train.json', )\n",
    "\n",
    "DATA_CONFIG_PATH = os.path.join(WORKING_DIRECTORY, 'cfg', 'bdd100k.data')\n",
    "MODEL_CONFIG_PATH = os.path.join(WORKING_DIRECTORY, 'cfg', 'yolov3-bdd100k.cfg')"
   ]
  },
  {
   "cell_type": "code",
   "execution_count": 5,
   "metadata": {
    "scrolled": true
   },
   "outputs": [
    {
     "name": "stdout",
     "output_type": "stream",
     "text": [
      "69863\n",
      "[{'url': 'https://s3-us-west-2.amazonaws.com/kache-scalabel/bdd100k/images/100k/train/0000f77c-6257be58.jpg', 'name': 'https://s3-us-west-2.amazonaws.com/kache-scalabel/bdd100k/images/100k/train/0000f77c-6257be58.jpg', 'coco_path': '/media/dean/datastore1/datasets/darknet/trainers/run6_2gpu_001lr_256bat_64sd_60ep/data/coco/images/train2014/COCO_train2014_00000000f77c-6257be58.jpg', 'width': 1280, 'height': 720, 'labels': [{'id': 0, 'attributes': {'Occluded': False, 'Truncated': False, 'Traffic Light Color': [1, 'G']}, 'manual': True, 'manualAttributes': True, 'poly2d': None, 'box3d': None, 'box2d': {'x1': 1125.902264, 'x2': 1156.978645, 'y1': 133.184488, 'y2': 210.875445}, 'category': 'traffic light'}, {'id': 1, 'attributes': {'Occluded': False, 'Truncated': False, 'Traffic Light Color': [1, 'G']}, 'manual': True, 'manualAttributes': True, 'poly2d': None, 'box3d': None, 'box2d': {'x1': 1156.978645, 'x2': 1191.50796, 'y1': 136.637417, 'y2': 210.875443}, 'category': 'traffic light'}, {'id': 2, 'attributes': {'Occluded': False, 'Truncated': False, 'Traffic Light Color': [0, 'NA']}, 'manual': True, 'manualAttributes': True, 'poly2d': None, 'box3d': None, 'box2d': {'x1': 1101.731743, 'x2': 1170.79037, 'y1': 211.122087, 'y2': 233.566141}, 'category': 'traffic sign'}, {'id': 3, 'attributes': {'Occluded': False, 'Truncated': True, 'Traffic Light Color': [0, 'NA']}, 'manual': True, 'manualAttributes': True, 'poly2d': None, 'box3d': None, 'box2d': {'x1': 0, 'x2': 100.381647, 'y1': 0.246631, 'y2': 122.825696}, 'category': 'traffic sign'}, {'id': 4, 'attributes': {'Occluded': False, 'Truncated': False, 'Traffic Light Color': [0, 'NA']}, 'manual': True, 'manualAttributes': True, 'poly2d': None, 'box3d': None, 'box2d': {'x1': 45.240919, 'x2': 357.805838, 'y1': 254.530367, 'y2': 487.906215}, 'category': 'car'}, {'id': 5, 'attributes': {'Occluded': False, 'Truncated': False, 'Traffic Light Color': [0, 'NA']}, 'manual': True, 'manualAttributes': True, 'poly2d': None, 'box3d': None, 'box2d': {'x1': 507.82755, 'x2': 908.367588, 'y1': 221.727518, 'y2': 442.715126}, 'category': 'car'}, {'id': 6, 'attributes': {'Occluded': False, 'Truncated': True, 'Traffic Light Color': [0, 'NA']}, 'manual': True, 'manualAttributes': True, 'poly2d': None, 'box3d': None, 'box2d': {'x1': 0.156955, 'x2': 102.417429, 'y1': 0.809282, 'y2': 133.411856}, 'category': 'traffic sign'}], 'index': 0, 'timestamp': 10000, 'videoName': 'https://s3-us-west-2.amazonaws.com/kache-scalabel/bdd100k/videos/train/0000f77c-6257be58.mov', 'attributes': {'weather': 'clear', 'scene': 'city street', 'timeofday': 'daytime'}}, {'url': 'https://s3-us-west-2.amazonaws.com/kache-scalabel/bdd100k/images/100k/train/0000f77c-62c2a288.jpg', 'name': 'https://s3-us-west-2.amazonaws.com/kache-scalabel/bdd100k/images/100k/train/0000f77c-62c2a288.jpg', 'coco_path': '/media/dean/datastore1/datasets/darknet/trainers/run6_2gpu_001lr_256bat_64sd_60ep/data/coco/images/train2014/COCO_train2014_00000000f77c-62c2a288.jpg', 'width': 1280, 'height': 720, 'labels': [{'id': 7, 'attributes': {'Occluded': False, 'Truncated': False, 'Traffic Light Color': [0, 'NA']}, 'manual': True, 'manualAttributes': True, 'poly2d': None, 'box3d': None, 'box2d': {'x1': 250.549246, 'x2': 308.085801, 'y1': 294.619798, 'y2': 357.05308}, 'category': 'traffic sign'}, {'id': 8, 'attributes': {'Occluded': True, 'Truncated': False, 'Traffic Light Color': [0, 'NA']}, 'manual': True, 'manualAttributes': True, 'poly2d': None, 'box3d': None, 'box2d': {'x1': 206.478694, 'x2': 221.16888, 'y1': 299.516526, 'y2': 321.551802}, 'category': 'traffic sign'}, {'id': 9, 'attributes': {'Occluded': False, 'Truncated': False, 'Traffic Light Color': [0, 'NA']}, 'manual': True, 'manualAttributes': True, 'poly2d': None, 'box3d': None, 'box2d': {'x1': 924.665474, 'x2': 936.907294, 'y1': 286.866651, 'y2': 297.884289}, 'category': 'traffic sign'}, {'id': 10, 'attributes': {'Occluded': False, 'Truncated': False, 'Traffic Light Color': [0, 'NA']}, 'manual': True, 'manualAttributes': True, 'poly2d': None, 'box3d': None, 'box2d': {'x1': 423.158909, 'x2': 434.176547, 'y1': 336.241987, 'y2': 358.277263}, 'category': 'person'}, {'id': 11, 'attributes': {'Occluded': False, 'Truncated': False, 'Traffic Light Color': [0, 'NA']}, 'manual': True, 'manualAttributes': True, 'poly2d': None, 'box3d': None, 'box2d': {'x1': 563.939839, 'x2': 573.733294, 'y1': 324.000165, 'y2': 348.483804}, 'category': 'person'}, {'id': 12, 'attributes': {'Occluded': True, 'Truncated': False, 'Traffic Light Color': [0, 'NA']}, 'manual': True, 'manualAttributes': True, 'poly2d': None, 'box3d': None, 'box2d': {'x1': 656.977672, 'x2': 666.771127, 'y1': 315.838956, 'y2': 345.219323}, 'category': 'person'}], 'index': 1, 'timestamp': 10000, 'videoName': 'https://s3-us-west-2.amazonaws.com/kache-scalabel/bdd100k/videos/train/0000f77c-62c2a288.mov', 'attributes': {'weather': 'clear', 'scene': 'highway', 'timeofday': 'dawn/dusk'}}, {'url': 'https://s3-us-west-2.amazonaws.com/kache-scalabel/bdd100k/images/100k/train/0000f77c-cb820c98.jpg', 'name': 'https://s3-us-west-2.amazonaws.com/kache-scalabel/bdd100k/images/100k/train/0000f77c-cb820c98.jpg', 'coco_path': '/media/dean/datastore1/datasets/darknet/trainers/run6_2gpu_001lr_256bat_64sd_60ep/data/coco/images/train2014/COCO_train2014_00000000f77c-cb820c98.jpg', 'width': 1280, 'height': 720, 'labels': [{'id': 13, 'attributes': {'Occluded': False, 'Truncated': False, 'Traffic Light Color': [0, 'NA']}, 'manual': True, 'manualAttributes': True, 'poly2d': None, 'box3d': None, 'box2d': {'x1': 581.938239, 'x2': 641.319692, 'y1': 301.360875, 'y2': 350.350574}, 'category': 'car'}, {'id': 14, 'attributes': {'Occluded': True, 'Truncated': False, 'Traffic Light Color': [0, 'NA']}, 'manual': True, 'manualAttributes': True, 'poly2d': None, 'box3d': None, 'box2d': {'x1': 697.732074, 'x2': 722.969191, 'y1': 299.876337, 'y2': 331.0516}, 'category': 'car'}, {'id': 15, 'attributes': {'Occluded': True, 'Truncated': False, 'Traffic Light Color': [0, 'NA']}, 'manual': True, 'manualAttributes': True, 'poly2d': None, 'box3d': None, 'box2d': {'x1': 715.546509, 'x2': 768.989817, 'y1': 302.845412, 'y2': 344.412429}, 'category': 'car'}, {'id': 16, 'attributes': {'Occluded': True, 'Truncated': False, 'Traffic Light Color': [0, 'NA']}, 'manual': True, 'manualAttributes': True, 'poly2d': None, 'box3d': None, 'box2d': {'x1': 760.082601, 'x2': 864.000143, 'y1': 292.453655, 'y2': 375.58769}, 'category': 'car'}, {'id': 17, 'attributes': {'Occluded': True, 'Truncated': False, 'Traffic Light Color': [0, 'NA']}, 'manual': True, 'manualAttributes': True, 'poly2d': None, 'box3d': None, 'box2d': {'x1': 801.649616, 'x2': 896.659941, 'y1': 299.876337, 'y2': 393.402127}, 'category': 'car'}, {'id': 18, 'attributes': {'Occluded': False, 'Truncated': False, 'Traffic Light Color': [0, 'NA']}, 'manual': True, 'manualAttributes': True, 'poly2d': None, 'box3d': None, 'box2d': {'x1': 853.311509, 'x2': 1075.991958, 'y1': 283.546439, 'y2': 436.45368}, 'category': 'car'}, {'id': 19, 'attributes': {'Occluded': False, 'Truncated': True, 'Traffic Light Color': [0, 'NA']}, 'manual': True, 'manualAttributes': True, 'poly2d': None, 'box3d': None, 'box2d': {'x1': 1135.373409, 'x2': 1277.888896, 'y1': 301.063972, 'y2': 538.589784}, 'category': 'car'}], 'index': 2, 'timestamp': 10000, 'videoName': 'https://s3-us-west-2.amazonaws.com/kache-scalabel/bdd100k/videos/train/0000f77c-cb820c98.mov', 'attributes': {'weather': 'clear', 'scene': 'residential', 'timeofday': 'dawn/dusk'}}, {'url': 'https://s3-us-west-2.amazonaws.com/kache-scalabel/bdd100k/images/100k/train/0001542f-5ce3cf52.jpg', 'name': 'https://s3-us-west-2.amazonaws.com/kache-scalabel/bdd100k/images/100k/train/0001542f-5ce3cf52.jpg', 'coco_path': '/media/dean/datastore1/datasets/darknet/trainers/run6_2gpu_001lr_256bat_64sd_60ep/data/coco/images/train2014/COCO_train2014_00000001542f-5ce3cf52.jpg', 'width': 1280, 'height': 720, 'labels': [{'id': 20, 'attributes': {'Occluded': False, 'Truncated': False, 'Traffic Light Color': [0, 'NA']}, 'manual': True, 'manualAttributes': True, 'poly2d': None, 'box3d': None, 'box2d': {'x1': 557.191711, 'x2': 569.09375, 'y1': 315.18361, 'y2': 327.08565}, 'category': 'traffic sign'}, {'id': 21, 'attributes': {'Occluded': False, 'Truncated': False, 'Traffic Light Color': [1, 'G']}, 'manual': True, 'manualAttributes': True, 'poly2d': None, 'box3d': None, 'box2d': {'x1': 535.024959, 'x2': 553.53924, 'y1': 324.755618, 'y2': 335.335208}, 'category': 'traffic light'}, {'id': 22, 'attributes': {'Occluded': False, 'Truncated': False, 'Traffic Light Color': [1, 'G']}, 'manual': True, 'manualAttributes': True, 'poly2d': None, 'box3d': None, 'box2d': {'x1': 488.739255, 'x2': 501.963741, 'y1': 324.755618, 'y2': 336.657658}, 'category': 'traffic light'}, {'id': 23, 'attributes': {'Occluded': True, 'Truncated': False, 'Traffic Light Color': [0, 'NA']}, 'manual': True, 'manualAttributes': True, 'poly2d': None, 'box3d': None, 'box2d': {'x1': 490.628467, 'x2': 513.110095, 'y1': 341.852989, 'y2': 355.077477}, 'category': 'car'}, {'id': 24, 'attributes': {'Occluded': True, 'Truncated': False, 'Traffic Light Color': [0, 'NA']}, 'manual': True, 'manualAttributes': True, 'poly2d': None, 'box3d': None, 'box2d': {'x1': 542.203967, 'x2': 571.297838, 'y1': 343.175437, 'y2': 364.334618}, 'category': 'car'}, {'id': 25, 'attributes': {'Occluded': True, 'Truncated': False, 'Traffic Light Color': [0, 'NA']}, 'manual': True, 'manualAttributes': True, 'poly2d': None, 'box3d': None, 'box2d': {'x1': 555.428455, 'x2': 600.391709, 'y1': 340.53054, 'y2': 374.914207}, 'category': 'car'}, {'id': 26, 'attributes': {'Occluded': False, 'Truncated': False, 'Traffic Light Color': [0, 'NA']}, 'manual': True, 'manualAttributes': True, 'poly2d': None, 'box3d': None, 'box2d': {'x1': 512.228456, 'x2': 537.354981, 'y1': 342.955033, 'y2': 362.791763}, 'category': 'car'}, {'id': 27, 'attributes': {'Occluded': False, 'Truncated': False, 'Traffic Light Color': [0, 'NA']}, 'manual': True, 'manualAttributes': True, 'poly2d': None, 'box3d': None, 'box2d': {'x1': 574.383545, 'x2': 632.571287, 'y1': 340.310135, 'y2': 383.950942}, 'category': 'car'}, {'id': 28, 'attributes': {'Occluded': False, 'Truncated': False, 'Traffic Light Color': [0, 'NA']}, 'manual': True, 'manualAttributes': True, 'poly2d': None, 'box3d': None, 'box2d': {'x1': 444.783572, 'x2': 473.877443, 'y1': 333.697893, 'y2': 346.92238}, 'category': 'car'}, {'id': 29, 'attributes': {'Occluded': False, 'Truncated': False, 'Traffic Light Color': [0, 'NA']}, 'manual': True, 'manualAttributes': True, 'poly2d': None, 'box3d': None, 'box2d': {'x1': 427.591739, 'x2': 450.073367, 'y1': 328.408097, 'y2': 342.955033}, 'category': 'car'}, {'id': 30, 'attributes': {'Occluded': False, 'Truncated': False, 'Traffic Light Color': [0, 'NA']}, 'manual': True, 'manualAttributes': True, 'poly2d': None, 'box3d': None, 'box2d': {'x1': 309.452996, 'x2': 354.069112, 'y1': 336.166461, 'y2': 353.358294}, 'category': 'car'}, {'id': 31, 'attributes': {'Occluded': False, 'Truncated': False, 'Traffic Light Color': [0, 'NA']}, 'manual': True, 'manualAttributes': True, 'poly2d': None, 'box3d': None, 'box2d': {'x1': 363.673392, 'x2': 413.926443, 'y1': 333.918296, 'y2': 352.432578}, 'category': 'car'}, {'id': 32, 'attributes': {'Occluded': True, 'Truncated': False, 'Traffic Light Color': [0, 'NA']}, 'manual': True, 'manualAttributes': True, 'poly2d': None, 'box3d': None, 'box2d': {'x1': 261.497704, 'x2': 325.32238, 'y1': 329.95095, 'y2': 352.432578}, 'category': 'bus'}], 'index': 3, 'timestamp': 10000, 'videoName': 'https://s3-us-west-2.amazonaws.com/kache-scalabel/bdd100k/videos/train/0001542f-5ce3cf52.mov', 'attributes': {'weather': 'clear', 'scene': 'city street', 'timeofday': 'night'}}, {'url': 'https://s3-us-west-2.amazonaws.com/kache-scalabel/bdd100k/images/100k/train/0001542f-7c670be8.jpg', 'name': 'https://s3-us-west-2.amazonaws.com/kache-scalabel/bdd100k/images/100k/train/0001542f-7c670be8.jpg', 'coco_path': '/media/dean/datastore1/datasets/darknet/trainers/run6_2gpu_001lr_256bat_64sd_60ep/data/coco/images/train2014/COCO_train2014_00000001542f-7c670be8.jpg', 'width': 1280, 'height': 720, 'labels': [{'id': 33, 'attributes': {'Occluded': False, 'Truncated': False, 'Traffic Light Color': [0, 'NA']}, 'manual': True, 'manualAttributes': True, 'poly2d': None, 'box3d': None, 'box2d': {'x1': 539.581763, 'x2': 560.295257, 'y1': 358.522485, 'y2': 375.400149}, 'category': 'car'}, {'id': 34, 'attributes': {'Occluded': False, 'Truncated': False, 'Traffic Light Color': [0, 'NA']}, 'manual': True, 'manualAttributes': True, 'poly2d': None, 'box3d': None, 'box2d': {'x1': 471.303947, 'x2': 521.936935, 'y1': 353.919487, 'y2': 396.113643}, 'category': 'car'}, {'id': 35, 'attributes': {'Occluded': False, 'Truncated': False, 'Traffic Light Color': [0, 'NA']}, 'manual': True, 'manualAttributes': True, 'poly2d': None, 'box3d': None, 'box2d': {'x1': 695.316564, 'x2': 712.961393, 'y1': 343.179158, 'y2': 386.140482}, 'category': 'person'}, {'id': 36, 'attributes': {'Occluded': False, 'Truncated': False, 'Traffic Light Color': [0, 'NA']}, 'manual': True, 'manualAttributes': True, 'poly2d': None, 'box3d': None, 'box2d': {'x1': 521.425492, 'x2': 539.837487, 'y1': 342.156259, 'y2': 352.129423}, 'category': 'car'}, {'id': 37, 'attributes': {'Occluded': False, 'Truncated': False, 'Traffic Light Color': [3, 'R']}, 'manual': True, 'manualAttributes': True, 'poly2d': None, 'box3d': None, 'box2d': {'x1': 616.554138, 'x2': 628.061634, 'y1': 324.51143, 'y2': 336.018927}, 'category': 'traffic light'}, {'id': 38, 'attributes': {'Occluded': False, 'Truncated': False, 'Traffic Light Color': [1, 'G']}, 'manual': True, 'manualAttributes': True, 'poly2d': None, 'box3d': None, 'box2d': {'x1': 531.142932, 'x2': 541.883263, 'y1': 331.415928, 'y2': 342.156259}, 'category': 'traffic light'}, {'id': 39, 'attributes': {'Occluded': False, 'Truncated': False, 'Traffic Light Color': [0, 'NA']}, 'manual': True, 'manualAttributes': True, 'poly2d': None, 'box3d': None, 'box2d': {'x1': 757.34741, 'x2': 778.315066, 'y1': 248.11728, 'y2': 284.061836}, 'category': 'traffic sign'}, {'id': 40, 'attributes': {'Occluded': False, 'Truncated': False, 'Traffic Light Color': [0, 'NA']}, 'manual': True, 'manualAttributes': True, 'poly2d': None, 'box3d': None, 'box2d': {'x1': 594.099219, 'x2': 615.066877, 'y1': 317.011007, 'y2': 331.987905}, 'category': 'traffic sign'}], 'index': 4, 'timestamp': 10000, 'videoName': 'https://s3-us-west-2.amazonaws.com/kache-scalabel/bdd100k/videos/train/0001542f-7c670be8.mov', 'attributes': {'weather': 'clear', 'scene': 'highway', 'timeofday': 'night'}}] \n",
      "\n",
      "\n",
      "\n",
      "\n"
     ]
    },
    {
     "ename": "NameError",
     "evalue": "name 'img_prefix' is not defined",
     "output_type": "error",
     "traceback": [
      "\u001b[0;31m---------------------------------------------------------------------------\u001b[0m",
      "\u001b[0;31mNameError\u001b[0m                                 Traceback (most recent call last)",
      "\u001b[0;32m<ipython-input-5-d9ae7e291dff>\u001b[0m in \u001b[0;36m<module>\u001b[0;34m()\u001b[0m\n\u001b[1;32m     11\u001b[0m \u001b[0;34m\u001b[0m\u001b[0m\n\u001b[1;32m     12\u001b[0m     \u001b[0;31m# TODO: Export Dataset to coco directory\u001b[0m\u001b[0;34m\u001b[0m\u001b[0;34m\u001b[0m\u001b[0m\n\u001b[0;32m---> 13\u001b[0;31m     \u001b[0mbdd_set\u001b[0m\u001b[0;34m.\u001b[0m\u001b[0mexport\u001b[0m\u001b[0;34m(\u001b[0m\u001b[0mformat\u001b[0m \u001b[0;34m=\u001b[0m \u001b[0mdatasets\u001b[0m\u001b[0;34m.\u001b[0m\u001b[0mFormat\u001b[0m\u001b[0;34m.\u001b[0m\u001b[0mcoco\u001b[0m\u001b[0;34m)\u001b[0m\u001b[0;34m\u001b[0m\u001b[0m\n\u001b[0m\u001b[1;32m     14\u001b[0m \u001b[0;34m\u001b[0m\u001b[0m\n\u001b[1;32m     15\u001b[0m     \u001b[0;31m# TODO: Export COCO format to Yolo\u001b[0m\u001b[0;34m\u001b[0m\u001b[0;34m\u001b[0m\u001b[0m\n",
      "\u001b[0;32m/media/dean/datastore1/datasets/Scripts/utils/datasets.py\u001b[0m in \u001b[0;36mexport\u001b[0;34m(self, format)\u001b[0m\n\u001b[1;32m    429\u001b[0m     \u001b[0;32mdef\u001b[0m \u001b[0mexport\u001b[0m\u001b[0;34m(\u001b[0m\u001b[0mself\u001b[0m\u001b[0;34m,\u001b[0m \u001b[0mformat\u001b[0m \u001b[0;34m=\u001b[0m \u001b[0mFormat\u001b[0m\u001b[0;34m.\u001b[0m\u001b[0mcoco\u001b[0m\u001b[0;34m)\u001b[0m\u001b[0;34m:\u001b[0m\u001b[0;34m\u001b[0m\u001b[0m\n\u001b[1;32m    430\u001b[0m         \u001b[0;32mif\u001b[0m \u001b[0mformat\u001b[0m \u001b[0;34m==\u001b[0m \u001b[0mFormat\u001b[0m\u001b[0;34m.\u001b[0m\u001b[0mcoco\u001b[0m\u001b[0;34m:\u001b[0m\u001b[0;34m\u001b[0m\u001b[0m\n\u001b[0;32m--> 431\u001b[0;31m             \u001b[0mself\u001b[0m\u001b[0;34m.\u001b[0m\u001b[0mgenerate_coco_annotations\u001b[0m\u001b[0;34m(\u001b[0m\u001b[0;34m)\u001b[0m\u001b[0;34m\u001b[0m\u001b[0m\n\u001b[0m\u001b[1;32m    432\u001b[0m             \u001b[0mself\u001b[0m\u001b[0;34m.\u001b[0m\u001b[0mgenerate_names_cfg\u001b[0m\u001b[0;34m(\u001b[0m\u001b[0;34m)\u001b[0m\u001b[0;34m\u001b[0m\u001b[0m\n\u001b[1;32m    433\u001b[0m \u001b[0;34m\u001b[0m\u001b[0m\n",
      "\u001b[0;32m/media/dean/datastore1/datasets/Scripts/utils/datasets.py\u001b[0m in \u001b[0;36mgenerate_coco_annotations\u001b[0;34m(self)\u001b[0m\n\u001b[1;32m    376\u001b[0m \u001b[0;34m\u001b[0m\u001b[0m\n\u001b[1;32m    377\u001b[0m \u001b[0;34m\u001b[0m\u001b[0m\n\u001b[0;32m--> 378\u001b[0;31m         \u001b[0mcoco_anns\u001b[0m\u001b[0;34m,\u001b[0m \u001b[0mcoco_imgs\u001b[0m \u001b[0;34m=\u001b[0m \u001b[0mself\u001b[0m\u001b[0;34m.\u001b[0m\u001b[0mconvert_anns_to_coco\u001b[0m\u001b[0;34m(\u001b[0m\u001b[0;34m)\u001b[0m\u001b[0;34m\u001b[0m\u001b[0m\n\u001b[0m\u001b[1;32m    379\u001b[0m \u001b[0;34m\u001b[0m\u001b[0m\n\u001b[1;32m    380\u001b[0m \u001b[0;34m\u001b[0m\u001b[0m\n",
      "\u001b[0;32m/media/dean/datastore1/datasets/Scripts/utils/datasets.py\u001b[0m in \u001b[0;36mconvert_anns_to_coco\u001b[0;34m(self)\u001b[0m\n\u001b[1;32m    309\u001b[0m             \u001b[0mwidth\u001b[0m\u001b[0;34m,\u001b[0m \u001b[0mheight\u001b[0m \u001b[0;34m=\u001b[0m \u001b[0mself\u001b[0m\u001b[0;34m.\u001b[0m\u001b[0m_images\u001b[0m\u001b[0;34m[\u001b[0m\u001b[0mfname\u001b[0m\u001b[0;34m]\u001b[0m\u001b[0;34m[\u001b[0m\u001b[0;34m'width'\u001b[0m\u001b[0;34m]\u001b[0m\u001b[0;34m,\u001b[0m \u001b[0mself\u001b[0m\u001b[0;34m.\u001b[0m\u001b[0m_images\u001b[0m\u001b[0;34m[\u001b[0m\u001b[0mfname\u001b[0m\u001b[0;34m]\u001b[0m\u001b[0;34m[\u001b[0m\u001b[0;34m'height'\u001b[0m\u001b[0;34m]\u001b[0m\u001b[0;34m\u001b[0m\u001b[0m\n\u001b[1;32m    310\u001b[0m \u001b[0;34m\u001b[0m\u001b[0m\n\u001b[0;32m--> 311\u001b[0;31m             \u001b[0;32mif\u001b[0m \u001b[0;32mnot\u001b[0m \u001b[0mfname\u001b[0m\u001b[0;34m.\u001b[0m\u001b[0mstartswith\u001b[0m\u001b[0;34m(\u001b[0m\u001b[0mimg_prefix\u001b[0m\u001b[0;34m)\u001b[0m\u001b[0;34m:\u001b[0m\u001b[0;34m\u001b[0m\u001b[0m\n\u001b[0m\u001b[1;32m    312\u001b[0m                 \u001b[0mfname\u001b[0m \u001b[0;34m=\u001b[0m \u001b[0mimg_prefix\u001b[0m\u001b[0;34m+\u001b[0m\u001b[0mfname\u001b[0m\u001b[0;34m\u001b[0m\u001b[0m\n\u001b[1;32m    313\u001b[0m             \u001b[0mdic\u001b[0m \u001b[0;34m=\u001b[0m \u001b[0;34m{\u001b[0m\u001b[0;34m'file_name'\u001b[0m\u001b[0;34m:\u001b[0m \u001b[0mfname\u001b[0m\u001b[0;34m,\u001b[0m \u001b[0;34m'id'\u001b[0m\u001b[0;34m:\u001b[0m \u001b[0mimg_offset\u001b[0m\u001b[0;34m+\u001b[0m\u001b[0mimg_id\u001b[0m\u001b[0;34m,\u001b[0m \u001b[0;34m'height'\u001b[0m\u001b[0;34m:\u001b[0m \u001b[0mheight\u001b[0m\u001b[0;34m,\u001b[0m \u001b[0;34m'width'\u001b[0m\u001b[0;34m:\u001b[0m \u001b[0mwidth\u001b[0m\u001b[0;34m}\u001b[0m\u001b[0;34m\u001b[0m\u001b[0m\n",
      "\u001b[0;31mNameError\u001b[0m: name 'img_prefix' is not defined"
     ]
    }
   ],
   "source": [
    "# For Run in Training Runs    \n",
    "trainers = os.listdir(TRAINERS_DIRECTORY)\n",
    "all_training_runs = []\n",
    "\n",
    "for trainer in trainers:\n",
    "    ## Prepare Dataset ##\n",
    "    bdd_set = datasets.DataFormatter(annotations_list = ANNOTATIONS_FILE, data_format = datasets.Format.bdd, \n",
    "                                     output_path = os.path.join(TRAINERS_DIRECTORY,trainer,'data'),\n",
    "                                     trainer_prefix = 'COCO_train2014_0000', s3_bucket = 'kache-scalabel/bdd100k/images/100k/train/')\n",
    "#     print(list(bdd_set._images.values())[:5],\"\\n\"*4)\n",
    "    \n",
    "    # TODO: Export Dataset to coco directory\n",
    "    bdd_set.export(format = datasets.Format.coco)\n",
    "    \n",
    "    # TODO: Export COCO format to Yolo\n",
    "    \n",
    "    # TODO: Generate data config in trainers directory.\n",
    "    \n",
    "    print('Initiating Trainer:', os.path.join(TRAINERS_DIRECTORY,trainer))\n",
    "    # Grab hyperparameters from filename\n",
    "    tokens = trainer.split('_')\n",
    "    hyperparams = {'name': tokens[0], \n",
    "                   'gpus': int(tokens[1].replace('gpu','')),\n",
    "                   'lr': float('0.'+tokens[2].replace('lr','')),\n",
    "                   'batch': int(tokens[3].replace('bat','')),\n",
    "                   'subdivisions': int(tokens[4].replace('sd','')),\n",
    "                   'epochs': int(tokens[5].replace('ep',''))}\n",
    "    print('\\t', 'Hyperparameters:', hyperparams)\n",
    "    \n",
    "    # Update model config\n",
    "    \n",
    "    model_config = parse_model_config(MODEL_CONFIG_PATH)\n",
    "    for block in model_config:        \n",
    "        if block['type'] == 'net':\n",
    "            block['learning_rate'] = hyperparams['lr']\n",
    "            block['batch'] = hyperparams['batch']\n",
    "            block['subdivisions'] = hyperparams['subdivisions']\n",
    "            block['burn_in'] = len(bdd_set._images)//(hyperparams['gpus'] * hyperparams['batch'])\n",
    "            block['max_batches'] = len(bdd_set._images)//(hyperparams['gpus'] * hyperparams['batch']) * hyperparams['epochs']\n",
    "\n",
    "    os.makedirs(os.path.join(TRAINERS_DIRECTORY,trainer, 'cfg'), exist_ok = True)\n",
    "    save_model_config(model_config, os.path.join(TRAINERS_DIRECTORY,trainer, 'cfg', os.path.split(MODEL_CONFIG_PATH)[-1]))\n",
    "    \n",
    "    # Update data config\n",
    "    data_config = parse_data_config(DATA_CONFIG_PATH)\n",
    "    print(data_config)\n",
    "    "
   ]
  },
  {
   "cell_type": "code",
   "execution_count": 7,
   "metadata": {
    "scrolled": true
   },
   "outputs": [],
   "source": [
    "bdd_set.export(format = datasets.Format.coco)"
   ]
  },
  {
   "cell_type": "code",
   "execution_count": null,
   "metadata": {},
   "outputs": [],
   "source": []
  }
 ],
 "metadata": {
  "kernelspec": {
   "display_name": "Python [default]",
   "language": "python",
   "name": "python3"
  },
  "language_info": {
   "codemirror_mode": {
    "name": "ipython",
    "version": 3
   },
   "file_extension": ".py",
   "mimetype": "text/x-python",
   "name": "python",
   "nbconvert_exporter": "python",
   "pygments_lexer": "ipython3",
   "version": "3.6.0"
  },
  "widgets": {
   "state": {},
   "version": "1.1.2"
  }
 },
 "nbformat": 4,
 "nbformat_minor": 2
}
