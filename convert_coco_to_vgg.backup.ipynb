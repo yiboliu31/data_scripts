{
 "cells": [
  {
   "cell_type": "markdown",
   "metadata": {},
   "source": [
    "## Coco Annotations to VGG Labeler"
   ]
  },
  {
   "cell_type": "code",
   "execution_count": null,
   "metadata": {
    "scrolled": true
   },
   "outputs": [],
   "source": [
    "## Imports\n",
    "\n",
    "%matplotlib inline\n",
    "import matplotlib.image as mpimg\n",
    "import matplotlib.pyplot as plt\n",
    "import numpy as np\n",
    "import cv2\n",
    "import glob\n",
    "from PIL import Image\n",
    "\n",
    "import scipy.misc\n",
    "from skimage import measure   \n",
    "\n",
    "import time\n",
    "import os\n",
    "import zipfile as zf\n",
    "import tarfile\n",
    "import csv\n",
    "import pickle\n",
    "import urllib\n",
    "import pandas as pd\n",
    "\n",
    "\n",
    "from pycocotools.coco import COCO\n",
    "import numpy as np\n",
    "import skimage.io as io\n",
    "import matplotlib.pyplot as plt\n",
    "import pylab\n",
    "import json"
   ]
  },
  {
   "cell_type": "markdown",
   "metadata": {},
   "source": [
    "### Helper Functions - Kache Dataset Loading"
   ]
  },
  {
   "cell_type": "code",
   "execution_count": null,
   "metadata": {},
   "outputs": [],
   "source": [
    "def maybe_download(source_url, filename):\n",
    "    if not os.path.exists(IMAGES_DIRECTORY):\n",
    "        os.mkdir(IMAGES_DIRECTORY)\n",
    "    \n",
    "    filepath = os.path.join(IMAGES_DIRECTORY, filename)\n",
    "    if not os.path.exists(filepath):\n",
    "        filepath, _ = urllib.request.urlretrieve(source_url, filepath)\n",
    "        statinfo = os.stat(filepath)\n",
    "        print('')\n",
    "        print('Succesfully downloaded:', filepath, '| % d MB.' % int(statinfo.st_size*1e-6))\n",
    "    return filepath"
   ]
  },
  {
   "cell_type": "markdown",
   "metadata": {},
   "source": [
    "### Script Constants"
   ]
  },
  {
   "cell_type": "code",
   "execution_count": null,
   "metadata": {},
   "outputs": [],
   "source": [
    "## Dataset Parameters ##\n",
    "WORKING_DIRECTORY = '/media/dean/datastore/ROAD_COCO'\n",
    "\n",
    "COCO_DIRECTORY = '/media/dean/datastore/ROAD_COCO/darknet/data/coco/'\n",
    "IMAGES_DIRECTORY = os.path.join(COCO_DIRECTORY,'images/vgg_anns/')\n",
    "img_prefix = 'COCO_train2014_0000'\n",
    "UNCHANGED_COCO_ANNOTATIONS_FILE = os.path.join(COCO_DIRECTORY,'annotations' , 'instances_train2014.json')\n",
    "ROAD_COCO_ANNOTATIONS_FILE = os.path.join(COCO_DIRECTORY,'annotations' , 'roadcoco_instances_train2014.json')\n",
    "\n",
    "\n",
    "## VGG Labeler Dataset Extraction Parameters ##\n",
    "PARTIAL_ANNS_CSV = os.path.join(WORKING_DIRECTORY, 'partial_detections.csv')\n",
    "HEADER_ROW=['filename', 'file_size', 'file_attributes', 'region_count', 'region_id', 'region_shape_attributes', 'region_attributes']"
   ]
  },
  {
   "cell_type": "code",
   "execution_count": null,
   "metadata": {},
   "outputs": [],
   "source": [
    "example_coco = COCO(ROAD_COCO_ANNOTATIONS_FILE)"
   ]
  },
  {
   "cell_type": "code",
   "execution_count": null,
   "metadata": {},
   "outputs": [],
   "source": [
    "## Write Annotations to CSV\n",
    "\n",
    "anns = []\n",
    "filename = UNCHANGED_COCO_ANNOTATIONS_FILE\n",
    "with open(filename, 'r') as f:\n",
    "    data = json.load(f)\n",
    "    ann = {}\n",
    "    \n",
    "    g = open(PARTIAL_ANNS_CSV, \"w\")\n",
    "    g.write(','.join(HEADER_ROW))\n",
    "    g.write('\\n')\n",
    "    \n",
    "    # loop through each image\n",
    "    urlstofilepaths = {}\n",
    "    for image_data in data['images']:\n",
    "        \n",
    "        # Download Image if not exist\n",
    "        url = image_data['flickr_url']\n",
    "        fname = os.path.split(url)[-1]\n",
    "        urlstofilepaths[url] = maybe_download(url, os.path.join(IMAGES_DIRECTORY, img_prefix+fname))\n",
    "    \n",
    "        \n",
    "        # Get Image Size in Bytes\n",
    "        img_file_size =  os.stat(urlstofilepaths[url]).st_size\n",
    "        ann['filename'] = url\n",
    "        ann['file_size'] = img_file_size\n",
    "        \n",
    "        # Grab all annotations corresponding to ther image\n",
    "        img_annotation_ids = example_coco.getAnnIds(imgIds=image_data['id'])\n",
    "        \n",
    "        # Determine Region Count\n",
    "        region_count = len(img_annotation_ids)\n",
    "        ann['region_count'] = region_count\n",
    "        \n",
    "        # Loop through each annotation\n",
    "        for i, annotation in enumerate(example_coco.loadAnns(img_annotation_ids)):\n",
    "            ann['region_id'] = i\n",
    "            cat = example_coco.loadCats([annotation['category_id']])[0]\n",
    "            ann['category'] = cat['name']\n",
    "            ann['x'] = annotation['bbox'][0]\n",
    "            ann['y'] = annotation['bbox'][1]\n",
    "            ann['width'] = annotation['bbox'][2]\n",
    "            ann['height'] = annotation['bbox'][3]\n",
    "        \n",
    "            # Create row entry in csv table\n",
    "            g.write(ann['filename'] + ',' + str(ann['file_size']) + ',\"{}\",' + str(ann['region_count']) + \\\n",
    "                    \",\" + str(ann['region_id']) + \",\" + '\"{\"\"name\"\":\"\"rect\"\",\"\"x\"\":' + str(ann['x']) + \\\n",
    "                    \",\" + '\"\"y\"\":' + str(ann['y']) + \",\" + '\"\"width\"\":' + str(ann['width']) + ','+ '\"\"height\"\":' + \\\n",
    "                     str(ann['height']) + '}\"' + \",\" + '\"{\"\"type\"\":\"\"' + str(ann['category']) + '\"\"}\"') \n",
    "            g.write('\\n')\n",
    "    \n"
   ]
  }
 ],
 "metadata": {
  "kernelspec": {
   "display_name": "Python [conda env:ros-kache]",
   "language": "python",
   "name": "conda-env-ros-kache-py"
  },
  "language_info": {
   "codemirror_mode": {
    "name": "ipython",
    "version": 3
   },
   "file_extension": ".py",
   "mimetype": "text/x-python",
   "name": "python",
   "nbconvert_exporter": "python",
   "pygments_lexer": "ipython3",
   "version": "3.6.0"
  },
  "widgets": {
   "state": {},
   "version": "1.1.2"
  }
 },
 "nbformat": 4,
 "nbformat_minor": 2
}
