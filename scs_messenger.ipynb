{
 "cells": [
  {
   "cell_type": "code",
   "execution_count": 14,
   "metadata": {},
   "outputs": [
    {
     "name": "stdout",
     "output_type": "stream",
     "text": [
      "{'weights_path': '/media/dean/datastore/perception-pipelines/pipelines/models/1557540718/weights/weights_20000.pt', 'labels': ['bike', 'bus', 'car', 'motorcycle', 'person', 'rider', 'traffic light', 'traffic light-amber', 'traffic light-green', 'traffic light-red', 'traffic sign', 'train', 'truck'], 'anchors': [[6, 8], [14, 21], [25, 39], [33, 91], [54, 57], [90, 101], [71, 170], [139, 170], [141, 283]]}\n",
      "648232b8-5ad1-4268-8239-152b47453f90\n",
      "07dfd42a09f1653a7eee7a92b8d786a5\n"
     ]
    }
   ],
   "source": [
    "import boto3\n",
    "import datetime\n",
    "import os\n",
    "import requests\n",
    "import toml\n",
    "from ast import literal_eval as make_tuple\n",
    "import json\n",
    "\n",
    "\n",
    "## Models Dir: /media/kuser/rack2remote/perception-pipelines/models\n",
    "master_models_dir =  '/media/dean/datastore/perception-pipelines/models'\n",
    "generate = False\n",
    "\n",
    "if generate:\n",
    "    d = datetime.datetime.utcnow()\n",
    "    epoch = datetime.datetime(1970,1,1)\n",
    "    timestamp = int((d - epoch).total_seconds())\n",
    "\n",
    "    ## From Training Pipeline -- Send SCS Message ##\n",
    "    weights_dir = os.path.join(master_models_dir, str(timestamp), 'weights')\n",
    "    os.makedirs(weights_dir, exist_ok = True)\n",
    "else: weights_dir = '/media/dean/datastore/perception-pipelines/pipelines/models/1557540718/weights'\n",
    "\n",
    "weights_config = {\n",
    "    'weights_path': os.path.join(weights_dir, 'weights_20000.pt'),\n",
    "    'labels': [\"bike\",\"bus\",\"car\",\"motorcycle\",\"person\",\"rider\",\"traffic light\",\"traffic light-amber\",\"traffic light-green\",\"traffic light-red\",\"traffic sign\",\"train\",\"truck\"],\n",
    "    'anchors': [[6,8], [14,21], [25,39], [33,91], [54,57], [90,101], [71,170], [139,170], [141,283]],\n",
    "                  }\n",
    "\n",
    "\n",
    "print(weights_config)\n",
    "\n",
    "sqs = boto3.resource('sqs')\n",
    "message_groupid = 'testing_group1'\n",
    "# Get the queue. This returns an SQS.Queue instance\n",
    "queue = sqs.get_queue_by_name(QueueName='model_testing.fifo')\n",
    "response = queue.send_message(MessageBody=str(weights_config), MessageGroupId=message_groupid)\n",
    "\n",
    "# The response is NOT a resource, but gives you a message ID and MD5\n",
    "print(response.get('MessageId'))\n",
    "print(response.get('MD5OfMessageBody'))"
   ]
  },
  {
   "cell_type": "code",
   "execution_count": 16,
   "metadata": {},
   "outputs": [
    {
     "name": "stdout",
     "output_type": "stream",
     "text": [
      "{'weights_path': '/media/dean/datastore/perception-pipelines/pipelines/models/1557540719/weights/weights_1000.pt', 'labels': ['construct-cone', 'construct-sign', 'construct-barrel', 'construct-pole', 'construct-post', 'construct-equipment'], 'anchors': [[3, 5], [5, 10], [10, 17], [16, 27], [24, 43], [33, 65], [39, 100], [72, 60], [76, 177]]}\n",
      "6b59c55a-f5f0-49e1-ba0d-e2fb46fdac6b\n",
      "1f6dbbf185c93fa695b4e1faec23812f\n"
     ]
    }
   ],
   "source": [
    "import boto3\n",
    "import datetime\n",
    "import os\n",
    "import requests\n",
    "import toml\n",
    "from ast import literal_eval as make_tuple\n",
    "import json\n",
    "\n",
    "\n",
    "## Models Dir: /media/kuser/rack2remote/perception-pipelines/models\n",
    "master_models_dir =  '/media/dean/datastore/perception-pipelines/models'\n",
    "generate = False\n",
    "\n",
    "if generate:\n",
    "    d = datetime.datetime.utcnow()\n",
    "    epoch = datetime.datetime(1970,1,1)\n",
    "    timestamp = int((d - epoch).total_seconds())\n",
    "\n",
    "    ## From Training Pipeline -- Send SCS Message ##\n",
    "    weights_dir = os.path.join(master_models_dir, str(timestamp), 'weights')\n",
    "    os.makedirs(weights_dir, exist_ok = True)\n",
    "else: weights_dir = '/media/dean/datastore/perception-pipelines/pipelines/models/1557540719/weights'\n",
    "\n",
    "weights_config = {\n",
    "    'weights_path': os.path.join(weights_dir, 'weights_1000.pt'),\n",
    "    'labels': [\"construct-cone\", \"construct-sign\", \"construct-barrel\", \"construct-pole\", \"construct-post\", \"construct-equipment\"],\n",
    "    'anchors': [[3,5], [5,10], [10,17], [16,27], [24,43], [33,65], [39,100], [72,60], [76,177]],\n",
    "                  }\n",
    "\n",
    "\n",
    "print(weights_config)\n",
    "\n",
    "sqs = boto3.resource('sqs')\n",
    "message_groupid = 'testing_group1'\n",
    "# Get the queue. This returns an SQS.Queue instance\n",
    "queue = sqs.get_queue_by_name(QueueName='model_testing.fifo')\n",
    "response = queue.send_message(MessageBody=str(weights_config), MessageGroupId=message_groupid)\n",
    "\n",
    "# The response is NOT a resource, but gives you a message ID and MD5\n",
    "print(response.get('MessageId'))\n",
    "print(response.get('MD5OfMessageBody'))"
   ]
  },
  {
   "cell_type": "code",
   "execution_count": null,
   "metadata": {},
   "outputs": [],
   "source": []
  }
 ],
 "metadata": {
  "kernelspec": {
   "display_name": "Python 3",
   "language": "python",
   "name": "python3"
  },
  "language_info": {
   "codemirror_mode": {
    "name": "ipython",
    "version": 3
   },
   "file_extension": ".py",
   "mimetype": "text/x-python",
   "name": "python",
   "nbconvert_exporter": "python",
   "pygments_lexer": "ipython3",
   "version": "3.6.8"
  }
 },
 "nbformat": 4,
 "nbformat_minor": 2
}
