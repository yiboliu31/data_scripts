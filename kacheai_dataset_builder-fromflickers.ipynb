{
 "cells": [
  {
   "cell_type": "code",
   "execution_count": 1,
   "metadata": {},
   "outputs": [],
   "source": [
    "%load_ext autoreload\n",
    "%autoreload 2"
   ]
  },
  {
   "cell_type": "code",
   "execution_count": 2,
   "metadata": {},
   "outputs": [],
   "source": [
    "# from PIL import Image\n",
    "# import os, sys\n",
    "# import glob\n",
    "\n",
    "\n",
    "# IMAGE_EXTENSTION = '.jpg'\n",
    "# path = '/media/dean/datastore/datasets/darknet/data/construction_set4/coco/images/train2014'\n",
    "# imgs = glob.glob(os.path.join(path, '*'+IMAGE_EXTENSTION))\n",
    "\n",
    "# def resize():\n",
    "#     for img in imgs:\n",
    "#         if os.path.isfile(img):\n",
    "#             im = Image.open(img)\n",
    "#             if im.mode in (\"RGBA\", \"P\"):\n",
    "#                 im = im.convert(\"RGB\")\n",
    "#             f, e = os.path.splitext(img)\n",
    "#             #imResize = im.resize((1280,1080), Image.ANTIALIAS)\n",
    "#             im.save(f.replace('COCO_train2014_0000', '') + '.jpg', 'JPEG', quality=99)\n",
    "#             print('resized:', img)\n",
    "#             #!rm -f $img\n",
    "            \n",
    "# resize()"
   ]
  },
  {
   "cell_type": "code",
   "execution_count": 3,
   "metadata": {},
   "outputs": [],
   "source": [
    "import os\n",
    "import glob\n",
    "import shutil\n",
    "import hashlib\n",
    "from collections import OrderedDict\n",
    "import pandas as pd\n",
    "import time\n",
    "import datetime\n",
    "import pickle\n",
    "from utils import datasets\n",
    "from enum import Enum\n",
    "import pynmea2"
   ]
  },
  {
   "cell_type": "code",
   "execution_count": 4,
   "metadata": {},
   "outputs": [],
   "source": [
    "IMAGE_EXTENSTION = '.jpg'"
   ]
  },
  {
   "cell_type": "code",
   "execution_count": 5,
   "metadata": {},
   "outputs": [],
   "source": [
    "\n",
    "class Format(Enum):\n",
    "    atm = 0\n",
    "    ros = 1\n",
    "    gopro = 2\n",
    "    raw = 3"
   ]
  },
  {
   "cell_type": "code",
   "execution_count": 6,
   "metadata": {},
   "outputs": [],
   "source": [
    "# Try on small subset ..\n",
    "input_format = Format.raw\n",
    "skip_section = True\n",
    "\n",
    "## --- Raw Image Data Handler --- ##\n",
    "if input_format == Format.raw and not skip_section:\n",
    "    frames_dir = '/media/dean/datastore/datasets/kache_ai/frames_dev/'\n",
    "    save_dir = os.path.join(frames_dir,'kache_set/')\n",
    "    os.makedirs(save_dir, 0o755 , exist_ok = True )\n",
    "\n",
    "    img_data = []\n",
    "    lookup_table = OrderedDict()\n",
    "    img_dict = OrderedDict()\n",
    "    bag_path = os.path.join(frames_dir)\n",
    "\n",
    "    img_dict['bag_path'] = frames_dir\n",
    "    img_dict['frames'] = []\n",
    "    img_dict['csv_path'] = ''\n",
    "\n",
    "    # Get all images\n",
    "    imgs = glob.glob(os.path.join(bag_path,'**', '*'+IMAGE_EXTENSTION))\n",
    "    print(len(imgs))\n",
    "    for idx, img in enumerate(sorted(set(imgs))):\n",
    "        print(img)\n",
    "        d = OrderedDict()\n",
    "        d['frame_path'] = img\n",
    "        d['frame_idx'] = int(idx)\n",
    "        hex_val = os.path.abspath(d['frame_path']).replace('/', '^^')+'---'+os.path.abspath(img_dict['csv_path']).replace('/', '^^')\n",
    "        hash_object = hashlib.sha1(str.encode(hex_val))\n",
    "        hex_dig = hash_object.hexdigest()\n",
    "        shutil.copyfile(d['frame_path'], os.path.join(save_dir, str(hex_dig)+IMAGE_EXTENSTION))\n",
    "        d['dataset_path'] = os.path.join(save_dir, str(hex_dig)+IMAGE_EXTENSTION)\n",
    "        d['hash_key'] = hex_dig\n",
    "        d['hash_val'] = hex_val\n",
    "        d['frame'] = str(d['dataset_path'])\n",
    "        lookup_table[d['hash_key']] = d['hash_val'] \n",
    "        old_path = os.path.join(bag_path, 'frames', os.path.split(d['frame_path'])[-1])\n",
    "\n",
    "        if d.get('frame', None): img_dict['frames'].append(d)\n",
    "    if img_dict['frames']: img_data.append((bag_path,img_dict))\n",
    "\n",
    "\n",
    "## --- ROS Bag Handler --- ##\n",
    "elif input_format == Format.ros:\n",
    "    HEADER_ROW=['bag', 'time_sec', 'time_nsec', 'GPS', 'v_ego', 'key_event', 'frame_name']\n",
    "    frames_dir = '/media/dean/datastore/datasets/kache_ai/frames_dev/'\n",
    "    save_dir = os.path.join(frames_dir,'kache_set/')\n",
    "    os.makedirs(save_dir, 0o755 , exist_ok = True )\n",
    "\n",
    "    img_data = []\n",
    "    lookup_table = OrderedDict()\n",
    "    img_dict = OrderedDict()\n",
    "    bag_path = os.path.join(frames_dir)\n",
    "    img_dict['bag_path'] = frames_dir\n",
    "    img_dict['frames'] = []\n",
    "    img_dict['csv_path'] = os.path.join(bag_path, 'frames.csv')\n",
    "    csv_logger = pd.read_csv(img_dict['csv_path'], names=HEADER_ROW, skiprows=1)\n",
    "\n",
    "    # Get all images\n",
    "    imgs = glob.glob(os.path.join(bag_path,'**/', '*.JPG'))\n",
    "\n",
    "    #for idx, img in enumerate(sorted(set(imgs))):\n",
    "    for idx, img in enumerate(set(imgs)):\n",
    "        d = OrderedDict()\n",
    "        d['frame_path'] = img\n",
    "        d['frame_idx'] = int(idx)\n",
    "        hex_val = os.path.abspath(d['frame_path']).replace('/', '^^')+'---'+os.path.abspath(img_dict['csv_path']).replace('/', '^^')\n",
    "        hash_object = hashlib.sha1(str.encode(hex_val))\n",
    "        hex_dig = hash_object.hexdigest()\n",
    "        shutil.copyfile(d['frame_path'], os.path.join(save_dir, str(hex_dig)+'.jpg'))\n",
    "        d['dataset_path'] = os.path.join(save_dir, str(hex_dig)+'.jpg')\n",
    "        d['hash_key'] = hex_dig\n",
    "        d['hash_val'] = hex_val\n",
    "        lookup_table[d['hash_key']] = d['hash_val'] \n",
    "        old_path = os.path.join(bag_path, 'frames', os.path.split(d['frame_path'])[-1])\n",
    "\n",
    "        for log in [x for x in csv_logger.as_matrix() if os.path.join(bag_path, 'frames', x[6].rstrip('/')) == old_path.rstrip('/')]:\n",
    "            d['bag_name'] = log[0]\n",
    "            d['time_sec'] = log[1]\n",
    "            d['time_readable'] = time.ctime(int(log[1]))\n",
    "\n",
    "            d['time_nsec'] = log[2]\n",
    "            d['GPS'] = log[3]\n",
    "            d['v-ego'] = log[4]\n",
    "\n",
    "            d['key_event'] = log[5]\n",
    "            d['frame'] = log[6]\n",
    "\n",
    "        if d.get('frame', None): img_dict['frames'].append(d)\n",
    "    if img_dict['frames']: img_data.append((bag_path,img_dict))\n",
    "\n",
    "\n",
    "        \n",
    "        \n",
    "        \n",
    "        \n",
    "if not skip_section:        \n",
    "    pickle_file = os.path.join(save_dir, 'kacheai_logs.pkl')\n",
    "    pickle_dict = {'img_data':img_data,'lookup_table':lookup_table}\n",
    "    print('Saving to Pickle File:', pickle_file)\n",
    "    with open(pickle_file,\"wb\") as pickle_out:\n",
    "        pickle.dump(pickle_dict, pickle_out)\n",
    "    print(img_data)\n",
    "\n"
   ]
  },
  {
   "cell_type": "code",
   "execution_count": 7,
   "metadata": {
    "scrolled": true
   },
   "outputs": [],
   "source": [
    "# WORKING_DIR = '/media/dean/datastore/datasets/kache_ai/frames_dev/kache_set/'\n",
    "# kache_set = datasets.DataFormatter(annotations_list = os.path.join(WORKING_DIR,'kacheai_logs.pkl'), image_list = WORKING_DIR, input_format = datasets.Format.kache,\n",
    "#                                  output_path = os.path.join(WORKING_DIR,'scalabel_files/'),\n",
    "#                                  trainer_prefix = 'COCO_train2014_0000', \n",
    "#                                  s3_bucket = 'kache-scalabel/kache_ai/frames/', check_s3 = False, use_static_categories = True)"
   ]
  },
  {
   "cell_type": "code",
   "execution_count": 8,
   "metadata": {},
   "outputs": [],
   "source": [
    "# kache_set.export(format = datasets.Format.bdd, paginate = False)"
   ]
  },
  {
   "cell_type": "code",
   "execution_count": 9,
   "metadata": {},
   "outputs": [],
   "source": [
    "# kache_set.export(format = datasets.Format.scalabel, paginate = True)"
   ]
  },
  {
   "cell_type": "code",
   "execution_count": 10,
   "metadata": {
    "scrolled": true
   },
   "outputs": [
    {
     "name": "stdout",
     "output_type": "stream",
     "text": [
      "Saving to Pickle File: kache_ai_frames_dev_kache_set_scalabel_files_bdd100k_annotations_bdd100k_altered_annotations.json.pkl\n",
      "Length of COCO Images 4687\n",
      "Length of COCO Annotations: 10532\n",
      "loading annotations into memory...\n",
      "Done (t=0.16s)\n",
      "creating index...\n",
      "index created!\n",
      "\n",
      "########### DATASET DISTRIBUTION: ###########\n",
      "\n",
      "CONSTRUCT-POST | Annotations: 10532  | Images:  3321\n",
      "\n",
      "################################################\n",
      "\n"
     ]
    }
   ],
   "source": [
    "WORKING_DIR = '/media/dean/datastore/datasets/kache_ai/frames_dev/kache_set/scalabel_files'\n",
    "kache_bddformat1 = datasets.DataFormatter(annotations_list = '/media/dean/datastore/datasets/kache_ai/frames_dev/kache_set/scalabel_files/bdd100k/annotations/bdd100k_altered_annotations.json', input_format = datasets.Format.bdd,\n",
    "                                 output_path = os.path.join(WORKING_DIR,'data/kache_bddformat1'),\n",
    "                                 trainer_prefix = 'COCO_train2014_0000', \n",
    "                                 s3_bucket = 'kache-scalabel/kache_ai/frames/', check_s3 = False, use_static_categories = False)"
   ]
  },
  {
   "cell_type": "code",
   "execution_count": 11,
   "metadata": {
    "scrolled": true
   },
   "outputs": [],
   "source": [
    "# WORKING_DIR = '/media/dean/datastore/datasets/kache_ai/frames_dev/kache_set/'\n",
    "\n",
    "# !aws s3 sync $WORKING_DIR s3://kache-scalabel/kache_ai/frames/"
   ]
  },
  {
   "cell_type": "code",
   "execution_count": 12,
   "metadata": {
    "scrolled": true
   },
   "outputs": [
    {
     "name": "stdout",
     "output_type": "stream",
     "text": [
      "DATA_CONFIG: /media/dean/datastore/datasets/kache_ai/frames_dev/kache_set/scalabel_files_10cats/inference/cfg/bdd100k.data\n",
      "MODEL_CONFIG: /media/dean/datastore/datasets/kache_ai/frames_dev/kache_set/scalabel_files_10cats/inference/cfg/yolov3-bdd100k.cfg\n",
      "MODEL_WEIGHTS: /media/dean/datastore/datasets/kache_ai/frames_dev/kache_set/scalabel_files_10cats/inference/models/yolov3-bdd100k_51418.weights\n",
      "Initializing Annotation Pipeline via Darknet ... \\o/ \\o/\n",
      "Saving to Pickle File: kache_ai_frames_dev_kache_set_kacheai_logs.pkl.pkl\n",
      "Length of COCO Images 4687\n",
      "Length of COCO Annotations: 4302\n",
      "loading annotations into memory...\n",
      "Done (t=0.02s)\n",
      "creating index...\n",
      "index created!\n",
      "\n",
      "########### DATASET DISTRIBUTION: ###########\n",
      "\n",
      "PERSON | Annotations: 3976  | Images:  2614\n",
      "BUS | Annotations: 164  | Images:  161\n",
      "TRAIN | Annotations: 1  | Images:  1\n",
      "TRAFFIC LIGHT | Annotations: 0  | Images:  0\n",
      "BIKE | Annotations: 44  | Images:  44\n",
      "RIDER | Annotations: 0  | Images:  0\n",
      "TRAFFIC SIGN | Annotations: 0  | Images:  0\n",
      "TRUCK | Annotations: 0  | Images:  0\n",
      "MOTOR | Annotations: 117  | Images:  106\n",
      "CAR | Annotations: 0  | Images:  0\n",
      "\n",
      "################################################\n",
      "\n"
     ]
    }
   ],
   "source": [
    "WORKING_DIR = '/media/dean/datastore/datasets/kache_ai/frames_dev/kache_set/'\n",
    "kache_set_with10cats = datasets.DataFormatter(annotations_list = os.path.join(WORKING_DIR,'kacheai_logs.pkl'), image_list = WORKING_DIR, input_format = datasets.Format.kache,\n",
    "                                 output_path = os.path.join(WORKING_DIR,'scalabel_files_10cats/'),use_cache = False,\n",
    "                                 trainer_prefix = 'COCO_train2014_0000', \n",
    "                                 s3_bucket = 'kache-scalabel/kache_ai/frames/', check_s3 = False, use_static_categories = True)"
   ]
  },
  {
   "cell_type": "code",
   "execution_count": 29,
   "metadata": {},
   "outputs": [],
   "source": [
    "kache_set_with10cats.export(format = datasets.Format.bdd, paginate = False)"
   ]
  },
  {
   "cell_type": "code",
   "execution_count": 14,
   "metadata": {},
   "outputs": [],
   "source": [
    "# kache_set_with10cats.export(format = datasets.Format.bdd, paginate = True)"
   ]
  },
  {
   "cell_type": "code",
   "execution_count": 45,
   "metadata": {
    "scrolled": true
   },
   "outputs": [
    {
     "name": "stdout",
     "output_type": "stream",
     "text": [
      "Saving to Pickle File: kache_ai_frames_dev_kache_set_scalabel_files_10cats_bdd100k_annotations_bdd100k_altered_annotations.json.pkl\n",
      "Length of COCO Images 4687\n",
      "Length of COCO Annotations: 4302\n",
      "loading annotations into memory...\n",
      "Done (t=0.02s)\n",
      "creating index...\n",
      "index created!\n",
      "\n",
      "########### DATASET DISTRIBUTION: ###########\n",
      "\n",
      "TRAFFIC SIGN-SLOW_SIGN | Annotations: 0  | Images:  0\n",
      "CONSTRUCT-POLE | Annotations: 0  | Images:  0\n",
      "MOTOR | Annotations: 117  | Images:  106\n",
      "PERSON | Annotations: 3976  | Images:  2614\n",
      "BUS | Annotations: 164  | Images:  161\n",
      "TRAFFIC LIGHT | Annotations: 0  | Images:  0\n",
      "TRAFFIC SIGN | Annotations: 0  | Images:  0\n",
      "TRAFFIC SIGN-STOP_SIGN | Annotations: 0  | Images:  0\n",
      "TRAIN | Annotations: 1  | Images:  1\n",
      "CONSTRUCT-EQUIPMENT | Annotations: 0  | Images:  0\n",
      "BIKE | Annotations: 44  | Images:  44\n",
      "RIDER | Annotations: 0  | Images:  0\n",
      "CONSTRUCT-BARREL | Annotations: 0  | Images:  0\n",
      "TRUCK | Annotations: 0  | Images:  0\n",
      "TRAFFIC LIGHT-RED | Annotations: 0  | Images:  0\n",
      "TRAILER | Annotations: 0  | Images:  0\n",
      "CAR | Annotations: 0  | Images:  0\n",
      "TRAFFIC LIGHT-AMBER | Annotations: 0  | Images:  0\n",
      "CONSTRUCT-POST | Annotations: 0  | Images:  0\n",
      "CONSTRUCT-CONE | Annotations: 0  | Images:  0\n",
      "TRAFFIC LIGHT-GREEN | Annotations: 0  | Images:  0\n",
      "CONSTRUCT-SIGN | Annotations: 0  | Images:  0\n",
      "TRAFFIC SIGN-SPEED_SIGN | Annotations: 0  | Images:  0\n",
      "\n",
      "################################################\n",
      "\n"
     ]
    }
   ],
   "source": [
    "## CHANGE CATS TO 11 CATS AND RE INITIALIZE\n",
    "\n",
    "WORKING_DIR = '/media/dean/datastore/datasets/kache_ai/frames_dev/kache_set/scalabel_files'\n",
    "kache_bddformat23 = datasets.DataFormatter(annotations_list = '/media/dean/datastore/datasets/kache_ai/frames_dev/kache_set/scalabel_files_10cats/bdd100k/annotations/bdd100k_altered_annotations.json', input_format = datasets.Format.bdd,\n",
    "                                 output_path = os.path.join(WORKING_DIR,'data/kache_bddformat10'),\n",
    "                                 trainer_prefix = 'COCO_train2014_0000', \n",
    "                                 s3_bucket = 'kache-scalabel/kache_ai/frames/', check_s3 = False, use_static_categories = True)"
   ]
  },
  {
   "cell_type": "code",
   "execution_count": 46,
   "metadata": {},
   "outputs": [
    {
     "name": "stdout",
     "output_type": "stream",
     "text": [
      "Successfully concatenated 4687 images | and  10532 annotations\n",
      "Length of COCO Annotations: 14834\n",
      "loading annotations into memory...\n",
      "Done (t=0.15s)\n",
      "creating index...\n",
      "index created!\n",
      "\n",
      "########### DATASET DISTRIBUTION: ###########\n",
      "\n",
      "TRAFFIC SIGN-SLOW_SIGN | Annotations: 0  | Images:  0\n",
      "CONSTRUCT-POLE | Annotations: 0  | Images:  0\n",
      "MOTOR | Annotations: 117  | Images:  106\n",
      "PERSON | Annotations: 3976  | Images:  2614\n",
      "BUS | Annotations: 164  | Images:  161\n",
      "TRAFFIC LIGHT | Annotations: 0  | Images:  0\n",
      "TRAFFIC SIGN | Annotations: 0  | Images:  0\n",
      "TRAFFIC SIGN-STOP_SIGN | Annotations: 0  | Images:  0\n",
      "TRAIN | Annotations: 1  | Images:  1\n",
      "CONSTRUCT-EQUIPMENT | Annotations: 0  | Images:  0\n",
      "BIKE | Annotations: 44  | Images:  44\n",
      "RIDER | Annotations: 0  | Images:  0\n",
      "CONSTRUCT-BARREL | Annotations: 0  | Images:  0\n",
      "TRUCK | Annotations: 0  | Images:  0\n",
      "TRAFFIC LIGHT-RED | Annotations: 0  | Images:  0\n",
      "TRAILER | Annotations: 0  | Images:  0\n",
      "CAR | Annotations: 0  | Images:  0\n",
      "TRAFFIC LIGHT-AMBER | Annotations: 0  | Images:  0\n",
      "CONSTRUCT-POST | Annotations: 10532  | Images:  3321\n",
      "CONSTRUCT-CONE | Annotations: 0  | Images:  0\n",
      "TRAFFIC LIGHT-GREEN | Annotations: 0  | Images:  0\n",
      "CONSTRUCT-SIGN | Annotations: 0  | Images:  0\n",
      "TRAFFIC SIGN-SPEED_SIGN | Annotations: 0  | Images:  0\n",
      "\n",
      "################################################\n",
      "\n",
      "Saving to Pickle File: kache_ai_frames_dev_kache_set_scalabel_files_10cats_bdd100k_annotations_bdd100k_altered_annotations.json.pkl\n"
     ]
    }
   ],
   "source": [
    "kache_bddformat23.concat(kache_bddformat1)"
   ]
  },
  {
   "cell_type": "code",
   "execution_count": 47,
   "metadata": {},
   "outputs": [],
   "source": [
    "kache_set_with10cats.export(format = datasets.Format.bdd, paginate = True)"
   ]
  },
  {
   "cell_type": "code",
   "execution_count": null,
   "metadata": {},
   "outputs": [],
   "source": []
  },
  {
   "cell_type": "code",
   "execution_count": 18,
   "metadata": {},
   "outputs": [],
   "source": [
    "# input_format = Format.ros"
   ]
  },
  {
   "cell_type": "code",
   "execution_count": 19,
   "metadata": {
    "scrolled": false
   },
   "outputs": [],
   "source": [
    "# ## --- ROS Bag Handler --- ##\n",
    "# if input_format == Format.ros:\n",
    "\n",
    "#     HEADER_ROW=['bag', 'time_sec', 'time_nsec', 'GPS', 'v_ego', 'key_event', 'frame_name']\n",
    "#     frames_dir = '/media/dean/datastore1/datasets/kache_ai/frames/'\n",
    "#     bag_dirs = os.listdir(frames_dir)\n",
    "#     save_dir = os.path.join(frames_dir,'kache_set/')\n",
    "#     os.makedirs(save_dir, 0o755 , exist_ok = True )\n",
    "\n",
    "#     img_data = []\n",
    "#     lookup_table = {}\n",
    "#     # if not os.path.exists(os.path.join())\n",
    "#     for bag in bag_dirs:\n",
    "#         if frames_dir != save_dir or '.csv' not in frames_dir:\n",
    "#             img_dict = {}\n",
    "#             bag_path = os.path.join(frames_dir, bag)\n",
    "#             img_dict['bag_path'] = frames_dir\n",
    "#             img_dict['frames'] = []\n",
    "#             img_dict['csv_path'] = os.path.join(bag_path, 'frames.csv')\n",
    "#             if os.path.exists(img_dict['csv_path']):\n",
    "#                 csv_logger = pd.read_csv(img_dict['csv_path'], names=HEADER_ROW, skiprows=1)\n",
    "\n",
    "#                 # Get all images\n",
    "#                 imgs = glob.glob(os.path.join(bag_path,'**/', '*.jpg'))\n",
    "\n",
    "#                 for img in sorted(set(imgs)):\n",
    "#                     d = {}\n",
    "#                     d['frame_path'] = img\n",
    "#                     hex_val = os.path.abspath(d['frame_path']).replace('/', '^^')+'---'+os.path.abspath(img_dict['csv_path']).replace('/', '^^')\n",
    "#                     hash_object = hashlib.sha1(str.encode(hex_val))\n",
    "#                     hex_dig = hash_object.hexdigest()\n",
    "#                     shutil.copyfile(d['frame_path'], os.path.join(save_dir, str(hex_dig)+'.jpg'))\n",
    "#                     d['dataset_path'] = os.path.join(save_dir, str(hex_dig)+'.jpg')\n",
    "#                     d['hash_key'] = hex_dig\n",
    "#                     d['hash_val'] = hex_val\n",
    "#                     lookup_table[d['hash_key']] = d['hash_val'] \n",
    "#                     old_path = os.path.join(bag_path, 'frames', os.path.split(d['frame_path'])[-1])\n",
    "\n",
    "#                     for log in [x for x in csv_logger.as_matrix() if os.path.join(bag_path, 'frames', x[6].rstrip('/')) == old_path.rstrip('/')]:\n",
    "#                         d['bag_name'] = log[0]\n",
    "#                         d['time_sec'] = log[1]\n",
    "#                         d['time_readable'] = time.ctime(int(log[1]))\n",
    "\n",
    "#                         d['time_nsec'] = log[2]\n",
    "#                         d['GPS'] = log[3]\n",
    "#                         d['v-ego'] = log[4]\n",
    "#                         d['latitude'] = None\n",
    "#                         d['longitude'] = None\n",
    "#                         if d['GPS']:\n",
    "#                             msg = pynmea2.parse(d['GPS'])\n",
    "#                             d['latitude'] = msg.lat\n",
    "#                             d['longitude'] = msg.lon\n",
    "\n",
    "#                         d['key_event'] = log[5]\n",
    "#                         d['frame'] = log[6]\n",
    "\n",
    "#                     if d.get('frame', None): img_dict['frames'].append(d)\n",
    "#                 if img_dict['frames']: img_data.append((bag_path,img_dict))\n",
    "\n",
    "# pickle_file = os.path.join(save_dir, 'kacheai_logs.pickle')\n",
    "# pickle_dict = {'img_data':img_data,'lookup_table':lookup_table}\n",
    "# print('Saving to Pickle File:', pickle_file)\n",
    "# with open(pickle_file,\"wb\") as pickle_out:\n",
    "#     pickle.dump(pickle_dict, pickle_out)\n",
    "\n"
   ]
  },
  {
   "cell_type": "code",
   "execution_count": 20,
   "metadata": {},
   "outputs": [],
   "source": [
    "# WORKING_DIR = '/media/dean/datastore1/datasets/kache_ai/frames/kache_set/'\n",
    "# kache_set = datasets.DataFormatter(annotations_list = '/media/dean/datastore1/datasets/kache_ai/frames/kache_set/kacheai_logs.pickle', \n",
    "#                                    image_list = '/media/dean/datastore/datasets1/kache_ai/frames/kache_set/', \n",
    "#                                    input_format = datasets.Format.kache, output_path = os.path.join(WORKING_DIR,'scalabel_files'), use_cache = True,\n",
    "#                                    trainer_prefix = 'COCO_train2014_0000', s3_bucket = 'kache-scalabel/kache_ai/frames/', check_s3 = False, use_static_categories = True)"
   ]
  },
  {
   "cell_type": "code",
   "execution_count": 21,
   "metadata": {},
   "outputs": [],
   "source": [
    "# kache_set.export(format = datasets.Format.scalabel, paginate = False)"
   ]
  },
  {
   "cell_type": "code",
   "execution_count": 22,
   "metadata": {},
   "outputs": [],
   "source": [
    "# kache_set.export(format = datasets.Format.scalabel, paginate = True)"
   ]
  },
  {
   "cell_type": "code",
   "execution_count": 23,
   "metadata": {},
   "outputs": [],
   "source": [
    "# !cp /media/dean/datastore1/datasets/kache_ai/frames/kache_set/scalabel_files/bdd100k/annotations/bdd100k_altered_annotations.json /media/dean/datastore1/data-pipeline-master/data_processing/data/fixtures/kache_construction_prelabel_v1.json"
   ]
  },
  {
   "cell_type": "code",
   "execution_count": 24,
   "metadata": {},
   "outputs": [],
   "source": [
    "# !cp /media/dean/datastore1/datasets/darknet/data/bdd_set/bdd100k/annotations/bdd100k_altered_annotations.json /media/dean/datastore1/data-pipeline-master/data_processing/data/fixtures/bdd100k_train_prelabel.json"
   ]
  },
  {
   "cell_type": "code",
   "execution_count": 25,
   "metadata": {},
   "outputs": [],
   "source": [
    "# !cp /media/dean/datastore1/datasets/darknet/data/bdd_val_set/bdd100k/annotations/bdd100k_altered_annotations.json /media/dean/datastore1/data-pipeline-master/data_processing/data/fixtures/bdd100k_val_prelabel.json"
   ]
  },
  {
   "cell_type": "code",
   "execution_count": 26,
   "metadata": {},
   "outputs": [],
   "source": [
    "# !cp /media/dean/datastore1/datasets/darknet/data/coco_set/bdd100k/annotations/bdd100k_altered_annotations.json /media/dean/datastore1/data-pipeline-master/data_processing/data/fixtures/coco_train2014_prelabel.json"
   ]
  },
  {
   "cell_type": "code",
   "execution_count": 27,
   "metadata": {},
   "outputs": [],
   "source": [
    "# !cp /media/dean/datastore1/datasets/darknet/data/coco_val_set/bdd100k/annotations/bdd100k_altered_annotations.json /media/dean/datastore1/data-pipeline-master/data_processing/data/fixtures/coco_val2014_prelabel.json"
   ]
  },
  {
   "cell_type": "code",
   "execution_count": 28,
   "metadata": {},
   "outputs": [],
   "source": [
    "# !cd /media/dean/datastore1/data-pipeline-master/ && sudo docker-compose up import_json"
   ]
  },
  {
   "cell_type": "code",
   "execution_count": null,
   "metadata": {},
   "outputs": [],
   "source": []
  },
  {
   "cell_type": "code",
   "execution_count": null,
   "metadata": {},
   "outputs": [],
   "source": []
  },
  {
   "cell_type": "code",
   "execution_count": null,
   "metadata": {},
   "outputs": [],
   "source": []
  },
  {
   "cell_type": "code",
   "execution_count": null,
   "metadata": {},
   "outputs": [],
   "source": []
  },
  {
   "cell_type": "code",
   "execution_count": null,
   "metadata": {},
   "outputs": [],
   "source": []
  }
 ],
 "metadata": {
  "kernelspec": {
   "display_name": "Python [default]",
   "language": "python",
   "name": "python3"
  },
  "language_info": {
   "codemirror_mode": {
    "name": "ipython",
    "version": 3
   },
   "file_extension": ".py",
   "mimetype": "text/x-python",
   "name": "python",
   "nbconvert_exporter": "python",
   "pygments_lexer": "ipython3",
   "version": "3.6.0"
  }
 },
 "nbformat": 4,
 "nbformat_minor": 2
}
