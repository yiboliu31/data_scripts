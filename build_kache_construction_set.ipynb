{
 "cells": [
  {
   "cell_type": "code",
   "execution_count": 1,
   "metadata": {},
   "outputs": [],
   "source": [
    "%reload_ext autoreload\n",
    "%autoreload 2\n"
   ]
  },
  {
   "cell_type": "code",
   "execution_count": 2,
   "metadata": {},
   "outputs": [],
   "source": [
    "import os\n",
    "import yaml\n",
    "import urllib\n",
    "from PIL import Image\n",
    "from enum import Enum\n",
    "from pycocotools.coco import COCO\n",
    "import xml.etree.cElementTree as ET\n",
    "import glob\n",
    "import argparse\n",
    "import numpy as np\n",
    "import json\n",
    "import numpy\n",
    "import cv2\n",
    "from collections import OrderedDict\n",
    "import scipy.misc\n",
    "from skimage import measure   \n",
    "import random\n",
    "import skimage.io as io\n",
    "import matplotlib.pyplot as plt\n",
    "import pylab\n",
    "import shutil\n",
    "import pickle\n",
    "import pandas as pd\n",
    "from subprocess import Popen,PIPE,STDOUT,call \n",
    "from utils import datasets\n",
    "\n",
    "BDD100K_DIRECTORY = os.path.join('/media/dean/datastore/datasets/BerkeleyDeepDrive', 'bdd100k')\n",
    "WORKING_DIRECTORY = '/media/dean/datastore/datasets/darknet'\n",
    "\n",
    "TRAINERS_DIRECTORY = os.path.join(WORKING_DIRECTORY, 'trainers')\n",
    "ANNOTATIONS_FILE = os.path.join(BDD100K_DIRECTORY, 'labels/bdd100k_labels_images_train.json')\n",
    "\n",
    "CONSTRUCTION_ANNOTATIONS_FILE = os.path.join('/media/dean/datastore/datasets/annotation_files', 'Kache-Logs--Tanveer--7_40_corrected.json')\n",
    "CONSTRUCTION_ANNOTATIONS_FILE2 = os.path.join('/media/dean/datastore/datasets/annotation_files', 'Kache-Logs--Tanveer--6_40_corrected.json')\n",
    "CONSTRUCTION_ANNOTATIONS_FILE3 = os.path.join('/media/dean/datastore/datasets/annotation_files', 'Kache-Logs--Tanveer-8_40_corrected.json')\n",
    "CONSTRUCTION_ANNOTATIONS_FILE6 = os.path.join('/media/dean/datastore/datasets/annotation_files', 'Kache-Logs--Tanveer-9_40_corrected.json')\n",
    "\n",
    "CONSTRUCTION_ANNOTATIONS_FILE5 = os.path.join('/media/dean/datastore/datasets/annotation_files', 'Kache-Logs--Tanveer-11_40_corrected.json')\n",
    "CONSTRUCTION_ANNOTATIONS_FILE7 = os.path.join('/media/dean/datastore/datasets/annotation_files', 'Kache-Logs--Tanveer-12_40_corrected.json')\n",
    "CONSTRUCTION_ANNOTATIONS_FILE8 = os.path.join('/media/dean/datastore/datasets/annotation_files', 'Kache-Logs--Tanveer-10_40_corrected.json')\n",
    "\n",
    "CONSTRUCTION_ANNOTATIONS_FILE9 = os.path.join('/media/dean/datastore/datasets/annotation_files', 'Kache-Logs--Tanveer-13_40_corrected.json')\n",
    "CONSTRUCTION_ANNOTATIONS_FILE10 = os.path.join('/media/dean/datastore/datasets/annotation_files', 'Kache-Logs--Tanveer-14_40_corrected.json')\n",
    "CONSTRUCTION_ANNOTATIONS_FILE11 = os.path.join('/media/dean/datastore/datasets/annotation_files', 'Kache-Logs--Tanveer-1-5_40_corrected.json')\n",
    "\n",
    "CONSTRUCTION_ANNOTATIONS_FILE12 = os.path.join('/media/dean/datastore/datasets/annotation_files', 'Kache-Logs--Tanveer-16_40_corrected.json')\n",
    "CONSTRUCTION_ANNOTATIONS_FILE13 = os.path.join('/media/dean/datastore/datasets/annotation_files', 'Kache-Logs--Tanveer-15_40_corrected.json')\n",
    "CONSTRUCTION_ANNOTATIONS_FILE14 = os.path.join('/media/dean/datastore/datasets/annotation_files', 'Kache-Logs--Tanveer-17_40_corrected.json')\n",
    "CONSTRUCTION_ANNOTATIONS_FILE15 = os.path.join('/media/dean/datastore/datasets/annotation_files', 'Kache-Logs--Tanveer-23_40_corrected.json')\n",
    "CONSTRUCTION_ANNOTATIONS_FILE16 = os.path.join('/media/dean/datastore/datasets/annotation_files', 'Kache-Logs--Tanveer-24_40_corrected.json')\n",
    "CONSTRUCTION_ANNOTATIONS_FILE17 = os.path.join('/media/dean/datastore/datasets/annotation_files', 'Kache-Logs--Tanveer-21_40_corrected.json')\n",
    "CONSTRUCTION_ANNOTATIONS_FILE18 = os.path.join('/media/dean/datastore/datasets/annotation_files', 'Kache-Logs--Tanveer-19_40_corrected.json')\n",
    "CONSTRUCTION_ANNOTATIONS_FILE19 = os.path.join('/media/dean/datastore/datasets/annotation_files', 'Kache-Logs--Tanveer-18_40_corrected.json')\n",
    "CONSTRUCTION_ANNOTATIONS_FILE20 = os.path.join('/media/dean/datastore/datasets/annotation_files', 'Kache-Logs--Tanveer-20_40_corrected.json')\n",
    "\n",
    "\n",
    "CONSTRUCTION_ANNOTATIONS_FILE21 = os.path.join('/media/dean/datastore/datasets/annotation_files', 'Kache-Logs--Tanveer-20_40_corrected.json')\n",
    "CONSTRUCTION_ANNOTATIONS_FILE22 = os.path.join('/media/dean/datastore/datasets/annotation_files', 'Kache-Logs--Tanveer-21_40_corrected.json')\n",
    "CONSTRUCTION_ANNOTATIONS_FILE23 = os.path.join('/media/dean/datastore/datasets/annotation_files', 'Kache-Logs--Tanveer-22_40_corrected.json')\n",
    "CONSTRUCTION_ANNOTATIONS_FILE26 = os.path.join('/media/dean/datastore/datasets/annotation_files', 'Kache-Logs--Tanveer-25_40_corrected.json')\n",
    "CONSTRUCTION_ANNOTATIONS_FILE27 = os.path.join('/media/dean/datastore/datasets/annotation_files', 'Kache-Logs--Tanveer-26_40_corrected.json')\n",
    "CONSTRUCTION_ANNOTATIONS_FILE28 = os.path.join('/media/dean/datastore/datasets/annotation_files', 'Kache-Logs--Tanveer-27_40_corrected.json')\n",
    "CONSTRUCTION_ANNOTATIONS_FILE29 = os.path.join('/media/dean/datastore/datasets/annotation_files', 'Kache-Logs--Tanveer-28_40_corrected.json')\n",
    "CONSTRUCTION_ANNOTATIONS_FILE30 = os.path.join('/media/dean/datastore/datasets/annotation_files', 'Kache-Logs--Tanveer-29_40_corrected.json')\n",
    "\n",
    "CONSTRUCTION_ANNOTATIONS_FILE31 = os.path.join('/media/dean/datastore/datasets/annotation_files', 'Kache-Logs--Tanveer-30_40_corrected.json')\n",
    "CONSTRUCTION_ANNOTATIONS_FILE32 = os.path.join('/media/dean/datastore/datasets/annotation_files', 'Kache-Logs--Tanveer-31_40_corrected.json')\n",
    "CONSTRUCTION_ANNOTATIONS_FILE33 = os.path.join('/media/dean/datastore/datasets/annotation_files', 'Kache-Logs--Tanveer-32_40_corrected.json')\n",
    "CONSTRUCTION_ANNOTATIONS_FILE34 = os.path.join('/media/dean/datastore/datasets/annotation_files', 'Kache-Logs--Tanveer-33_40_corrected.json')\n",
    "CONSTRUCTION_ANNOTATIONS_FILE35 = os.path.join('/media/dean/datastore/datasets/annotation_files', 'Kache-Logs--Tanveer-34_40_corrected.json')\n",
    "CONSTRUCTION_ANNOTATIONS_FILE36 = os.path.join('/media/dean/datastore/datasets/annotation_files', 'Kache-Logs--Tanveer-35_40_corrected.json')\n",
    "CONSTRUCTION_ANNOTATIONS_FILE37 = os.path.join('/media/dean/datastore/datasets/annotation_files', 'Kache-Logs--Tanveer-36_40_corrected.json')\n",
    "CONSTRUCTION_ANNOTATIONS_FILE38 = os.path.join('/media/dean/datastore/datasets/annotation_files', 'Kache-Logs--Tanveer-37_40_corrected.json')\n",
    "CONSTRUCTION_ANNOTATIONS_FILE39 = os.path.join('/media/dean/datastore/datasets/annotation_files', 'Kache-Logs--Tanveer-38_40_corrected.json')\n",
    "CONSTRUCTION_ANNOTATIONS_FILE40 = os.path.join('/media/dean/datastore/datasets/annotation_files', 'Kache-Logs--Tanveer-39_40_corrected.json')\n",
    "CONSTRUCTION_ANNOTATIONS_FILE41 = os.path.join('/media/dean/datastore/datasets/annotation_files', 'Kache-Logs--Tanveer-40_40_corrected.json')\n",
    "\n",
    "\n",
    "\n",
    "CONSTRUCTION_ANNOTATIONS_FILE4 = os.path.join('/media/dean/datastore/datasets/annotation_files', 'Kache-Construction-Testing3_corrected.json')\n",
    "COCO_VAL_ANNOTATIONS_FILE = os.path.join('/media/dean/datastore/datasets/road_coco/darknet/data/coco/annotations/instances_val2014.json')\n",
    "\n",
    "\n",
    "VAL_ANNOTATIONS_FILE = os.path.join(BDD100K_DIRECTORY, 'labels/bdd100k_labels_images_val.json')\n",
    "COCO_ANNOTATIONS_FILE = os.path.join('/media/dean/datastore/datasets/road_coco/darknet/data/coco/annotations/instances_train2014.json')\n",
    "\n",
    "BASE_DATA_CONFIG = os.path.join(WORKING_DIRECTORY, 'cfg', 'bdd100k.data')\n",
    "BASE_MODEL_CONFIG = os.path.join(WORKING_DIRECTORY, 'cfg', 'yolov3-bdd100k.cfg')"
   ]
  },
  {
   "cell_type": "code",
   "execution_count": 3,
   "metadata": {
    "scrolled": true
   },
   "outputs": [
    {
     "name": "stdout",
     "output_type": "stream",
     "text": [
      "Saving to Pickle File: annotation_files_Kache-Logs--Tanveer--7_40_corrected.json.pickle\n",
      "Length of COCO Images 1000\n",
      "Length of COCO Annotations: 11778\n",
      "loading annotations into memory...\n",
      "Done (t=0.08s)\n",
      "creating index...\n",
      "index created!\n",
      "\n",
      "########### DATASET DISTRIBUTION: ###########\n",
      "\n",
      "BIKE | Annotations: 1  | Images:  1\n",
      "BUS | Annotations: 30  | Images:  30\n",
      "CAR | Annotations: 3834  | Images:  949\n",
      "CONSTRUCT-BARREL | Annotations: 2443  | Images:  279\n",
      "CONSTRUCT-CONE | Annotations: 188  | Images:  37\n",
      "CONSTRUCT-EQUIPMENT | Annotations: 154  | Images:  71\n",
      "CONSTRUCT-POLE | Annotations: 488  | Images:  127\n",
      "CONSTRUCT-SIGN | Annotations: 219  | Images:  123\n",
      "MOTOR | Annotations: 21  | Images:  18\n",
      "PERSON | Annotations: 215  | Images:  51\n",
      "RIDER | Annotations: 14  | Images:  13\n",
      "TRAFFIC LIGHT | Annotations: 37  | Images:  12\n",
      "TRAFFIC LIGHT-AMBER | Annotations: 16  | Images:  11\n",
      "TRAFFIC LIGHT-GREEN | Annotations: 12  | Images:  3\n",
      "TRAFFIC LIGHT-RED | Annotations: 11  | Images:  8\n",
      "TRAFFIC SIGN | Annotations: 2255  | Images:  734\n",
      "TRAFFIC SIGN-SLOW_SIGN | Annotations: 1  | Images:  1\n",
      "TRAFFIC SIGN-SPEED_SIGN | Annotations: 32  | Images:  28\n",
      "TRAFFIC SIGN-STOP_SIGN | Annotations: 3  | Images:  3\n",
      "TRAILER | Annotations: 41  | Images:  39\n",
      "TRAIN | Annotations: 7  | Images:  5\n",
      "TRUCK | Annotations: 1756  | Images:  752\n",
      "\n",
      "################################################\n",
      "\n"
     ]
    }
   ],
   "source": [
    "## Prepare Dataset ##\n",
    "\n",
    "\n",
    "\n",
    "construction_set = datasets.DataFormatter(annotations_list = CONSTRUCTION_ANNOTATIONS_FILE, input_format = datasets.Format.bdd,\n",
    "                                 output_path = os.path.join(WORKING_DIRECTORY,'data/construction_set'),\n",
    "                                 trainer_prefix = 'COCO_train2014_0000', \n",
    "                                 s3_bucket = 'kache-scalabel/kache_ai/frames/', convert_attributes = True, combine_categories=False,)\n",
    "\n"
   ]
  },
  {
   "cell_type": "code",
   "execution_count": 4,
   "metadata": {
    "scrolled": true
   },
   "outputs": [
    {
     "name": "stdout",
     "output_type": "stream",
     "text": [
      "Saving to Pickle File: annotation_files_Kache-Logs--Tanveer--6_40_corrected.json.pickle\n",
      "Length of COCO Images 1000\n",
      "Length of COCO Annotations: 12958\n",
      "loading annotations into memory...\n",
      "Done (t=0.04s)\n",
      "creating index...\n",
      "index created!\n",
      "\n",
      "########### DATASET DISTRIBUTION: ###########\n",
      "\n",
      "BIKE | Annotations: 9  | Images:  4\n",
      "BUS | Annotations: 6  | Images:  5\n",
      "CAR | Annotations: 4108  | Images:  939\n",
      "CONSTRUCT-BARREL | Annotations: 2908  | Images:  283\n",
      "CONSTRUCT-CONE | Annotations: 223  | Images:  38\n",
      "CONSTRUCT-EQUIPMENT | Annotations: 191  | Images:  117\n",
      "CONSTRUCT-POLE | Annotations: 569  | Images:  143\n",
      "CONSTRUCT-SIGN | Annotations: 279  | Images:  162\n",
      "MOTOR | Annotations: 13  | Images:  12\n",
      "PERSON | Annotations: 217  | Images:  57\n",
      "RIDER | Annotations: 7  | Images:  7\n",
      "TRAFFIC LIGHT | Annotations: 81  | Images:  31\n",
      "TRAFFIC LIGHT-AMBER | Annotations: 15  | Images:  11\n",
      "TRAFFIC LIGHT-GREEN | Annotations: 11  | Images:  3\n",
      "TRAFFIC LIGHT-RED | Annotations: 30  | Images:  8\n",
      "TRAFFIC SIGN | Annotations: 1955  | Images:  695\n",
      "TRAFFIC SIGN-SLOW_SIGN | Annotations: 2  | Images:  2\n",
      "TRAFFIC SIGN-SPEED_SIGN | Annotations: 92  | Images:  82\n",
      "TRAFFIC SIGN-STOP_SIGN | Annotations: 2  | Images:  2\n",
      "TRAILER | Annotations: 66  | Images:  53\n",
      "TRAIN | Annotations: 13  | Images:  13\n",
      "TRUCK | Annotations: 2161  | Images:  845\n",
      "\n",
      "################################################\n",
      "\n"
     ]
    }
   ],
   "source": [
    "## Prepare Dataset ##\n",
    "\n",
    "construction_set2 = datasets.DataFormatter(annotations_list = CONSTRUCTION_ANNOTATIONS_FILE2, input_format = datasets.Format.bdd,\n",
    "                                 output_path = os.path.join(WORKING_DIRECTORY,'data/construction_set2'),\n",
    "                                 trainer_prefix = 'COCO_train2014_0000', convert_attributes = True,combine_categories=False,\n",
    "                                 s3_bucket = 'kache-scalabel/kache_ai/frames/')\n",
    "\n"
   ]
  },
  {
   "cell_type": "code",
   "execution_count": 5,
   "metadata": {
    "scrolled": true
   },
   "outputs": [
    {
     "name": "stdout",
     "output_type": "stream",
     "text": [
      "Saving to Pickle File: annotation_files_Kache-Logs--Tanveer-13_40_corrected.json.pickle\n",
      "Length of COCO Images 1000\n",
      "Length of COCO Annotations: 15448\n",
      "loading annotations into memory...\n",
      "Done (t=0.05s)\n",
      "creating index...\n",
      "index created!\n",
      "\n",
      "########### DATASET DISTRIBUTION: ###########\n",
      "\n",
      "BIKE | Annotations: 7  | Images:  4\n",
      "BUS | Annotations: 25  | Images:  22\n",
      "CAR | Annotations: 4596  | Images:  956\n",
      "CONSTRUCT-BARREL | Annotations: 4119  | Images:  309\n",
      "CONSTRUCT-CONE | Annotations: 203  | Images:  37\n",
      "CONSTRUCT-EQUIPMENT | Annotations: 155  | Images:  100\n",
      "CONSTRUCT-POLE | Annotations: 669  | Images:  159\n",
      "CONSTRUCT-SIGN | Annotations: 420  | Images:  213\n",
      "MOTOR | Annotations: 14  | Images:  13\n",
      "PERSON | Annotations: 216  | Images:  49\n",
      "RIDER | Annotations: 10  | Images:  10\n",
      "TRAFFIC LIGHT | Annotations: 40  | Images:  16\n",
      "TRAFFIC LIGHT-AMBER | Annotations: 15  | Images:  10\n",
      "TRAFFIC LIGHT-GREEN | Annotations: 2  | Images:  1\n",
      "TRAFFIC LIGHT-RED | Annotations: 6  | Images:  4\n",
      "TRAFFIC SIGN | Annotations: 2341  | Images:  765\n",
      "TRAFFIC SIGN-SPEED_SIGN | Annotations: 104  | Images:  94\n",
      "TRAFFIC SIGN-STOP_SIGN | Annotations: 7  | Images:  7\n",
      "TRAILER | Annotations: 141  | Images:  127\n",
      "TRAIN | Annotations: 10  | Images:  10\n",
      "TRUCK | Annotations: 2348  | Images:  833\n",
      "\n",
      "################################################\n",
      "\n"
     ]
    }
   ],
   "source": [
    "## Prepare Dataset ##\n",
    "\n",
    "construction_set9 = datasets.DataFormatter(annotations_list = CONSTRUCTION_ANNOTATIONS_FILE9, input_format = datasets.Format.bdd,\n",
    "                                 output_path = os.path.join(WORKING_DIRECTORY,'data/construction_set9'),\n",
    "                                 trainer_prefix = 'COCO_train2014_0000', convert_attributes = True,combine_categories=False,\n",
    "                                 s3_bucket = 'kache-scalabel/kache_ai/frames/')\n",
    "\n"
   ]
  },
  {
   "cell_type": "code",
   "execution_count": 6,
   "metadata": {
    "scrolled": true
   },
   "outputs": [
    {
     "name": "stdout",
     "output_type": "stream",
     "text": [
      "Saving to Pickle File: annotation_files_Kache-Logs--Tanveer-14_40_corrected.json.pickle\n",
      "Length of COCO Images 1000\n",
      "Length of COCO Annotations: 15796\n",
      "loading annotations into memory...\n",
      "Done (t=0.13s)\n",
      "creating index...\n",
      "index created!\n",
      "\n",
      "########### DATASET DISTRIBUTION: ###########\n",
      "\n",
      "BIKE | Annotations: 3  | Images:  3\n",
      "BUS | Annotations: 23  | Images:  22\n",
      "CAR | Annotations: 4568  | Images:  948\n",
      "CONSTRUCT-BARREL | Annotations: 3816  | Images:  300\n",
      "CONSTRUCT-CONE | Annotations: 258  | Images:  47\n",
      "CONSTRUCT-EQUIPMENT | Annotations: 168  | Images:  97\n",
      "CONSTRUCT-POLE | Annotations: 670  | Images:  168\n",
      "CONSTRUCT-SIGN | Annotations: 366  | Images:  186\n",
      "MOTOR | Annotations: 14  | Images:  13\n",
      "PERSON | Annotations: 233  | Images:  56\n",
      "RIDER | Annotations: 11  | Images:  10\n",
      "TRAFFIC LIGHT | Annotations: 7  | Images:  5\n",
      "TRAFFIC LIGHT-AMBER | Annotations: 19  | Images:  12\n",
      "TRAFFIC LIGHT-GREEN | Annotations: 3  | Images:  2\n",
      "TRAFFIC LIGHT-RED | Annotations: 9  | Images:  2\n",
      "TRAFFIC SIGN | Annotations: 2751  | Images:  773\n",
      "TRAFFIC SIGN-SPEED_SIGN | Annotations: 100  | Images:  90\n",
      "TRAFFIC SIGN-STOP_SIGN | Annotations: 3  | Images:  3\n",
      "TRAILER | Annotations: 122  | Images:  101\n",
      "TRAIN | Annotations: 8  | Images:  8\n",
      "TRUCK | Annotations: 2644  | Images:  860\n",
      "\n",
      "################################################\n",
      "\n"
     ]
    }
   ],
   "source": [
    "## Prepare Dataset ##\n",
    "\n",
    "construction_set10 = datasets.DataFormatter(annotations_list = CONSTRUCTION_ANNOTATIONS_FILE10, input_format = datasets.Format.bdd,\n",
    "                                 output_path = os.path.join(WORKING_DIRECTORY,'data/construction_set10'),\n",
    "                                 trainer_prefix = 'COCO_train2014_0000', convert_attributes = True,combine_categories=False,\n",
    "                                 s3_bucket = 'kache-scalabel/kache_ai/frames/')\n",
    "\n"
   ]
  },
  {
   "cell_type": "code",
   "execution_count": 7,
   "metadata": {
    "scrolled": true
   },
   "outputs": [
    {
     "name": "stdout",
     "output_type": "stream",
     "text": [
      "Saving to Pickle File: annotation_files_Kache-Logs--Tanveer-1-5_40_corrected.json.pickle\n",
      "Length of COCO Images 5000\n",
      "Length of COCO Annotations: 75422\n",
      "loading annotations into memory...\n",
      "Done (t=0.38s)\n",
      "creating index...\n",
      "index created!\n",
      "\n",
      "########### DATASET DISTRIBUTION: ###########\n",
      "\n",
      "BIKE | Annotations: 29  | Images:  20\n",
      "BUS | Annotations: 143  | Images:  124\n",
      "CAR | Annotations: 21649  | Images:  4707\n",
      "CONSTRUCT-BARREL | Annotations: 17715  | Images:  1497\n",
      "CONSTRUCT-CONE | Annotations: 1075  | Images:  202\n",
      "CONSTRUCT-EQUIPMENT | Annotations: 1127  | Images:  567\n",
      "CONSTRUCT-POLE | Annotations: 3386  | Images:  831\n",
      "CONSTRUCT-SIGN | Annotations: 2103  | Images:  1043\n",
      "MOTOR | Annotations: 74  | Images:  73\n",
      "PERSON | Annotations: 1212  | Images:  283\n",
      "RIDER | Annotations: 56  | Images:  55\n",
      "TRAFFIC LIGHT | Annotations: 313  | Images:  99\n",
      "TRAFFIC LIGHT-AMBER | Annotations: 76  | Images:  49\n",
      "TRAFFIC LIGHT-GREEN | Annotations: 63  | Images:  28\n",
      "TRAFFIC LIGHT-RED | Annotations: 108  | Images:  51\n",
      "TRAFFIC SIGN | Annotations: 12704  | Images:  3827\n",
      "TRAFFIC SIGN-SLOW_SIGN | Annotations: 2  | Images:  2\n",
      "TRAFFIC SIGN-SPEED_SIGN | Annotations: 468  | Images:  388\n",
      "TRAFFIC SIGN-STOP_SIGN | Annotations: 27  | Images:  26\n",
      "TRAILER | Annotations: 610  | Images:  487\n",
      "TRAIN | Annotations: 81  | Images:  81\n",
      "TRUCK | Annotations: 12401  | Images:  4202\n",
      "\n",
      "################################################\n",
      "\n"
     ]
    }
   ],
   "source": [
    "## Prepare Dataset ##\n",
    "\n",
    "construction_set11 = datasets.DataFormatter(annotations_list = CONSTRUCTION_ANNOTATIONS_FILE11, input_format = datasets.Format.bdd,\n",
    "                                 output_path = os.path.join(WORKING_DIRECTORY,'data/construction_set11'),\n",
    "                                 trainer_prefix = 'COCO_train2014_0000', convert_attributes = True, combine_categories=False,\n",
    "                                 s3_bucket = 'kache-scalabel/kache_ai/frames/')\n",
    "\n"
   ]
  },
  {
   "cell_type": "code",
   "execution_count": 8,
   "metadata": {
    "scrolled": true
   },
   "outputs": [
    {
     "name": "stdout",
     "output_type": "stream",
     "text": [
      "Saving to Pickle File: annotation_files_Kache-Logs--Tanveer-16_40_corrected.json.pickle\n",
      "Length of COCO Images 1000\n",
      "Length of COCO Annotations: 16213\n",
      "loading annotations into memory...\n",
      "Done (t=0.05s)\n",
      "creating index...\n",
      "index created!\n",
      "\n",
      "########### DATASET DISTRIBUTION: ###########\n",
      "\n",
      "BIKE | Annotations: 3  | Images:  3\n",
      "BUS | Annotations: 20  | Images:  19\n",
      "CAR | Annotations: 4583  | Images:  938\n",
      "CONSTRUCT-BARREL | Annotations: 4083  | Images:  291\n",
      "CONSTRUCT-CONE | Annotations: 291  | Images:  51\n",
      "CONSTRUCT-EQUIPMENT | Annotations: 167  | Images:  93\n",
      "CONSTRUCT-POLE | Annotations: 916  | Images:  163\n",
      "CONSTRUCT-SIGN | Annotations: 449  | Images:  191\n",
      "MOTOR | Annotations: 18  | Images:  17\n",
      "PERSON | Annotations: 276  | Images:  51\n",
      "RIDER | Annotations: 14  | Images:  14\n",
      "TRAFFIC LIGHT | Annotations: 98  | Images:  34\n",
      "TRAFFIC LIGHT-AMBER | Annotations: 15  | Images:  8\n",
      "TRAFFIC LIGHT-RED | Annotations: 11  | Images:  2\n",
      "TRAFFIC SIGN | Annotations: 2389  | Images:  742\n",
      "TRAFFIC SIGN-SPEED_SIGN | Annotations: 103  | Images:  76\n",
      "TRAFFIC SIGN-STOP_SIGN | Annotations: 2  | Images:  2\n",
      "TRAILER | Annotations: 114  | Images:  83\n",
      "TRAIN | Annotations: 12  | Images:  10\n",
      "TRUCK | Annotations: 2649  | Images:  832\n",
      "\n",
      "################################################\n",
      "\n"
     ]
    }
   ],
   "source": [
    "## Prepare Dataset ##\n",
    "\n",
    "construction_set12 = datasets.DataFormatter(annotations_list = CONSTRUCTION_ANNOTATIONS_FILE12, input_format = datasets.Format.bdd,\n",
    "                                 output_path = os.path.join(WORKING_DIRECTORY,'data/construction_set12'),\n",
    "                                 trainer_prefix = 'COCO_train2014_0000', convert_attributes = True, combine_categories=False,\n",
    "                                 s3_bucket = 'kache-scalabel/kache_ai/frames/')\n",
    "\n"
   ]
  },
  {
   "cell_type": "code",
   "execution_count": 9,
   "metadata": {
    "scrolled": true
   },
   "outputs": [
    {
     "name": "stdout",
     "output_type": "stream",
     "text": [
      "Saving to Pickle File: annotation_files_Kache-Logs--Tanveer-15_40_corrected.json.pickle\n",
      "Length of COCO Images 1000\n",
      "Length of COCO Annotations: 14366\n",
      "loading annotations into memory...\n",
      "Done (t=0.04s)\n",
      "creating index...\n",
      "index created!\n",
      "\n",
      "########### DATASET DISTRIBUTION: ###########\n",
      "\n",
      "BUS | Annotations: 57  | Images:  31\n",
      "CAR | Annotations: 4209  | Images:  960\n",
      "CONSTRUCT-BARREL | Annotations: 3750  | Images:  285\n",
      "CONSTRUCT-CONE | Annotations: 157  | Images:  30\n",
      "CONSTRUCT-EQUIPMENT | Annotations: 89  | Images:  48\n",
      "CONSTRUCT-POLE | Annotations: 572  | Images:  138\n",
      "CONSTRUCT-SIGN | Annotations: 303  | Images:  160\n",
      "MOTOR | Annotations: 10  | Images:  9\n",
      "PERSON | Annotations: 229  | Images:  53\n",
      "RIDER | Annotations: 8  | Images:  8\n",
      "TRAFFIC LIGHT | Annotations: 42  | Images:  13\n",
      "TRAFFIC LIGHT-AMBER | Annotations: 18  | Images:  11\n",
      "TRAFFIC LIGHT-GREEN | Annotations: 4  | Images:  1\n",
      "TRAFFIC LIGHT-RED | Annotations: 6  | Images:  3\n",
      "TRAFFIC SIGN | Annotations: 2611  | Images:  793\n",
      "TRAFFIC SIGN-SPEED_SIGN | Annotations: 32  | Images:  27\n",
      "TRAFFIC SIGN-STOP_SIGN | Annotations: 2  | Images:  2\n",
      "TRAILER | Annotations: 40  | Images:  40\n",
      "TRUCK | Annotations: 2227  | Images:  806\n",
      "\n",
      "################################################\n",
      "\n"
     ]
    }
   ],
   "source": [
    "## Prepare Dataset ##\n",
    "\n",
    "construction_set13 = datasets.DataFormatter(annotations_list = CONSTRUCTION_ANNOTATIONS_FILE13, input_format = datasets.Format.bdd,\n",
    "                                 output_path = os.path.join(WORKING_DIRECTORY,'data/construction_set13'),\n",
    "                                 trainer_prefix = 'COCO_train2014_0000', convert_attributes = True, combine_categories=False,\n",
    "                                 s3_bucket = 'kache-scalabel/kache_ai/frames/')\n",
    "\n"
   ]
  },
  {
   "cell_type": "code",
   "execution_count": 10,
   "metadata": {
    "scrolled": true
   },
   "outputs": [
    {
     "name": "stdout",
     "output_type": "stream",
     "text": [
      "Saving to Pickle File: annotation_files_Kache-Logs--Tanveer-17_40_corrected.json.pickle\n",
      "Length of COCO Images 1000\n",
      "Length of COCO Annotations: 16258\n",
      "loading annotations into memory...\n",
      "Done (t=0.05s)\n",
      "creating index...\n",
      "index created!\n",
      "\n",
      "########### DATASET DISTRIBUTION: ###########\n",
      "\n",
      "BIKE | Annotations: 7  | Images:  5\n",
      "BUS | Annotations: 22  | Images:  18\n",
      "CAR | Annotations: 4853  | Images:  957\n",
      "CONSTRUCT-BARREL | Annotations: 3990  | Images:  293\n",
      "CONSTRUCT-CONE | Annotations: 202  | Images:  39\n",
      "CONSTRUCT-EQUIPMENT | Annotations: 163  | Images:  96\n",
      "CONSTRUCT-POLE | Annotations: 720  | Images:  155\n",
      "CONSTRUCT-SIGN | Annotations: 447  | Images:  226\n",
      "MOTOR | Annotations: 28  | Images:  26\n",
      "PERSON | Annotations: 219  | Images:  52\n",
      "RIDER | Annotations: 16  | Images:  16\n",
      "TRAFFIC LIGHT | Annotations: 51  | Images:  24\n",
      "TRAFFIC LIGHT-AMBER | Annotations: 12  | Images:  9\n",
      "TRAFFIC LIGHT-GREEN | Annotations: 14  | Images:  3\n",
      "TRAFFIC LIGHT-RED | Annotations: 17  | Images:  8\n",
      "TRAFFIC SIGN | Annotations: 2596  | Images:  781\n",
      "TRAFFIC SIGN-SPEED_SIGN | Annotations: 122  | Images:  109\n",
      "TRAFFIC SIGN-STOP_SIGN | Annotations: 10  | Images:  9\n",
      "TRAILER | Annotations: 131  | Images:  114\n",
      "TRAIN | Annotations: 12  | Images:  12\n",
      "TRUCK | Annotations: 2626  | Images:  875\n",
      "\n",
      "################################################\n",
      "\n"
     ]
    }
   ],
   "source": [
    "## Prepare Dataset ##\n",
    "\n",
    "construction_set14 = datasets.DataFormatter(annotations_list = CONSTRUCTION_ANNOTATIONS_FILE14, input_format = datasets.Format.bdd,\n",
    "                                 output_path = os.path.join(WORKING_DIRECTORY,'data/construction_set14'),\n",
    "                                 trainer_prefix = 'COCO_train2014_0000', convert_attributes = True, combine_categories=False,\n",
    "                                 s3_bucket = 'kache-scalabel/kache_ai/frames/')\n",
    "\n"
   ]
  },
  {
   "cell_type": "code",
   "execution_count": 11,
   "metadata": {
    "scrolled": true
   },
   "outputs": [
    {
     "name": "stdout",
     "output_type": "stream",
     "text": [
      "Saving to Pickle File: annotation_files_Kache-Logs--Tanveer-23_40_corrected.json.pickle\n",
      "Length of COCO Images 1000\n",
      "Length of COCO Annotations: 17032\n",
      "loading annotations into memory...\n",
      "Done (t=0.25s)\n",
      "creating index...\n",
      "index created!\n",
      "\n",
      "########### DATASET DISTRIBUTION: ###########\n",
      "\n",
      "BUS | Annotations: 14  | Images:  14\n",
      "CAR | Annotations: 5027  | Images:  969\n",
      "CONSTRUCT-BARREL | Annotations: 4464  | Images:  315\n",
      "CONSTRUCT-CONE | Annotations: 204  | Images:  33\n",
      "CONSTRUCT-EQUIPMENT | Annotations: 195  | Images:  100\n",
      "CONSTRUCT-POLE | Annotations: 952  | Images:  172\n",
      "CONSTRUCT-SIGN | Annotations: 579  | Images:  218\n",
      "MOTOR | Annotations: 18  | Images:  16\n",
      "PERSON | Annotations: 249  | Images:  56\n",
      "RIDER | Annotations: 25  | Images:  21\n",
      "TRAFFIC LIGHT | Annotations: 49  | Images:  14\n",
      "TRAFFIC LIGHT-AMBER | Annotations: 15  | Images:  8\n",
      "TRAFFIC LIGHT-GREEN | Annotations: 1  | Images:  1\n",
      "TRAFFIC LIGHT-RED | Annotations: 8  | Images:  1\n",
      "TRAFFIC SIGN | Annotations: 2219  | Images:  706\n",
      "TRAFFIC SIGN-SPEED_SIGN | Annotations: 107  | Images:  75\n",
      "TRAFFIC SIGN-STOP_SIGN | Annotations: 5  | Images:  4\n",
      "TRAILER | Annotations: 137  | Images:  109\n",
      "TRAIN | Annotations: 13  | Images:  12\n",
      "TRUCK | Annotations: 2751  | Images:  858\n",
      "\n",
      "################################################\n",
      "\n"
     ]
    }
   ],
   "source": [
    "## Prepare Dataset ##\n",
    "\n",
    "construction_set15 = datasets.DataFormatter(annotations_list = CONSTRUCTION_ANNOTATIONS_FILE15, input_format = datasets.Format.bdd,\n",
    "                                 output_path = os.path.join(WORKING_DIRECTORY,'data/construction_set15'),\n",
    "                                 trainer_prefix = 'COCO_train2014_0000', convert_attributes = True, combine_categories=False,\n",
    "                                 s3_bucket = 'kache-scalabel/kache_ai/frames/')\n",
    "\n"
   ]
  },
  {
   "cell_type": "code",
   "execution_count": 12,
   "metadata": {
    "scrolled": true
   },
   "outputs": [
    {
     "name": "stdout",
     "output_type": "stream",
     "text": [
      "Saving to Pickle File: annotation_files_Kache-Logs--Tanveer-24_40_corrected.json.pickle\n",
      "Length of COCO Images 1000\n",
      "Length of COCO Annotations: 15483\n",
      "loading annotations into memory...\n",
      "Done (t=0.05s)\n",
      "creating index...\n",
      "index created!\n",
      "\n",
      "########### DATASET DISTRIBUTION: ###########\n",
      "\n",
      "BIKE | Annotations: 2  | Images:  2\n",
      "BUS | Annotations: 24  | Images:  21\n",
      "CAR | Annotations: 4249  | Images:  958\n",
      "CONSTRUCT-BARREL | Annotations: 4186  | Images:  326\n",
      "CONSTRUCT-CONE | Annotations: 248  | Images:  33\n",
      "CONSTRUCT-EQUIPMENT | Annotations: 173  | Images:  96\n",
      "CONSTRUCT-POLE | Annotations: 769  | Images:  172\n",
      "CONSTRUCT-SIGN | Annotations: 370  | Images:  203\n",
      "MOTOR | Annotations: 35  | Images:  28\n",
      "PERSON | Annotations: 188  | Images:  47\n",
      "RIDER | Annotations: 21  | Images:  18\n",
      "TRAFFIC LIGHT | Annotations: 55  | Images:  21\n",
      "TRAFFIC LIGHT-AMBER | Annotations: 16  | Images:  9\n",
      "TRAFFIC LIGHT-GREEN | Annotations: 3  | Images:  1\n",
      "TRAFFIC LIGHT-RED | Annotations: 19  | Images:  7\n",
      "TRAFFIC SIGN | Annotations: 2366  | Images:  776\n",
      "TRAFFIC SIGN-SPEED_SIGN | Annotations: 103  | Images:  91\n",
      "TRAFFIC SIGN-STOP_SIGN | Annotations: 7  | Images:  7\n",
      "TRAILER | Annotations: 126  | Images:  111\n",
      "TRAIN | Annotations: 17  | Images:  15\n",
      "TRUCK | Annotations: 2506  | Images:  855\n",
      "\n",
      "################################################\n",
      "\n"
     ]
    }
   ],
   "source": [
    "## Prepare Dataset ##\n",
    "\n",
    "construction_set16 = datasets.DataFormatter(annotations_list = CONSTRUCTION_ANNOTATIONS_FILE16, input_format = datasets.Format.bdd,\n",
    "                                 output_path = os.path.join(WORKING_DIRECTORY,'data/construction_set16'),\n",
    "                                 trainer_prefix = 'COCO_train2014_0000', convert_attributes = True, combine_categories=False,\n",
    "                                 s3_bucket = 'kache-scalabel/kache_ai/frames/')\n",
    "\n"
   ]
  },
  {
   "cell_type": "code",
   "execution_count": 13,
   "metadata": {
    "scrolled": true
   },
   "outputs": [
    {
     "name": "stdout",
     "output_type": "stream",
     "text": [
      "Saving to Pickle File: annotation_files_Kache-Logs--Tanveer-21_40_corrected.json.pickle\n",
      "Length of COCO Images 1000\n",
      "Length of COCO Annotations: 15607\n",
      "loading annotations into memory...\n",
      "Done (t=0.05s)\n",
      "creating index...\n",
      "index created!\n",
      "\n",
      "########### DATASET DISTRIBUTION: ###########\n",
      "\n",
      "BIKE | Annotations: 9  | Images:  6\n",
      "BUS | Annotations: 65  | Images:  40\n",
      "CAR | Annotations: 4723  | Images:  972\n",
      "CONSTRUCT-BARREL | Annotations: 4323  | Images:  317\n",
      "CONSTRUCT-CONE | Annotations: 166  | Images:  27\n",
      "CONSTRUCT-EQUIPMENT | Annotations: 119  | Images:  76\n",
      "CONSTRUCT-POLE | Annotations: 740  | Images:  167\n",
      "CONSTRUCT-SIGN | Annotations: 333  | Images:  180\n",
      "MOTOR | Annotations: 5  | Images:  5\n",
      "PERSON | Annotations: 196  | Images:  54\n",
      "RIDER | Annotations: 8  | Images:  7\n",
      "TRAFFIC LIGHT | Annotations: 44  | Images:  23\n",
      "TRAFFIC LIGHT-AMBER | Annotations: 8  | Images:  5\n",
      "TRAFFIC LIGHT-GREEN | Annotations: 12  | Images:  3\n",
      "TRAFFIC LIGHT-RED | Annotations: 6  | Images:  4\n",
      "TRAFFIC SIGN | Annotations: 2477  | Images:  750\n",
      "TRAFFIC SIGN-SLOW_SIGN | Annotations: 2  | Images:  2\n",
      "TRAFFIC SIGN-SPEED_SIGN | Annotations: 19  | Images:  16\n",
      "TRAFFIC SIGN-STOP_SIGN | Annotations: 1  | Images:  1\n",
      "TRAILER | Annotations: 47  | Images:  46\n",
      "TRUCK | Annotations: 2304  | Images:  800\n",
      "\n",
      "################################################\n",
      "\n"
     ]
    }
   ],
   "source": [
    "## Prepare Dataset ##\n",
    "\n",
    "construction_set17 = datasets.DataFormatter(annotations_list = CONSTRUCTION_ANNOTATIONS_FILE17, input_format = datasets.Format.bdd,\n",
    "                                 output_path = os.path.join(WORKING_DIRECTORY,'data/construction_set17'),\n",
    "                                 trainer_prefix = 'COCO_train2014_0000', convert_attributes = True, combine_categories=False,\n",
    "                                 s3_bucket = 'kache-scalabel/kache_ai/frames/')\n",
    "\n"
   ]
  },
  {
   "cell_type": "code",
   "execution_count": 14,
   "metadata": {
    "scrolled": true
   },
   "outputs": [
    {
     "name": "stdout",
     "output_type": "stream",
     "text": [
      "Saving to Pickle File: annotation_files_Kache-Logs--Tanveer-19_40_corrected.json.pickle\n",
      "Length of COCO Images 1000\n",
      "Length of COCO Annotations: 16710\n",
      "loading annotations into memory...\n",
      "Done (t=0.05s)\n",
      "creating index...\n",
      "index created!\n",
      "\n",
      "########### DATASET DISTRIBUTION: ###########\n",
      "\n",
      "BIKE | Annotations: 3  | Images:  3\n",
      "BUS | Annotations: 25  | Images:  22\n",
      "CAR | Annotations: 5066  | Images:  952\n",
      "CONSTRUCT-BARREL | Annotations: 4031  | Images:  310\n",
      "CONSTRUCT-CONE | Annotations: 226  | Images:  38\n",
      "CONSTRUCT-EQUIPMENT | Annotations: 174  | Images:  106\n",
      "CONSTRUCT-POLE | Annotations: 780  | Images:  168\n",
      "CONSTRUCT-SIGN | Annotations: 359  | Images:  161\n",
      "MOTOR | Annotations: 13  | Images:  12\n",
      "PERSON | Annotations: 166  | Images:  44\n",
      "RIDER | Annotations: 9  | Images:  8\n",
      "TRAFFIC LIGHT | Annotations: 32  | Images:  14\n",
      "TRAFFIC LIGHT-AMBER | Annotations: 8  | Images:  7\n",
      "TRAFFIC LIGHT-GREEN | Annotations: 6  | Images:  2\n",
      "TRAFFIC LIGHT-RED | Annotations: 2  | Images:  2\n",
      "TRAFFIC SIGN | Annotations: 2840  | Images:  805\n",
      "TRAFFIC SIGN-SPEED_SIGN | Annotations: 128  | Images:  113\n",
      "TRAFFIC SIGN-STOP_SIGN | Annotations: 3  | Images:  3\n",
      "TRAILER | Annotations: 168  | Images:  118\n",
      "TRAIN | Annotations: 14  | Images:  14\n",
      "TRUCK | Annotations: 2657  | Images:  841\n",
      "\n",
      "################################################\n",
      "\n"
     ]
    }
   ],
   "source": [
    "## Prepare Dataset ##\n",
    "\n",
    "construction_set18 = datasets.DataFormatter(annotations_list = CONSTRUCTION_ANNOTATIONS_FILE18, input_format = datasets.Format.bdd,\n",
    "                                 output_path = os.path.join(WORKING_DIRECTORY,'data/construction_set18'),\n",
    "                                 trainer_prefix = 'COCO_train2014_0000', convert_attributes = True, combine_categories=False,\n",
    "                                 s3_bucket = 'kache-scalabel/kache_ai/frames/')\n",
    "\n"
   ]
  },
  {
   "cell_type": "code",
   "execution_count": 15,
   "metadata": {
    "scrolled": true
   },
   "outputs": [
    {
     "name": "stdout",
     "output_type": "stream",
     "text": [
      "Saving to Pickle File: annotation_files_Kache-Logs--Tanveer-18_40_corrected.json.pickle\n",
      "Length of COCO Images 1000\n",
      "Length of COCO Annotations: 14846\n",
      "loading annotations into memory...\n",
      "Done (t=0.05s)\n",
      "creating index...\n",
      "index created!\n",
      "\n",
      "########### DATASET DISTRIBUTION: ###########\n",
      "\n",
      "BIKE | Annotations: 3  | Images:  1\n",
      "BUS | Annotations: 50  | Images:  34\n",
      "CAR | Annotations: 4483  | Images:  955\n",
      "CONSTRUCT-BARREL | Annotations: 3817  | Images:  300\n",
      "CONSTRUCT-CONE | Annotations: 167  | Images:  26\n",
      "CONSTRUCT-EQUIPMENT | Annotations: 144  | Images:  77\n",
      "CONSTRUCT-POLE | Annotations: 650  | Images:  160\n",
      "CONSTRUCT-SIGN | Annotations: 269  | Images:  158\n",
      "MOTOR | Annotations: 12  | Images:  11\n",
      "PERSON | Annotations: 192  | Images:  48\n",
      "RIDER | Annotations: 10  | Images:  9\n",
      "TRAFFIC LIGHT | Annotations: 40  | Images:  19\n",
      "TRAFFIC LIGHT-AMBER | Annotations: 17  | Images:  11\n",
      "TRAFFIC LIGHT-RED | Annotations: 2  | Images:  1\n",
      "TRAFFIC SIGN | Annotations: 2547  | Images:  779\n",
      "TRAFFIC SIGN-SLOW_SIGN | Annotations: 2  | Images:  2\n",
      "TRAFFIC SIGN-SPEED_SIGN | Annotations: 24  | Images:  22\n",
      "TRAFFIC SIGN-STOP_SIGN | Annotations: 2  | Images:  2\n",
      "TRAILER | Annotations: 51  | Images:  51\n",
      "TRUCK | Annotations: 2364  | Images:  831\n",
      "\n",
      "################################################\n",
      "\n"
     ]
    }
   ],
   "source": [
    "## Prepare Dataset ##\n",
    "\n",
    "construction_set19 = datasets.DataFormatter(annotations_list = CONSTRUCTION_ANNOTATIONS_FILE19, input_format = datasets.Format.bdd,\n",
    "                                 output_path = os.path.join(WORKING_DIRECTORY,'data/construction_set19'),\n",
    "                                 trainer_prefix = 'COCO_train2014_0000', convert_attributes = True, combine_categories=False,\n",
    "                                 s3_bucket = 'kache-scalabel/kache_ai/frames/')\n",
    "\n"
   ]
  },
  {
   "cell_type": "code",
   "execution_count": 16,
   "metadata": {
    "scrolled": true
   },
   "outputs": [
    {
     "name": "stdout",
     "output_type": "stream",
     "text": [
      "Saving to Pickle File: annotation_files_Kache-Logs--Tanveer-20_40_corrected.json.pickle\n",
      "Length of COCO Images 1000\n",
      "Length of COCO Annotations: 16370\n",
      "loading annotations into memory...\n",
      "Done (t=0.05s)\n",
      "creating index...\n",
      "index created!\n",
      "\n",
      "########### DATASET DISTRIBUTION: ###########\n",
      "\n",
      "BIKE | Annotations: 6  | Images:  5\n",
      "BUS | Annotations: 22  | Images:  20\n",
      "CAR | Annotations: 4619  | Images:  936\n",
      "CONSTRUCT-BARREL | Annotations: 4473  | Images:  308\n",
      "CONSTRUCT-CONE | Annotations: 254  | Images:  45\n",
      "CONSTRUCT-EQUIPMENT | Annotations: 149  | Images:  102\n",
      "CONSTRUCT-POLE | Annotations: 916  | Images:  162\n",
      "CONSTRUCT-SIGN | Annotations: 559  | Images:  216\n",
      "MOTOR | Annotations: 13  | Images:  13\n",
      "PERSON | Annotations: 204  | Images:  51\n",
      "RIDER | Annotations: 21  | Images:  20\n",
      "TRAFFIC LIGHT | Annotations: 74  | Images:  22\n",
      "TRAFFIC LIGHT-AMBER | Annotations: 14  | Images:  9\n",
      "TRAFFIC LIGHT-GREEN | Annotations: 5  | Images:  2\n",
      "TRAFFIC LIGHT-RED | Annotations: 7  | Images:  3\n",
      "TRAFFIC SIGN | Annotations: 2115  | Images:  691\n",
      "TRAFFIC SIGN-SLOW_SIGN | Annotations: 1  | Images:  1\n",
      "TRAFFIC SIGN-SPEED_SIGN | Annotations: 107  | Images:  81\n",
      "TRAILER | Annotations: 99  | Images:  77\n",
      "TRAIN | Annotations: 14  | Images:  12\n",
      "TRUCK | Annotations: 2698  | Images:  836\n",
      "\n",
      "################################################\n",
      "\n"
     ]
    }
   ],
   "source": [
    "## Prepare Dataset ##\n",
    "\n",
    "construction_set20 = datasets.DataFormatter(annotations_list = CONSTRUCTION_ANNOTATIONS_FILE20, input_format = datasets.Format.bdd,\n",
    "                                 output_path = os.path.join(WORKING_DIRECTORY,'data/construction_set20'),\n",
    "                                 trainer_prefix = 'COCO_train2014_0000', convert_attributes = True, combine_categories=False,\n",
    "                                 s3_bucket = 'kache-scalabel/kache_ai/frames/')\n",
    "\n"
   ]
  },
  {
   "cell_type": "code",
   "execution_count": 17,
   "metadata": {
    "scrolled": true
   },
   "outputs": [
    {
     "name": "stdout",
     "output_type": "stream",
     "text": [
      "Saving to Pickle File: annotation_files_Kache-Logs--Tanveer-8_40_corrected.json.pickle\n",
      "Length of COCO Images 1000\n",
      "Length of COCO Annotations: 13127\n",
      "loading annotations into memory...\n",
      "Done (t=0.04s)\n",
      "creating index...\n",
      "index created!\n",
      "\n",
      "########### DATASET DISTRIBUTION: ###########\n",
      "\n",
      "BUS | Annotations: 24  | Images:  20\n",
      "CAR | Annotations: 3927  | Images:  957\n",
      "CONSTRUCT-BARREL | Annotations: 3234  | Images:  303\n",
      "CONSTRUCT-CONE | Annotations: 127  | Images:  29\n",
      "CONSTRUCT-EQUIPMENT | Annotations: 168  | Images:  77\n",
      "CONSTRUCT-POLE | Annotations: 595  | Images:  141\n",
      "CONSTRUCT-SIGN | Annotations: 321  | Images:  149\n",
      "MOTOR | Annotations: 11  | Images:  9\n",
      "PERSON | Annotations: 196  | Images:  49\n",
      "RIDER | Annotations: 7  | Images:  6\n",
      "TRAFFIC LIGHT | Annotations: 36  | Images:  14\n",
      "TRAFFIC LIGHT-AMBER | Annotations: 20  | Images:  12\n",
      "TRAFFIC LIGHT-RED | Annotations: 8  | Images:  4\n",
      "TRAFFIC SIGN | Annotations: 2223  | Images:  759\n",
      "TRAFFIC SIGN-SLOW_SIGN | Annotations: 1  | Images:  1\n",
      "TRAFFIC SIGN-SPEED_SIGN | Annotations: 55  | Images:  52\n",
      "TRAILER | Annotations: 42  | Images:  42\n",
      "TRUCK | Annotations: 2132  | Images:  802\n",
      "\n",
      "################################################\n",
      "\n"
     ]
    }
   ],
   "source": [
    "## Prepare Dataset ##\n",
    "\n",
    "\n",
    "\n",
    "construction_set3 = datasets.DataFormatter(annotations_list = CONSTRUCTION_ANNOTATIONS_FILE3, input_format = datasets.Format.bdd,\n",
    "                                 output_path = os.path.join(WORKING_DIRECTORY,'data/construction_set3'),\n",
    "                                 trainer_prefix = 'COCO_train2014_0000', convert_attributes = True, combine_categories=False,\n",
    "                                 s3_bucket = 'kache-scalabel/kache_ai/frames/')\n",
    "\n"
   ]
  },
  {
   "cell_type": "code",
   "execution_count": 18,
   "metadata": {
    "scrolled": true
   },
   "outputs": [
    {
     "name": "stdout",
     "output_type": "stream",
     "text": [
      "Saving to Pickle File: annotation_files_Kache-Construction-Testing3_corrected.json.pickle\n",
      "Length of COCO Images 31\n",
      "Length of COCO Annotations: 1137\n",
      "loading annotations into memory...\n",
      "Done (t=0.00s)\n",
      "creating index...\n",
      "index created!\n",
      "\n",
      "########### DATASET DISTRIBUTION: ###########\n",
      "\n",
      "BUS | Annotations: 3  | Images:  3\n",
      "CAR | Annotations: 186  | Images:  24\n",
      "CONSTRUCT-BARREL | Annotations: 382  | Images:  14\n",
      "CONSTRUCT-CONE | Annotations: 311  | Images:  20\n",
      "CONSTRUCT-EQUIPMENT | Annotations: 20  | Images:  13\n",
      "CONSTRUCT-POLE | Annotations: 22  | Images:  4\n",
      "CONSTRUCT-SIGN | Annotations: 30  | Images:  16\n",
      "PERSON | Annotations: 43  | Images:  14\n",
      "TRAFFIC LIGHT | Annotations: 10  | Images:  3\n",
      "TRAFFIC LIGHT-GREEN | Annotations: 6  | Images:  3\n",
      "TRAFFIC LIGHT-RED | Annotations: 1  | Images:  1\n",
      "TRAFFIC SIGN | Annotations: 54  | Images:  15\n",
      "TRAFFIC SIGN-SLOW_SIGN | Annotations: 3  | Images:  3\n",
      "TRAFFIC SIGN-SPEED_SIGN | Annotations: 7  | Images:  6\n",
      "TRAFFIC SIGN-STOP_SIGN | Annotations: 3  | Images:  3\n",
      "TRAILER | Annotations: 3  | Images:  2\n",
      "TRUCK | Annotations: 53  | Images:  20\n",
      "\n",
      "################################################\n",
      "\n"
     ]
    }
   ],
   "source": [
    "## Prepare Dataset ##\n",
    "\n",
    "\n",
    "\n",
    "construction_set4 = datasets.DataFormatter(annotations_list = CONSTRUCTION_ANNOTATIONS_FILE4, input_format = datasets.Format.bdd,\n",
    "                                 output_path = os.path.join(WORKING_DIRECTORY,'data/construction_set4'),\n",
    "                                 trainer_prefix = 'COCO_train2014_0000', convert_attributes = True, combine_categories=False,\n",
    "                                 s3_bucket = 'kache-scalabel/kache_ai/frames/')\n",
    "\n"
   ]
  },
  {
   "cell_type": "code",
   "execution_count": 19,
   "metadata": {
    "scrolled": true
   },
   "outputs": [
    {
     "name": "stdout",
     "output_type": "stream",
     "text": [
      "Saving to Pickle File: annotation_files_Kache-Logs--Tanveer-11_40_corrected.json.pickle\n",
      "Length of COCO Images 1000\n",
      "Length of COCO Annotations: 15670\n",
      "loading annotations into memory...\n",
      "Done (t=0.05s)\n",
      "creating index...\n",
      "index created!\n",
      "\n",
      "########### DATASET DISTRIBUTION: ###########\n",
      "\n",
      "BIKE | Annotations: 4  | Images:  3\n",
      "BUS | Annotations: 27  | Images:  26\n",
      "CAR | Annotations: 4555  | Images:  960\n",
      "CONSTRUCT-BARREL | Annotations: 4304  | Images:  322\n",
      "CONSTRUCT-CONE | Annotations: 355  | Images:  65\n",
      "CONSTRUCT-EQUIPMENT | Annotations: 212  | Images:  122\n",
      "CONSTRUCT-POLE | Annotations: 585  | Images:  143\n",
      "CONSTRUCT-SIGN | Annotations: 339  | Images:  144\n",
      "MOTOR | Annotations: 14  | Images:  14\n",
      "PERSON | Annotations: 171  | Images:  47\n",
      "RIDER | Annotations: 8  | Images:  7\n",
      "TRAFFIC LIGHT | Annotations: 13  | Images:  6\n",
      "TRAFFIC LIGHT-AMBER | Annotations: 12  | Images:  8\n",
      "TRAFFIC LIGHT-GREEN | Annotations: 9  | Images:  2\n",
      "TRAFFIC LIGHT-RED | Annotations: 11  | Images:  4\n",
      "TRAFFIC SIGN | Annotations: 2150  | Images:  719\n",
      "TRAFFIC SIGN-SPEED_SIGN | Annotations: 87  | Images:  80\n",
      "TRAFFIC SIGN-STOP_SIGN | Annotations: 1  | Images:  1\n",
      "TRAILER | Annotations: 87  | Images:  77\n",
      "TRAIN | Annotations: 11  | Images:  10\n",
      "TRUCK | Annotations: 2715  | Images:  857\n",
      "\n",
      "################################################\n",
      "\n"
     ]
    }
   ],
   "source": [
    "## Prepare Dataset ##\n",
    "\n",
    "\n",
    "\n",
    "construction_set5 = datasets.DataFormatter(annotations_list = CONSTRUCTION_ANNOTATIONS_FILE5, input_format = datasets.Format.bdd,\n",
    "                                 output_path = os.path.join(WORKING_DIRECTORY,'data/construction_set5'),\n",
    "                                 trainer_prefix = 'COCO_train2014_0000', convert_attributes = True, combine_categories=False,\n",
    "                                 s3_bucket = 'kache-scalabel/kache_ai/frames/')\n",
    "\n"
   ]
  },
  {
   "cell_type": "code",
   "execution_count": 20,
   "metadata": {
    "scrolled": true
   },
   "outputs": [
    {
     "name": "stdout",
     "output_type": "stream",
     "text": [
      "Saving to Pickle File: annotation_files_Kache-Logs--Tanveer-9_40_corrected.json.pickle\n",
      "Length of COCO Images 1000\n",
      "Length of COCO Annotations: 14371\n",
      "loading annotations into memory...\n",
      "Done (t=0.36s)\n",
      "creating index...\n",
      "index created!\n",
      "\n",
      "########### DATASET DISTRIBUTION: ###########\n",
      "\n",
      "BIKE | Annotations: 2  | Images:  1\n",
      "BUS | Annotations: 25  | Images:  25\n",
      "CAR | Annotations: 4390  | Images:  958\n",
      "CONSTRUCT-BARREL | Annotations: 3439  | Images:  291\n",
      "CONSTRUCT-CONE | Annotations: 266  | Images:  47\n",
      "CONSTRUCT-EQUIPMENT | Annotations: 231  | Images:  123\n",
      "CONSTRUCT-POLE | Annotations: 568  | Images:  138\n",
      "CONSTRUCT-SIGN | Annotations: 349  | Images:  186\n",
      "MOTOR | Annotations: 14  | Images:  14\n",
      "PERSON | Annotations: 289  | Images:  76\n",
      "RIDER | Annotations: 10  | Images:  10\n",
      "TRAFFIC LIGHT | Annotations: 50  | Images:  26\n",
      "TRAFFIC LIGHT-AMBER | Annotations: 26  | Images:  17\n",
      "TRAFFIC LIGHT-GREEN | Annotations: 4  | Images:  1\n",
      "TRAFFIC LIGHT-RED | Annotations: 5  | Images:  3\n",
      "TRAFFIC SIGN | Annotations: 2080  | Images:  721\n",
      "TRAFFIC SIGN-SLOW_SIGN | Annotations: 1  | Images:  1\n",
      "TRAFFIC SIGN-SPEED_SIGN | Annotations: 104  | Images:  94\n",
      "TRAFFIC SIGN-STOP_SIGN | Annotations: 9  | Images:  9\n",
      "TRAILER | Annotations: 105  | Images:  90\n",
      "TRAIN | Annotations: 11  | Images:  11\n",
      "TRUCK | Annotations: 2393  | Images:  833\n",
      "\n",
      "################################################\n",
      "\n"
     ]
    }
   ],
   "source": [
    "## Prepare Dataset ##\n",
    "\n",
    "\n",
    "\n",
    "construction_set6 = datasets.DataFormatter(annotations_list = CONSTRUCTION_ANNOTATIONS_FILE6, input_format = datasets.Format.bdd,\n",
    "                                 output_path = os.path.join(WORKING_DIRECTORY,'data/construction_set6'),\n",
    "                                 trainer_prefix = 'COCO_train2014_0000', convert_attributes = True, combine_categories=False,\n",
    "                                 s3_bucket = 'kache-scalabel/kache_ai/frames/')\n",
    "\n"
   ]
  },
  {
   "cell_type": "code",
   "execution_count": 21,
   "metadata": {
    "scrolled": true
   },
   "outputs": [
    {
     "name": "stdout",
     "output_type": "stream",
     "text": [
      "Saving to Pickle File: annotation_files_Kache-Logs--Tanveer-12_40_corrected.json.pickle\n",
      "Length of COCO Images 1000\n",
      "Length of COCO Annotations: 13901\n",
      "loading annotations into memory...\n",
      "Done (t=0.04s)\n",
      "creating index...\n",
      "index created!\n",
      "\n",
      "########### DATASET DISTRIBUTION: ###########\n",
      "\n",
      "BIKE | Annotations: 4  | Images:  2\n",
      "BUS | Annotations: 56  | Images:  27\n",
      "CAR | Annotations: 4199  | Images:  952\n",
      "CONSTRUCT-BARREL | Annotations: 3402  | Images:  307\n",
      "CONSTRUCT-CONE | Annotations: 143  | Images:  19\n",
      "CONSTRUCT-EQUIPMENT | Annotations: 122  | Images:  67\n",
      "CONSTRUCT-POLE | Annotations: 649  | Images:  143\n",
      "CONSTRUCT-SIGN | Annotations: 267  | Images:  154\n",
      "MOTOR | Annotations: 11  | Images:  10\n",
      "PERSON | Annotations: 200  | Images:  46\n",
      "RIDER | Annotations: 10  | Images:  9\n",
      "TRAFFIC LIGHT | Annotations: 29  | Images:  15\n",
      "TRAFFIC LIGHT-AMBER | Annotations: 18  | Images:  10\n",
      "TRAFFIC LIGHT-GREEN | Annotations: 15  | Images:  4\n",
      "TRAFFIC LIGHT-RED | Annotations: 9  | Images:  5\n",
      "TRAFFIC SIGN | Annotations: 2533  | Images:  767\n",
      "TRAFFIC SIGN-SLOW_SIGN | Annotations: 2  | Images:  2\n",
      "TRAFFIC SIGN-SPEED_SIGN | Annotations: 26  | Images:  25\n",
      "TRAILER | Annotations: 40  | Images:  40\n",
      "TRUCK | Annotations: 2166  | Images:  795\n",
      "\n",
      "################################################\n",
      "\n"
     ]
    }
   ],
   "source": [
    "## Prepare Dataset ##\n",
    "\n",
    "\n",
    "\n",
    "construction_set7 = datasets.DataFormatter(annotations_list = CONSTRUCTION_ANNOTATIONS_FILE7, input_format = datasets.Format.bdd,\n",
    "                                 output_path = os.path.join(WORKING_DIRECTORY,'data/construction_set7'),\n",
    "                                 trainer_prefix = 'COCO_train2014_0000', convert_attributes = True, combine_categories=False,\n",
    "                                 s3_bucket = 'kache-scalabel/kache_ai/frames/')\n",
    "\n"
   ]
  },
  {
   "cell_type": "code",
   "execution_count": 22,
   "metadata": {
    "scrolled": true
   },
   "outputs": [
    {
     "name": "stdout",
     "output_type": "stream",
     "text": [
      "Saving to Pickle File: annotation_files_Kache-Logs--Tanveer-10_40_corrected.json.pickle\n",
      "Length of COCO Images 1000\n",
      "Length of COCO Annotations: 14323\n",
      "loading annotations into memory...\n",
      "Done (t=0.05s)\n",
      "creating index...\n",
      "index created!\n",
      "\n",
      "########### DATASET DISTRIBUTION: ###########\n",
      "\n",
      "BUS | Annotations: 13  | Images:  13\n",
      "CAR | Annotations: 4123  | Images:  924\n",
      "CONSTRUCT-BARREL | Annotations: 3614  | Images:  298\n",
      "CONSTRUCT-CONE | Annotations: 236  | Images:  55\n",
      "CONSTRUCT-EQUIPMENT | Annotations: 192  | Images:  87\n",
      "CONSTRUCT-POLE | Annotations: 766  | Images:  149\n",
      "CONSTRUCT-SIGN | Annotations: 460  | Images:  172\n",
      "MOTOR | Annotations: 21  | Images:  20\n",
      "PERSON | Annotations: 277  | Images:  68\n",
      "RIDER | Annotations: 35  | Images:  23\n",
      "TRAFFIC LIGHT | Annotations: 52  | Images:  21\n",
      "TRAFFIC LIGHT-AMBER | Annotations: 13  | Images:  11\n",
      "TRAFFIC LIGHT-GREEN | Annotations: 7  | Images:  2\n",
      "TRAFFIC LIGHT-RED | Annotations: 1  | Images:  1\n",
      "TRAFFIC SIGN | Annotations: 2134  | Images:  707\n",
      "TRAFFIC SIGN-SPEED_SIGN | Annotations: 78  | Images:  59\n",
      "TRAFFIC SIGN-STOP_SIGN | Annotations: 2  | Images:  2\n",
      "TRAILER | Annotations: 107  | Images:  79\n",
      "TRAIN | Annotations: 9  | Images:  9\n",
      "TRUCK | Annotations: 2183  | Images:  804\n",
      "\n",
      "################################################\n",
      "\n"
     ]
    }
   ],
   "source": [
    "## Prepare Dataset ##\n",
    "\n",
    "\n",
    "\n",
    "construction_set8 = datasets.DataFormatter(annotations_list = CONSTRUCTION_ANNOTATIONS_FILE8, input_format = datasets.Format.bdd,\n",
    "                                 output_path = os.path.join(WORKING_DIRECTORY,'data/construction_set8'),\n",
    "                                 trainer_prefix = 'COCO_train2014_0000', convert_attributes = True, combine_categories=False,\n",
    "                                 s3_bucket = 'kache-scalabel/kache_ai/frames/')\n",
    "\n"
   ]
  },
  {
   "cell_type": "code",
   "execution_count": 23,
   "metadata": {},
   "outputs": [],
   "source": [
    "# # Prepare Dataset ##\n",
    "\n",
    "\n",
    "\n",
    "# bdd_set = datasets.DataFormatter(annotations_list = ANNOTATIONS_FILE, input_format = datasets.Format.bdd, use_cache = True,\n",
    "#                                  output_path = os.path.join(WORKING_DIRECTORY,'data/bdd_set'),\n",
    "#                                  trainer_prefix = 'COCO_train2014_0000', \n",
    "#                                  s3_bucket = 'kache-scalabel/bdd100k/images/100k/train/')\n",
    "\n"
   ]
  },
  {
   "cell_type": "code",
   "execution_count": 24,
   "metadata": {},
   "outputs": [],
   "source": [
    "# coco_set = datasets.DataFormatter(annotations_list = COCO_ANNOTATIONS_FILE, input_format = datasets.Format.coco,\n",
    "#                                  output_path = os.path.join(WORKING_DIRECTORY,'data/coco_set'),use_cache = False,\n",
    "#                                  trainer_prefix = 'COCO_train2014_0000', \n",
    "#                                  s3_bucket = 'kache-scalabel/coco_dataset/images/train2014/')\n"
   ]
  },
  {
   "cell_type": "code",
   "execution_count": 25,
   "metadata": {},
   "outputs": [],
   "source": [
    "# coco_set = datasets.DataFormatter(annotations_list = '/media/dean/datastore/datasets/darknet/data/coco_set/bdd100k/annotations/coco_trn_set.json', input_format = datasets.Format.bdd,\n",
    "#                                  output_path = os.path.join(WORKING_DIRECTORY,'data/coco_set'),use_cache = False,\n",
    "#                                  trainer_prefix = 'COCO_train2014_0000', \n",
    "#                                  s3_bucket = 'kache-scalabel/coco_dataset/images/train2014/')\n"
   ]
  },
  {
   "cell_type": "code",
   "execution_count": 26,
   "metadata": {},
   "outputs": [],
   "source": [
    "# coco_val_set = datasets.DataFormatter(annotations_list = COCO_VAL_ANNOTATIONS_FILE, input_format = datasets.Format.coco,\n",
    "#                                  output_path = os.path.join(WORKING_DIRECTORY,'data/coco_val_set'),use_cache = True,\n",
    "#                                  trainer_prefix = 'COCO_val2014_0000', \n",
    "#                                  s3_bucket = 'kache-scalabel/coco_dataset/images/val2014/')\n"
   ]
  },
  {
   "cell_type": "code",
   "execution_count": 27,
   "metadata": {},
   "outputs": [],
   "source": [
    "# construction_set.merge(bdd_set, include=['CONSTRUCT-BARREL','dog', 'cell phone', 'CONSTRUCT-CONE','CONSTRUCT-EQUIPMENT', 'CONSTRUCT-POLE', 'CONSTRUCT-POST', 'CONSTRUCT-SIGN', 'person', 'train', 'truck', 'car', 'traffic light', 'traffic light-red','traffic light-amber','traffic light-green', 'bus', 'bike', 'motor', 'traffic sign','traffic sign-slow_sign', 'rider','traffic sign-speed_sign', 'traffic sign-stop_sign'], reject_new_categories = True)"
   ]
  },
  {
   "cell_type": "code",
   "execution_count": 28,
   "metadata": {},
   "outputs": [
    {
     "name": "stdout",
     "output_type": "stream",
     "text": [
      "EXCLUDING CATEGORIES: []\n",
      "PRUNING the ANNOTATION deletions (0 total)\n",
      "Successfully merged 1000 images | and  12958 annotations\n",
      "Length of COCO Annotations: 24736\n",
      "loading annotations into memory...\n",
      "Done (t=0.43s)\n",
      "creating index...\n",
      "index created!\n",
      "\n",
      "########### DATASET DISTRIBUTION: ###########\n",
      "\n",
      "BIKE | Annotations: 10  | Images:  5\n",
      "BUS | Annotations: 36  | Images:  35\n",
      "CAR | Annotations: 7942  | Images:  1888\n",
      "CONSTRUCT-BARREL | Annotations: 5351  | Images:  562\n",
      "CONSTRUCT-CONE | Annotations: 411  | Images:  75\n",
      "CONSTRUCT-EQUIPMENT | Annotations: 345  | Images:  188\n",
      "CONSTRUCT-POLE | Annotations: 1057  | Images:  270\n",
      "CONSTRUCT-SIGN | Annotations: 498  | Images:  285\n",
      "MOTOR | Annotations: 34  | Images:  30\n",
      "PERSON | Annotations: 432  | Images:  108\n",
      "RIDER | Annotations: 21  | Images:  20\n",
      "TRAFFIC LIGHT | Annotations: 118  | Images:  43\n",
      "TRAFFIC LIGHT-AMBER | Annotations: 31  | Images:  22\n",
      "TRAFFIC LIGHT-GREEN | Annotations: 23  | Images:  6\n",
      "TRAFFIC LIGHT-RED | Annotations: 41  | Images:  16\n",
      "TRAFFIC SIGN | Annotations: 4210  | Images:  1429\n",
      "TRAFFIC SIGN-SLOW_SIGN | Annotations: 3  | Images:  3\n",
      "TRAFFIC SIGN-SPEED_SIGN | Annotations: 124  | Images:  110\n",
      "TRAFFIC SIGN-STOP_SIGN | Annotations: 5  | Images:  5\n",
      "TRAILER | Annotations: 107  | Images:  92\n",
      "TRAIN | Annotations: 20  | Images:  18\n",
      "TRUCK | Annotations: 3917  | Images:  1597\n",
      "\n",
      "################################################\n",
      "\n",
      "Saving to Pickle File: annotation_files_Kache-Logs--Tanveer--7_40_corrected.json.pickle\n"
     ]
    }
   ],
   "source": [
    "construction_set.merge(construction_set2, include=['CONSTRUCT-BARREL','dog', 'trailer', 'cell phone', 'CONSTRUCT-CONE','CONSTRUCT-EQUIPMENT', 'CONSTRUCT-POLE', 'CONSTRUCT-POST', 'CONSTRUCT-SIGN', 'person', 'train', 'truck', 'car', 'traffic light', 'traffic light-red','traffic light-amber','traffic light-green', 'bus', 'bike', 'motor', 'traffic sign','traffic sign-slow_sign', 'rider','traffic sign-speed_sign', 'traffic sign-stop_sign'], reject_new_categories = True)"
   ]
  },
  {
   "cell_type": "code",
   "execution_count": 29,
   "metadata": {
    "scrolled": true
   },
   "outputs": [
    {
     "name": "stdout",
     "output_type": "stream",
     "text": [
      "EXCLUDING CATEGORIES: []\n",
      "PRUNING the ANNOTATION deletions (0 total)\n",
      "Successfully merged 1000 images | and  13127 annotations\n",
      "Length of COCO Annotations: 37863\n",
      "loading annotations into memory...\n",
      "Done (t=0.12s)\n",
      "creating index...\n",
      "index created!\n",
      "\n",
      "########### DATASET DISTRIBUTION: ###########\n",
      "\n",
      "BIKE | Annotations: 10  | Images:  5\n",
      "BUS | Annotations: 60  | Images:  55\n",
      "CAR | Annotations: 11869  | Images:  2845\n",
      "CONSTRUCT-BARREL | Annotations: 8585  | Images:  865\n",
      "CONSTRUCT-CONE | Annotations: 538  | Images:  104\n",
      "CONSTRUCT-EQUIPMENT | Annotations: 513  | Images:  265\n",
      "CONSTRUCT-POLE | Annotations: 1652  | Images:  411\n",
      "CONSTRUCT-SIGN | Annotations: 819  | Images:  434\n",
      "MOTOR | Annotations: 45  | Images:  39\n",
      "PERSON | Annotations: 628  | Images:  157\n",
      "RIDER | Annotations: 28  | Images:  26\n",
      "TRAFFIC LIGHT | Annotations: 154  | Images:  57\n",
      "TRAFFIC LIGHT-AMBER | Annotations: 51  | Images:  34\n",
      "TRAFFIC LIGHT-GREEN | Annotations: 23  | Images:  6\n",
      "TRAFFIC LIGHT-RED | Annotations: 49  | Images:  20\n",
      "TRAFFIC SIGN | Annotations: 6433  | Images:  2188\n",
      "TRAFFIC SIGN-SLOW_SIGN | Annotations: 4  | Images:  4\n",
      "TRAFFIC SIGN-SPEED_SIGN | Annotations: 179  | Images:  162\n",
      "TRAFFIC SIGN-STOP_SIGN | Annotations: 5  | Images:  5\n",
      "TRAILER | Annotations: 149  | Images:  134\n",
      "TRAIN | Annotations: 20  | Images:  18\n",
      "TRUCK | Annotations: 6049  | Images:  2399\n",
      "\n",
      "################################################\n",
      "\n",
      "Saving to Pickle File: annotation_files_Kache-Logs--Tanveer--7_40_corrected.json.pickle\n"
     ]
    }
   ],
   "source": [
    "construction_set.merge(construction_set3, include=['CONSTRUCT-BARREL','dog', 'cell phone', 'trailer','CONSTRUCT-CONE','CONSTRUCT-EQUIPMENT', 'CONSTRUCT-POLE', 'CONSTRUCT-POST', 'CONSTRUCT-SIGN', 'person', 'train', 'truck', 'car', 'traffic light', 'traffic light-red','traffic light-amber','traffic light-green', 'bus', 'bike', 'motor', 'traffic sign','traffic sign-slow_sign', 'rider','traffic sign-speed_sign', 'traffic sign-stop_sign'], reject_new_categories = True)"
   ]
  },
  {
   "cell_type": "code",
   "execution_count": 30,
   "metadata": {},
   "outputs": [
    {
     "name": "stdout",
     "output_type": "stream",
     "text": [
      "EXCLUDING CATEGORIES: []\n",
      "PRUNING the ANNOTATION deletions (0 total)\n",
      "Successfully merged 31 images | and  1137 annotations\n",
      "Length of COCO Annotations: 39000\n",
      "loading annotations into memory...\n",
      "Done (t=0.12s)\n",
      "creating index...\n",
      "index created!\n",
      "\n",
      "########### DATASET DISTRIBUTION: ###########\n",
      "\n",
      "BIKE | Annotations: 10  | Images:  5\n",
      "BUS | Annotations: 63  | Images:  58\n",
      "CAR | Annotations: 12055  | Images:  2869\n",
      "CONSTRUCT-BARREL | Annotations: 8967  | Images:  879\n",
      "CONSTRUCT-CONE | Annotations: 849  | Images:  124\n",
      "CONSTRUCT-EQUIPMENT | Annotations: 533  | Images:  278\n",
      "CONSTRUCT-POLE | Annotations: 1674  | Images:  415\n",
      "CONSTRUCT-SIGN | Annotations: 849  | Images:  450\n",
      "MOTOR | Annotations: 45  | Images:  39\n",
      "PERSON | Annotations: 671  | Images:  171\n",
      "RIDER | Annotations: 28  | Images:  26\n",
      "TRAFFIC LIGHT | Annotations: 164  | Images:  60\n",
      "TRAFFIC LIGHT-AMBER | Annotations: 51  | Images:  34\n",
      "TRAFFIC LIGHT-GREEN | Annotations: 29  | Images:  9\n",
      "TRAFFIC LIGHT-RED | Annotations: 50  | Images:  21\n",
      "TRAFFIC SIGN | Annotations: 6487  | Images:  2203\n",
      "TRAFFIC SIGN-SLOW_SIGN | Annotations: 7  | Images:  7\n",
      "TRAFFIC SIGN-SPEED_SIGN | Annotations: 186  | Images:  168\n",
      "TRAFFIC SIGN-STOP_SIGN | Annotations: 8  | Images:  8\n",
      "TRAILER | Annotations: 152  | Images:  136\n",
      "TRAIN | Annotations: 20  | Images:  18\n",
      "TRUCK | Annotations: 6102  | Images:  2419\n",
      "\n",
      "################################################\n",
      "\n",
      "Saving to Pickle File: annotation_files_Kache-Logs--Tanveer--7_40_corrected.json.pickle\n"
     ]
    }
   ],
   "source": [
    "construction_set.merge(construction_set4, include=['CONSTRUCT-BARREL','dog', 'cell phone', 'trailer', 'CONSTRUCT-CONE','CONSTRUCT-EQUIPMENT', 'CONSTRUCT-POLE', 'CONSTRUCT-POST', 'CONSTRUCT-SIGN', 'person', 'train', 'truck', 'car', 'traffic light', 'traffic light-red','traffic light-amber','traffic light-green', 'bus', 'bike', 'motor', 'traffic sign','traffic sign-slow_sign', 'rider','traffic sign-speed_sign', 'traffic sign-stop_sign'], reject_new_categories = True)"
   ]
  },
  {
   "cell_type": "code",
   "execution_count": 31,
   "metadata": {},
   "outputs": [
    {
     "name": "stdout",
     "output_type": "stream",
     "text": [
      "APPENDING to delete list: COCO_train2014_000089c332549e5031583cdf62495db8149a8010de6f.jpg\n",
      "PRUNING the IMAGE deletions (1 total)\n",
      "EXCLUDING CATEGORIES: []\n",
      "PRUNING the ANNOTATION deletions (0 total)\n",
      "Successfully merged 999 images | and  15670 annotations\n",
      "Length of COCO Annotations: 54670\n",
      "loading annotations into memory...\n",
      "Done (t=0.22s)\n",
      "creating index...\n",
      "index created!\n",
      "\n",
      "########### DATASET DISTRIBUTION: ###########\n",
      "\n",
      "BIKE | Annotations: 14  | Images:  8\n",
      "BUS | Annotations: 90  | Images:  84\n",
      "CAR | Annotations: 16610  | Images:  3829\n",
      "CONSTRUCT-BARREL | Annotations: 13271  | Images:  1201\n",
      "CONSTRUCT-CONE | Annotations: 1204  | Images:  189\n",
      "CONSTRUCT-EQUIPMENT | Annotations: 745  | Images:  400\n",
      "CONSTRUCT-POLE | Annotations: 2259  | Images:  558\n",
      "CONSTRUCT-SIGN | Annotations: 1188  | Images:  594\n",
      "MOTOR | Annotations: 59  | Images:  53\n",
      "PERSON | Annotations: 842  | Images:  218\n",
      "RIDER | Annotations: 36  | Images:  33\n",
      "TRAFFIC LIGHT | Annotations: 177  | Images:  66\n",
      "TRAFFIC LIGHT-AMBER | Annotations: 63  | Images:  42\n",
      "TRAFFIC LIGHT-GREEN | Annotations: 38  | Images:  11\n",
      "TRAFFIC LIGHT-RED | Annotations: 61  | Images:  25\n",
      "TRAFFIC SIGN | Annotations: 8637  | Images:  2922\n",
      "TRAFFIC SIGN-SLOW_SIGN | Annotations: 7  | Images:  7\n",
      "TRAFFIC SIGN-SPEED_SIGN | Annotations: 273  | Images:  248\n",
      "TRAFFIC SIGN-STOP_SIGN | Annotations: 9  | Images:  9\n",
      "TRAILER | Annotations: 239  | Images:  213\n",
      "TRAIN | Annotations: 31  | Images:  28\n",
      "TRUCK | Annotations: 8817  | Images:  3276\n",
      "\n",
      "################################################\n",
      "\n",
      "Saving to Pickle File: annotation_files_Kache-Logs--Tanveer--7_40_corrected.json.pickle\n"
     ]
    }
   ],
   "source": [
    "construction_set.merge(construction_set5, include=['CONSTRUCT-BARREL','dog', 'cell phone', 'trailer', 'CONSTRUCT-CONE','CONSTRUCT-EQUIPMENT', 'CONSTRUCT-POLE', 'CONSTRUCT-POST', 'CONSTRUCT-SIGN', 'person', 'train', 'truck', 'car', 'traffic light', 'traffic light-red','traffic light-amber','traffic light-green', 'bus', 'bike', 'motor', 'traffic sign','traffic sign-slow_sign', 'rider','traffic sign-speed_sign', 'traffic sign-stop_sign'], reject_new_categories = True)"
   ]
  },
  {
   "cell_type": "code",
   "execution_count": 32,
   "metadata": {},
   "outputs": [
    {
     "name": "stdout",
     "output_type": "stream",
     "text": [
      "EXCLUDING CATEGORIES: []\n",
      "PRUNING the ANNOTATION deletions (0 total)\n",
      "Successfully merged 1000 images | and  14371 annotations\n",
      "Length of COCO Annotations: 69041\n",
      "loading annotations into memory...\n",
      "Done (t=0.62s)\n",
      "creating index...\n",
      "index created!\n",
      "\n",
      "########### DATASET DISTRIBUTION: ###########\n",
      "\n",
      "BIKE | Annotations: 16  | Images:  9\n",
      "BUS | Annotations: 115  | Images:  109\n",
      "CAR | Annotations: 21000  | Images:  4787\n",
      "CONSTRUCT-BARREL | Annotations: 16710  | Images:  1492\n",
      "CONSTRUCT-CONE | Annotations: 1470  | Images:  236\n",
      "CONSTRUCT-EQUIPMENT | Annotations: 976  | Images:  523\n",
      "CONSTRUCT-POLE | Annotations: 2827  | Images:  696\n",
      "CONSTRUCT-SIGN | Annotations: 1537  | Images:  780\n",
      "MOTOR | Annotations: 73  | Images:  67\n",
      "PERSON | Annotations: 1131  | Images:  294\n",
      "RIDER | Annotations: 46  | Images:  43\n",
      "TRAFFIC LIGHT | Annotations: 227  | Images:  92\n",
      "TRAFFIC LIGHT-AMBER | Annotations: 89  | Images:  59\n",
      "TRAFFIC LIGHT-GREEN | Annotations: 42  | Images:  12\n",
      "TRAFFIC LIGHT-RED | Annotations: 66  | Images:  28\n",
      "TRAFFIC SIGN | Annotations: 10717  | Images:  3643\n",
      "TRAFFIC SIGN-SLOW_SIGN | Annotations: 8  | Images:  8\n",
      "TRAFFIC SIGN-SPEED_SIGN | Annotations: 377  | Images:  342\n",
      "TRAFFIC SIGN-STOP_SIGN | Annotations: 18  | Images:  18\n",
      "TRAILER | Annotations: 344  | Images:  303\n",
      "TRAIN | Annotations: 42  | Images:  39\n",
      "TRUCK | Annotations: 11210  | Images:  4109\n",
      "\n",
      "################################################\n",
      "\n",
      "Saving to Pickle File: annotation_files_Kache-Logs--Tanveer--7_40_corrected.json.pickle\n"
     ]
    }
   ],
   "source": [
    "construction_set.merge(construction_set6, include=['CONSTRUCT-BARREL','dog', 'cell phone', 'trailer', 'CONSTRUCT-CONE','CONSTRUCT-EQUIPMENT', 'CONSTRUCT-POLE', 'CONSTRUCT-POST', 'CONSTRUCT-SIGN', 'person', 'train', 'truck', 'car', 'traffic light', 'traffic light-red','traffic light-amber','traffic light-green', 'bus', 'bike', 'motor', 'traffic sign','traffic sign-slow_sign', 'rider','traffic sign-speed_sign', 'traffic sign-stop_sign'], reject_new_categories = True)"
   ]
  },
  {
   "cell_type": "code",
   "execution_count": 33,
   "metadata": {},
   "outputs": [
    {
     "name": "stdout",
     "output_type": "stream",
     "text": [
      "APPENDING to delete list: COCO_train2014_00005b213dab35df2745a21dfa8393191c04b8fe193f.jpg\n",
      "PRUNING the IMAGE deletions (1 total)\n",
      "EXCLUDING CATEGORIES: []\n",
      "PRUNING the ANNOTATION deletions (0 total)\n",
      "Successfully merged 999 images | and  13901 annotations\n",
      "Length of COCO Annotations: 82942\n",
      "loading annotations into memory...\n",
      "Done (t=0.70s)\n",
      "creating index...\n",
      "index created!\n",
      "\n",
      "########### DATASET DISTRIBUTION: ###########\n",
      "\n",
      "BIKE | Annotations: 20  | Images:  11\n",
      "BUS | Annotations: 171  | Images:  136\n",
      "CAR | Annotations: 25199  | Images:  5739\n",
      "CONSTRUCT-BARREL | Annotations: 20112  | Images:  1799\n",
      "CONSTRUCT-CONE | Annotations: 1613  | Images:  255\n",
      "CONSTRUCT-EQUIPMENT | Annotations: 1098  | Images:  590\n",
      "CONSTRUCT-POLE | Annotations: 3476  | Images:  839\n",
      "CONSTRUCT-SIGN | Annotations: 1804  | Images:  934\n",
      "MOTOR | Annotations: 84  | Images:  77\n",
      "PERSON | Annotations: 1331  | Images:  340\n",
      "RIDER | Annotations: 56  | Images:  52\n",
      "TRAFFIC LIGHT | Annotations: 256  | Images:  107\n",
      "TRAFFIC LIGHT-AMBER | Annotations: 107  | Images:  69\n",
      "TRAFFIC LIGHT-GREEN | Annotations: 57  | Images:  16\n",
      "TRAFFIC LIGHT-RED | Annotations: 75  | Images:  33\n",
      "TRAFFIC SIGN | Annotations: 13250  | Images:  4410\n",
      "TRAFFIC SIGN-SLOW_SIGN | Annotations: 10  | Images:  10\n",
      "TRAFFIC SIGN-SPEED_SIGN | Annotations: 403  | Images:  367\n",
      "TRAFFIC SIGN-STOP_SIGN | Annotations: 18  | Images:  18\n",
      "TRAILER | Annotations: 384  | Images:  343\n",
      "TRAIN | Annotations: 42  | Images:  39\n",
      "TRUCK | Annotations: 13376  | Images:  4904\n",
      "\n",
      "################################################\n",
      "\n",
      "Saving to Pickle File: annotation_files_Kache-Logs--Tanveer--7_40_corrected.json.pickle\n"
     ]
    }
   ],
   "source": [
    "construction_set.merge(construction_set7, include=['CONSTRUCT-BARREL','dog', 'cell phone', 'trailer', 'CONSTRUCT-CONE','CONSTRUCT-EQUIPMENT', 'CONSTRUCT-POLE', 'CONSTRUCT-POST', 'CONSTRUCT-SIGN', 'person', 'train', 'truck', 'car', 'traffic light', 'traffic light-red','traffic light-amber','traffic light-green', 'bus', 'bike', 'motor', 'traffic sign','traffic sign-slow_sign', 'rider','traffic sign-speed_sign', 'traffic sign-stop_sign'], reject_new_categories = True)"
   ]
  },
  {
   "cell_type": "code",
   "execution_count": 34,
   "metadata": {},
   "outputs": [
    {
     "name": "stdout",
     "output_type": "stream",
     "text": [
      "APPENDING to delete list: COCO_train2014_00003443fb0428ded3e7d90f7c1038a5d256deb6d376.jpg\n",
      "APPENDING to delete list: COCO_train2014_00000247bc0567f910277a85263364b8ca5908acf448.jpg\n",
      "APPENDING to delete list: COCO_train2014_0000095de2d22da92f96f0d59b531281e13fe3ebe2c7.jpg\n",
      "APPENDING to delete list: COCO_train2014_0000608bf8aca418542cc2b7541e4e8fcb57e27fa0c3.jpg\n",
      "PRUNING the IMAGE deletions (4 total)\n",
      "PRUNING the IMAGE deletions (4 total)\n",
      "PRUNING the IMAGE deletions (4 total)\n",
      "PRUNING the IMAGE deletions (4 total)\n",
      "EXCLUDING CATEGORIES: []\n",
      "PRUNING the ANNOTATION deletions (0 total)\n",
      "Successfully merged 996 images | and  14323 annotations\n",
      "Length of COCO Annotations: 97265\n",
      "loading annotations into memory...\n",
      "Done (t=0.78s)\n",
      "creating index...\n",
      "index created!\n",
      "\n",
      "########### DATASET DISTRIBUTION: ###########\n",
      "\n",
      "BIKE | Annotations: 20  | Images:  11\n",
      "BUS | Annotations: 184  | Images:  149\n",
      "CAR | Annotations: 29322  | Images:  6663\n",
      "CONSTRUCT-BARREL | Annotations: 23726  | Images:  2097\n",
      "CONSTRUCT-CONE | Annotations: 1849  | Images:  310\n",
      "CONSTRUCT-EQUIPMENT | Annotations: 1290  | Images:  677\n",
      "CONSTRUCT-POLE | Annotations: 4242  | Images:  988\n",
      "CONSTRUCT-SIGN | Annotations: 2264  | Images:  1106\n",
      "MOTOR | Annotations: 105  | Images:  97\n",
      "PERSON | Annotations: 1608  | Images:  408\n",
      "RIDER | Annotations: 91  | Images:  75\n",
      "TRAFFIC LIGHT | Annotations: 308  | Images:  128\n",
      "TRAFFIC LIGHT-AMBER | Annotations: 120  | Images:  80\n",
      "TRAFFIC LIGHT-GREEN | Annotations: 64  | Images:  18\n",
      "TRAFFIC LIGHT-RED | Annotations: 76  | Images:  34\n",
      "TRAFFIC SIGN | Annotations: 15384  | Images:  5117\n",
      "TRAFFIC SIGN-SLOW_SIGN | Annotations: 10  | Images:  10\n",
      "TRAFFIC SIGN-SPEED_SIGN | Annotations: 481  | Images:  426\n",
      "TRAFFIC SIGN-STOP_SIGN | Annotations: 20  | Images:  20\n",
      "TRAILER | Annotations: 491  | Images:  422\n",
      "TRAIN | Annotations: 51  | Images:  48\n",
      "TRUCK | Annotations: 15559  | Images:  5708\n",
      "\n",
      "################################################\n",
      "\n",
      "Saving to Pickle File: annotation_files_Kache-Logs--Tanveer--7_40_corrected.json.pickle\n"
     ]
    }
   ],
   "source": [
    "construction_set.merge(construction_set8, include=['CONSTRUCT-BARREL','dog', 'cell phone', 'trailer', 'CONSTRUCT-CONE','CONSTRUCT-EQUIPMENT', 'CONSTRUCT-POLE', 'CONSTRUCT-POST', 'CONSTRUCT-SIGN', 'person', 'train', 'truck', 'car', 'traffic light', 'traffic light-red','traffic light-amber','traffic light-green', 'bus', 'bike', 'motor', 'traffic sign','traffic sign-slow_sign', 'rider','traffic sign-speed_sign', 'traffic sign-stop_sign'], reject_new_categories = True)"
   ]
  },
  {
   "cell_type": "code",
   "execution_count": 35,
   "metadata": {},
   "outputs": [
    {
     "name": "stdout",
     "output_type": "stream",
     "text": [
      "APPENDING to delete list: COCO_train2014_00001c130c1d42386a931e5e64b6da29100ee4b15d40.jpg\n",
      "PRUNING the IMAGE deletions (1 total)\n",
      "EXCLUDING CATEGORIES: []\n",
      "PRUNING the ANNOTATION deletions (0 total)\n",
      "Successfully merged 999 images | and  15448 annotations\n",
      "Length of COCO Annotations: 112713\n",
      "loading annotations into memory...\n",
      "Done (t=0.37s)\n",
      "creating index...\n",
      "index created!\n",
      "\n",
      "########### DATASET DISTRIBUTION: ###########\n",
      "\n",
      "BIKE | Annotations: 27  | Images:  15\n",
      "BUS | Annotations: 209  | Images:  171\n",
      "CAR | Annotations: 33918  | Images:  7619\n",
      "CONSTRUCT-BARREL | Annotations: 27845  | Images:  2406\n",
      "CONSTRUCT-CONE | Annotations: 2052  | Images:  347\n",
      "CONSTRUCT-EQUIPMENT | Annotations: 1445  | Images:  777\n",
      "CONSTRUCT-POLE | Annotations: 4911  | Images:  1147\n",
      "CONSTRUCT-SIGN | Annotations: 2684  | Images:  1319\n",
      "MOTOR | Annotations: 119  | Images:  110\n",
      "PERSON | Annotations: 1824  | Images:  457\n",
      "RIDER | Annotations: 101  | Images:  85\n",
      "TRAFFIC LIGHT | Annotations: 348  | Images:  144\n",
      "TRAFFIC LIGHT-AMBER | Annotations: 135  | Images:  90\n",
      "TRAFFIC LIGHT-GREEN | Annotations: 66  | Images:  19\n",
      "TRAFFIC LIGHT-RED | Annotations: 82  | Images:  38\n",
      "TRAFFIC SIGN | Annotations: 17725  | Images:  5882\n",
      "TRAFFIC SIGN-SLOW_SIGN | Annotations: 10  | Images:  10\n",
      "TRAFFIC SIGN-SPEED_SIGN | Annotations: 585  | Images:  520\n",
      "TRAFFIC SIGN-STOP_SIGN | Annotations: 27  | Images:  27\n",
      "TRAILER | Annotations: 632  | Images:  549\n",
      "TRAIN | Annotations: 61  | Images:  58\n",
      "TRUCK | Annotations: 17907  | Images:  6541\n",
      "\n",
      "################################################\n",
      "\n",
      "Saving to Pickle File: annotation_files_Kache-Logs--Tanveer--7_40_corrected.json.pickle\n"
     ]
    }
   ],
   "source": [
    "construction_set.merge(construction_set9, include=['CONSTRUCT-BARREL','dog', 'cell phone', 'trailer', 'CONSTRUCT-CONE','CONSTRUCT-EQUIPMENT', 'CONSTRUCT-POLE', 'CONSTRUCT-POST', 'CONSTRUCT-SIGN', 'person', 'train', 'truck', 'car', 'traffic light', 'traffic light-red','traffic light-amber','traffic light-green', 'bus', 'bike', 'motor', 'traffic sign','traffic sign-slow_sign', 'rider','traffic sign-speed_sign', 'traffic sign-stop_sign'], reject_new_categories = True)"
   ]
  },
  {
   "cell_type": "code",
   "execution_count": 36,
   "metadata": {},
   "outputs": [
    {
     "name": "stdout",
     "output_type": "stream",
     "text": [
      "APPENDING to delete list: COCO_train2014_0000f1b65a4f893d4a990e4f63ab206a64a1213887fd.jpg\n",
      "APPENDING to delete list: COCO_train2014_00002e2f95717efcc0355bf6a37347b325881e8f5117.jpg\n",
      "PRUNING the IMAGE deletions (2 total)\n",
      "PRUNING the IMAGE deletions (2 total)\n",
      "EXCLUDING CATEGORIES: []\n",
      "PRUNING the ANNOTATION deletions (0 total)\n",
      "Successfully merged 998 images | and  15796 annotations\n",
      "Length of COCO Annotations: 128509\n",
      "loading annotations into memory...\n",
      "Done (t=0.92s)\n",
      "creating index...\n",
      "index created!\n",
      "\n",
      "########### DATASET DISTRIBUTION: ###########\n",
      "\n",
      "BIKE | Annotations: 30  | Images:  18\n",
      "BUS | Annotations: 232  | Images:  193\n",
      "CAR | Annotations: 38486  | Images:  8567\n",
      "CONSTRUCT-BARREL | Annotations: 31661  | Images:  2706\n",
      "CONSTRUCT-CONE | Annotations: 2310  | Images:  394\n",
      "CONSTRUCT-EQUIPMENT | Annotations: 1613  | Images:  874\n",
      "CONSTRUCT-POLE | Annotations: 5581  | Images:  1315\n",
      "CONSTRUCT-SIGN | Annotations: 3050  | Images:  1505\n",
      "MOTOR | Annotations: 133  | Images:  123\n",
      "PERSON | Annotations: 2057  | Images:  513\n",
      "RIDER | Annotations: 112  | Images:  95\n",
      "TRAFFIC LIGHT | Annotations: 355  | Images:  149\n",
      "TRAFFIC LIGHT-AMBER | Annotations: 154  | Images:  102\n",
      "TRAFFIC LIGHT-GREEN | Annotations: 69  | Images:  21\n",
      "TRAFFIC LIGHT-RED | Annotations: 91  | Images:  40\n",
      "TRAFFIC SIGN | Annotations: 20476  | Images:  6655\n",
      "TRAFFIC SIGN-SLOW_SIGN | Annotations: 10  | Images:  10\n",
      "TRAFFIC SIGN-SPEED_SIGN | Annotations: 685  | Images:  610\n",
      "TRAFFIC SIGN-STOP_SIGN | Annotations: 30  | Images:  30\n",
      "TRAILER | Annotations: 754  | Images:  650\n",
      "TRAIN | Annotations: 69  | Images:  66\n",
      "TRUCK | Annotations: 20551  | Images:  7401\n",
      "\n",
      "################################################\n",
      "\n",
      "Saving to Pickle File: annotation_files_Kache-Logs--Tanveer--7_40_corrected.json.pickle\n"
     ]
    }
   ],
   "source": [
    "construction_set.merge(construction_set10, include=['CONSTRUCT-BARREL','dog', 'cell phone', 'trailer', 'CONSTRUCT-CONE','CONSTRUCT-EQUIPMENT', 'CONSTRUCT-POLE', 'CONSTRUCT-POST', 'CONSTRUCT-SIGN', 'person', 'train', 'truck', 'car', 'traffic light', 'traffic light-red','traffic light-amber','traffic light-green', 'bus', 'bike', 'motor', 'traffic sign','traffic sign-slow_sign', 'rider','traffic sign-speed_sign', 'traffic sign-stop_sign'], reject_new_categories = True)"
   ]
  },
  {
   "cell_type": "code",
   "execution_count": 37,
   "metadata": {},
   "outputs": [
    {
     "name": "stdout",
     "output_type": "stream",
     "text": [
      "APPENDING to delete list: COCO_train2014_0000b7e08ed275b91cf0aa01f4bcc504f617a76015b6.jpg\n",
      "APPENDING to delete list: COCO_train2014_000036b3f6fb85a3bfd8af290cc3ac4dfe3cf30649b9.jpg\n",
      "APPENDING to delete list: COCO_train2014_00004b3abc890972a716e7aa783a0ec4591146129e76.jpg\n",
      "APPENDING to delete list: COCO_train2014_00001bb63984d2c56992e757cb88869aa5c6f584f4ed.jpg\n",
      "APPENDING to delete list: COCO_train2014_000041192f731c7be61fc91e66d064344c18e48110a7.jpg\n",
      "APPENDING to delete list: COCO_train2014_00009a7ab517fce3d9a82bdb3c59ca9a83bc818d5883.jpg\n",
      "APPENDING to delete list: COCO_train2014_00003fb457b957012ca5798e7a95646ba1df06239f22.jpg\n",
      "APPENDING to delete list: COCO_train2014_0000f49e2ef188b8bdab25501fddeb068836fae46ee4.jpg\n",
      "APPENDING to delete list: COCO_train2014_0000ab7e23114421603c7f3e17694be9e8e2a5e380a2.jpg\n",
      "APPENDING to delete list: COCO_train2014_000074e197fb8c7088d4ae536edf1b214decf4cfa900.jpg\n",
      "APPENDING to delete list: COCO_train2014_0000fea6ec75f18dd68193d8ed23d23bab4a5321c7a1.jpg\n",
      "APPENDING to delete list: COCO_train2014_00008e775b152315802c4eebb002c2af8b8b6894ef8a.jpg\n",
      "APPENDING to delete list: COCO_train2014_0000b30c810692f00f6d5fd8a3d941560facaf4fb90c.jpg\n",
      "APPENDING to delete list: COCO_train2014_00007b2f9dec8fe0458f9458926d0196eca860e4667a.jpg\n",
      "APPENDING to delete list: COCO_train2014_00008a789033a545e9129a5f4f357de86b6eeb2f9f06.jpg\n",
      "APPENDING to delete list: COCO_train2014_0000b6ae15cf09b6bcf4df2b02e74d0450659ce1a74e.jpg\n",
      "APPENDING to delete list: COCO_train2014_00005476805df5266a84ff123b1ee17314e378a3eb93.jpg\n",
      "APPENDING to delete list: COCO_train2014_000012011665cb83cb0815883cf54a86d084d5c81055.jpg\n",
      "APPENDING to delete list: COCO_train2014_00008780889ac77e237463e80a8f7e511edce5c89322.jpg\n",
      "APPENDING to delete list: COCO_train2014_0000d7d5bad489ed3afaf49afc0305eca2fd573edd84.jpg\n",
      "APPENDING to delete list: COCO_train2014_0000c987168cd5bee09c52afa010acd80aa912987d26.jpg\n",
      "APPENDING to delete list: COCO_train2014_00001474e6a1caedc9a5bc61b1d7239f7805f71988be.jpg\n",
      "APPENDING to delete list: COCO_train2014_00008d16b8ef9e697e5b4b2bda4570c31c4dab973d8f.jpg\n",
      "APPENDING to delete list: COCO_train2014_000008be3572b522c6ae9c58a3f1577f19d47fb04232.jpg\n",
      "APPENDING to delete list: COCO_train2014_00009ed5984ae01d201273154ee12421984859bd8e34.jpg\n",
      "APPENDING to delete list: COCO_train2014_0000455ad235cab88729e947745a06b47446a1612c9e.jpg\n",
      "PRUNING the IMAGE deletions (26 total)\n",
      "PRUNING the IMAGE deletions (26 total)\n",
      "PRUNING the IMAGE deletions (26 total)\n",
      "PRUNING the IMAGE deletions (26 total)\n",
      "PRUNING the IMAGE deletions (26 total)\n",
      "PRUNING the IMAGE deletions (26 total)\n",
      "PRUNING the IMAGE deletions (26 total)\n",
      "PRUNING the IMAGE deletions (26 total)\n",
      "PRUNING the IMAGE deletions (26 total)\n",
      "PRUNING the IMAGE deletions (26 total)\n",
      "PRUNING the IMAGE deletions (26 total)\n",
      "PRUNING the IMAGE deletions (26 total)\n",
      "PRUNING the IMAGE deletions (26 total)\n",
      "PRUNING the IMAGE deletions (26 total)\n",
      "PRUNING the IMAGE deletions (26 total)\n",
      "PRUNING the IMAGE deletions (26 total)\n",
      "PRUNING the IMAGE deletions (26 total)\n",
      "PRUNING the IMAGE deletions (26 total)\n",
      "PRUNING the IMAGE deletions (26 total)\n",
      "PRUNING the IMAGE deletions (26 total)\n",
      "PRUNING the IMAGE deletions (26 total)\n",
      "PRUNING the IMAGE deletions (26 total)\n",
      "PRUNING the IMAGE deletions (26 total)\n",
      "PRUNING the IMAGE deletions (26 total)\n",
      "PRUNING the IMAGE deletions (26 total)\n",
      "PRUNING the IMAGE deletions (26 total)\n",
      "EXCLUDING CATEGORIES: []\n",
      "PRUNING the ANNOTATION deletions (0 total)\n",
      "Successfully merged 4974 images | and  75422 annotations\n",
      "Length of COCO Annotations: 203931\n",
      "loading annotations into memory...\n",
      "Done (t=0.68s)\n",
      "creating index...\n",
      "index created!\n",
      "\n",
      "########### DATASET DISTRIBUTION: ###########\n",
      "\n",
      "BIKE | Annotations: 59  | Images:  38\n",
      "BUS | Annotations: 375  | Images:  317\n",
      "CAR | Annotations: 60135  | Images:  13274\n",
      "CONSTRUCT-BARREL | Annotations: 49376  | Images:  4203\n",
      "CONSTRUCT-CONE | Annotations: 3385  | Images:  596\n",
      "CONSTRUCT-EQUIPMENT | Annotations: 2740  | Images:  1441\n",
      "CONSTRUCT-POLE | Annotations: 8967  | Images:  2146\n",
      "CONSTRUCT-SIGN | Annotations: 5153  | Images:  2548\n",
      "MOTOR | Annotations: 207  | Images:  196\n",
      "PERSON | Annotations: 3269  | Images:  796\n",
      "RIDER | Annotations: 168  | Images:  150\n",
      "TRAFFIC LIGHT | Annotations: 668  | Images:  248\n",
      "TRAFFIC LIGHT-AMBER | Annotations: 230  | Images:  151\n",
      "TRAFFIC LIGHT-GREEN | Annotations: 132  | Images:  49\n",
      "TRAFFIC LIGHT-RED | Annotations: 199  | Images:  91\n",
      "TRAFFIC SIGN | Annotations: 33180  | Images:  10482\n",
      "TRAFFIC SIGN-SLOW_SIGN | Annotations: 12  | Images:  12\n",
      "TRAFFIC SIGN-SPEED_SIGN | Annotations: 1153  | Images:  998\n",
      "TRAFFIC SIGN-STOP_SIGN | Annotations: 57  | Images:  56\n",
      "TRAILER | Annotations: 1364  | Images:  1137\n",
      "TRAIN | Annotations: 150  | Images:  147\n",
      "TRUCK | Annotations: 32952  | Images:  11603\n",
      "\n",
      "################################################\n",
      "\n",
      "Saving to Pickle File: annotation_files_Kache-Logs--Tanveer--7_40_corrected.json.pickle\n"
     ]
    }
   ],
   "source": [
    "construction_set.merge(construction_set11, include=['CONSTRUCT-BARREL','dog', 'cell phone', 'trailer', 'CONSTRUCT-CONE','CONSTRUCT-EQUIPMENT', 'CONSTRUCT-POLE', 'CONSTRUCT-POST', 'CONSTRUCT-SIGN', 'person', 'train', 'truck', 'car', 'traffic light', 'traffic light-red','traffic light-amber','traffic light-green', 'bus', 'bike', 'motor', 'traffic sign','traffic sign-slow_sign', 'rider','traffic sign-speed_sign', 'traffic sign-stop_sign'], reject_new_categories = True)"
   ]
  },
  {
   "cell_type": "code",
   "execution_count": 38,
   "metadata": {},
   "outputs": [
    {
     "name": "stdout",
     "output_type": "stream",
     "text": [
      "APPENDING to delete list: COCO_train2014_00003bc5d41072f9189e7802e8736fcef290ccb55307.jpg\n",
      "PRUNING the IMAGE deletions (1 total)\n",
      "EXCLUDING CATEGORIES: []\n",
      "PRUNING the ANNOTATION deletions (0 total)\n",
      "Successfully merged 999 images | and  16213 annotations\n",
      "Length of COCO Annotations: 220144\n",
      "loading annotations into memory...\n",
      "Done (t=1.35s)\n",
      "creating index...\n",
      "index created!\n",
      "\n",
      "########### DATASET DISTRIBUTION: ###########\n",
      "\n",
      "BIKE | Annotations: 62  | Images:  41\n",
      "BUS | Annotations: 395  | Images:  336\n",
      "CAR | Annotations: 64718  | Images:  14212\n",
      "CONSTRUCT-BARREL | Annotations: 53459  | Images:  4494\n",
      "CONSTRUCT-CONE | Annotations: 3676  | Images:  647\n",
      "CONSTRUCT-EQUIPMENT | Annotations: 2907  | Images:  1534\n",
      "CONSTRUCT-POLE | Annotations: 9883  | Images:  2309\n",
      "CONSTRUCT-SIGN | Annotations: 5602  | Images:  2739\n",
      "MOTOR | Annotations: 225  | Images:  213\n",
      "PERSON | Annotations: 3545  | Images:  847\n",
      "RIDER | Annotations: 182  | Images:  164\n",
      "TRAFFIC LIGHT | Annotations: 766  | Images:  282\n",
      "TRAFFIC LIGHT-AMBER | Annotations: 245  | Images:  159\n",
      "TRAFFIC LIGHT-GREEN | Annotations: 132  | Images:  49\n",
      "TRAFFIC LIGHT-RED | Annotations: 210  | Images:  93\n",
      "TRAFFIC SIGN | Annotations: 35569  | Images:  11224\n",
      "TRAFFIC SIGN-SLOW_SIGN | Annotations: 12  | Images:  12\n",
      "TRAFFIC SIGN-SPEED_SIGN | Annotations: 1256  | Images:  1074\n",
      "TRAFFIC SIGN-STOP_SIGN | Annotations: 59  | Images:  58\n",
      "TRAILER | Annotations: 1478  | Images:  1220\n",
      "TRAIN | Annotations: 162  | Images:  157\n",
      "TRUCK | Annotations: 35601  | Images:  12435\n",
      "\n",
      "################################################\n",
      "\n",
      "Saving to Pickle File: annotation_files_Kache-Logs--Tanveer--7_40_corrected.json.pickle\n"
     ]
    }
   ],
   "source": [
    "construction_set.merge(construction_set12, include=['CONSTRUCT-BARREL','dog', 'cell phone', 'trailer', 'CONSTRUCT-CONE','CONSTRUCT-EQUIPMENT', 'CONSTRUCT-POLE', 'CONSTRUCT-POST', 'CONSTRUCT-SIGN', 'person', 'train', 'truck', 'car', 'traffic light', 'traffic light-red','traffic light-amber','traffic light-green', 'bus', 'bike', 'motor', 'traffic sign','traffic sign-slow_sign', 'rider','traffic sign-speed_sign', 'traffic sign-stop_sign'], reject_new_categories = True)"
   ]
  },
  {
   "cell_type": "code",
   "execution_count": 39,
   "metadata": {},
   "outputs": [
    {
     "name": "stdout",
     "output_type": "stream",
     "text": [
      "APPENDING to delete list: COCO_train2014_0000557e4dbb4dfaa9f288ab1034aa7509dd36b33acd.jpg\n",
      "PRUNING the IMAGE deletions (1 total)\n",
      "EXCLUDING CATEGORIES: []\n",
      "PRUNING the ANNOTATION deletions (0 total)\n",
      "Successfully merged 999 images | and  14366 annotations\n",
      "Length of COCO Annotations: 234510\n",
      "loading annotations into memory...\n",
      "Done (t=1.41s)\n",
      "creating index...\n",
      "index created!\n",
      "\n",
      "########### DATASET DISTRIBUTION: ###########\n",
      "\n",
      "BIKE | Annotations: 62  | Images:  41\n",
      "BUS | Annotations: 452  | Images:  367\n",
      "CAR | Annotations: 68927  | Images:  15172\n",
      "CONSTRUCT-BARREL | Annotations: 57209  | Images:  4779\n",
      "CONSTRUCT-CONE | Annotations: 3833  | Images:  677\n",
      "CONSTRUCT-EQUIPMENT | Annotations: 2996  | Images:  1582\n",
      "CONSTRUCT-POLE | Annotations: 10455  | Images:  2447\n",
      "CONSTRUCT-SIGN | Annotations: 5905  | Images:  2899\n",
      "MOTOR | Annotations: 235  | Images:  222\n",
      "PERSON | Annotations: 3774  | Images:  900\n",
      "RIDER | Annotations: 190  | Images:  172\n",
      "TRAFFIC LIGHT | Annotations: 808  | Images:  295\n",
      "TRAFFIC LIGHT-AMBER | Annotations: 263  | Images:  170\n",
      "TRAFFIC LIGHT-GREEN | Annotations: 136  | Images:  50\n",
      "TRAFFIC LIGHT-RED | Annotations: 216  | Images:  96\n",
      "TRAFFIC SIGN | Annotations: 38180  | Images:  12017\n",
      "TRAFFIC SIGN-SLOW_SIGN | Annotations: 12  | Images:  12\n",
      "TRAFFIC SIGN-SPEED_SIGN | Annotations: 1288  | Images:  1101\n",
      "TRAFFIC SIGN-STOP_SIGN | Annotations: 61  | Images:  60\n",
      "TRAILER | Annotations: 1518  | Images:  1260\n",
      "TRAIN | Annotations: 162  | Images:  157\n",
      "TRUCK | Annotations: 37828  | Images:  13241\n",
      "\n",
      "################################################\n",
      "\n",
      "Saving to Pickle File: annotation_files_Kache-Logs--Tanveer--7_40_corrected.json.pickle\n"
     ]
    }
   ],
   "source": [
    "construction_set.merge(construction_set13, include=['CONSTRUCT-BARREL','dog', 'cell phone', 'trailer', 'CONSTRUCT-CONE','CONSTRUCT-EQUIPMENT', 'CONSTRUCT-POLE', 'CONSTRUCT-POST', 'CONSTRUCT-SIGN', 'person', 'train', 'truck', 'car', 'traffic light', 'traffic light-red','traffic light-amber','traffic light-green', 'bus', 'bike', 'motor', 'traffic sign','traffic sign-slow_sign', 'rider','traffic sign-speed_sign', 'traffic sign-stop_sign'], reject_new_categories = True)"
   ]
  },
  {
   "cell_type": "code",
   "execution_count": 40,
   "metadata": {},
   "outputs": [
    {
     "name": "stdout",
     "output_type": "stream",
     "text": [
      "EXCLUDING CATEGORIES: []\n",
      "PRUNING the ANNOTATION deletions (0 total)\n",
      "Successfully merged 1000 images | and  16258 annotations\n",
      "Length of COCO Annotations: 250768\n",
      "loading annotations into memory...\n",
      "Done (t=1.07s)\n",
      "creating index...\n",
      "index created!\n",
      "\n",
      "########### DATASET DISTRIBUTION: ###########\n",
      "\n",
      "BIKE | Annotations: 69  | Images:  46\n",
      "BUS | Annotations: 474  | Images:  385\n",
      "CAR | Annotations: 73780  | Images:  16129\n",
      "CONSTRUCT-BARREL | Annotations: 61199  | Images:  5072\n",
      "CONSTRUCT-CONE | Annotations: 4035  | Images:  716\n",
      "CONSTRUCT-EQUIPMENT | Annotations: 3159  | Images:  1678\n",
      "CONSTRUCT-POLE | Annotations: 11175  | Images:  2602\n",
      "CONSTRUCT-SIGN | Annotations: 6352  | Images:  3125\n",
      "MOTOR | Annotations: 263  | Images:  248\n",
      "PERSON | Annotations: 3993  | Images:  952\n",
      "RIDER | Annotations: 206  | Images:  188\n",
      "TRAFFIC LIGHT | Annotations: 859  | Images:  319\n",
      "TRAFFIC LIGHT-AMBER | Annotations: 275  | Images:  179\n",
      "TRAFFIC LIGHT-GREEN | Annotations: 150  | Images:  53\n",
      "TRAFFIC LIGHT-RED | Annotations: 233  | Images:  104\n",
      "TRAFFIC SIGN | Annotations: 40776  | Images:  12798\n",
      "TRAFFIC SIGN-SLOW_SIGN | Annotations: 12  | Images:  12\n",
      "TRAFFIC SIGN-SPEED_SIGN | Annotations: 1410  | Images:  1210\n",
      "TRAFFIC SIGN-STOP_SIGN | Annotations: 71  | Images:  69\n",
      "TRAILER | Annotations: 1649  | Images:  1374\n",
      "TRAIN | Annotations: 174  | Images:  169\n",
      "TRUCK | Annotations: 40454  | Images:  14116\n",
      "\n",
      "################################################\n",
      "\n",
      "Saving to Pickle File: annotation_files_Kache-Logs--Tanveer--7_40_corrected.json.pickle\n"
     ]
    }
   ],
   "source": [
    "construction_set.merge(construction_set14, include=['CONSTRUCT-BARREL','dog', 'cell phone', 'trailer', 'CONSTRUCT-CONE','CONSTRUCT-EQUIPMENT', 'CONSTRUCT-POLE', 'CONSTRUCT-POST', 'CONSTRUCT-SIGN', 'person', 'train', 'truck', 'car', 'traffic light', 'traffic light-red','traffic light-amber','traffic light-green', 'bus', 'bike', 'motor', 'traffic sign','traffic sign-slow_sign', 'rider','traffic sign-speed_sign', 'traffic sign-stop_sign'], reject_new_categories = True)"
   ]
  },
  {
   "cell_type": "code",
   "execution_count": 41,
   "metadata": {},
   "outputs": [
    {
     "name": "stdout",
     "output_type": "stream",
     "text": [
      "APPENDING to delete list: COCO_train2014_0000c88fa7f2f83aaf3e7f0e58be60c818374f71c6e7.jpg\n",
      "PRUNING the IMAGE deletions (1 total)\n",
      "EXCLUDING CATEGORIES: []\n",
      "PRUNING the ANNOTATION deletions (0 total)\n",
      "Successfully merged 999 images | and  17032 annotations\n",
      "Length of COCO Annotations: 267800\n",
      "loading annotations into memory...\n",
      "Done (t=1.56s)\n",
      "creating index...\n",
      "index created!\n",
      "\n",
      "########### DATASET DISTRIBUTION: ###########\n",
      "\n",
      "BIKE | Annotations: 69  | Images:  46\n",
      "BUS | Annotations: 488  | Images:  399\n",
      "CAR | Annotations: 78807  | Images:  17098\n",
      "CONSTRUCT-BARREL | Annotations: 65663  | Images:  5387\n",
      "CONSTRUCT-CONE | Annotations: 4239  | Images:  749\n",
      "CONSTRUCT-EQUIPMENT | Annotations: 3354  | Images:  1778\n",
      "CONSTRUCT-POLE | Annotations: 12127  | Images:  2774\n",
      "CONSTRUCT-SIGN | Annotations: 6931  | Images:  3343\n",
      "MOTOR | Annotations: 281  | Images:  264\n",
      "PERSON | Annotations: 4242  | Images:  1008\n",
      "RIDER | Annotations: 231  | Images:  209\n",
      "TRAFFIC LIGHT | Annotations: 908  | Images:  333\n",
      "TRAFFIC LIGHT-AMBER | Annotations: 290  | Images:  187\n",
      "TRAFFIC LIGHT-GREEN | Annotations: 151  | Images:  54\n",
      "TRAFFIC LIGHT-RED | Annotations: 241  | Images:  105\n",
      "TRAFFIC SIGN | Annotations: 42995  | Images:  13504\n",
      "TRAFFIC SIGN-SLOW_SIGN | Annotations: 12  | Images:  12\n",
      "TRAFFIC SIGN-SPEED_SIGN | Annotations: 1517  | Images:  1285\n",
      "TRAFFIC SIGN-STOP_SIGN | Annotations: 76  | Images:  73\n",
      "TRAILER | Annotations: 1786  | Images:  1483\n",
      "TRAIN | Annotations: 187  | Images:  181\n",
      "TRUCK | Annotations: 43205  | Images:  14974\n",
      "\n",
      "################################################\n",
      "\n",
      "Saving to Pickle File: annotation_files_Kache-Logs--Tanveer--7_40_corrected.json.pickle\n"
     ]
    }
   ],
   "source": [
    "construction_set.merge(construction_set15, include=['CONSTRUCT-BARREL','dog', 'cell phone', 'trailer', 'CONSTRUCT-CONE','CONSTRUCT-EQUIPMENT', 'CONSTRUCT-POLE', 'CONSTRUCT-POST', 'CONSTRUCT-SIGN', 'person', 'train', 'truck', 'car', 'traffic light', 'traffic light-red','traffic light-amber','traffic light-green', 'bus', 'bike', 'motor', 'traffic sign','traffic sign-slow_sign', 'rider','traffic sign-speed_sign', 'traffic sign-stop_sign'], reject_new_categories = True)"
   ]
  },
  {
   "cell_type": "code",
   "execution_count": 42,
   "metadata": {},
   "outputs": [
    {
     "name": "stdout",
     "output_type": "stream",
     "text": [
      "EXCLUDING CATEGORIES: []\n",
      "PRUNING the ANNOTATION deletions (0 total)\n",
      "Successfully merged 1000 images | and  15483 annotations\n",
      "Length of COCO Annotations: 283283\n",
      "loading annotations into memory...\n",
      "Done (t=0.91s)\n",
      "creating index...\n",
      "index created!\n",
      "\n",
      "########### DATASET DISTRIBUTION: ###########\n",
      "\n",
      "BIKE | Annotations: 71  | Images:  48\n",
      "BUS | Annotations: 512  | Images:  420\n",
      "CAR | Annotations: 83056  | Images:  18056\n",
      "CONSTRUCT-BARREL | Annotations: 69849  | Images:  5713\n",
      "CONSTRUCT-CONE | Annotations: 4487  | Images:  782\n",
      "CONSTRUCT-EQUIPMENT | Annotations: 3527  | Images:  1874\n",
      "CONSTRUCT-POLE | Annotations: 12896  | Images:  2946\n",
      "CONSTRUCT-SIGN | Annotations: 7301  | Images:  3546\n",
      "MOTOR | Annotations: 316  | Images:  292\n",
      "PERSON | Annotations: 4430  | Images:  1055\n",
      "RIDER | Annotations: 252  | Images:  227\n",
      "TRAFFIC LIGHT | Annotations: 963  | Images:  354\n",
      "TRAFFIC LIGHT-AMBER | Annotations: 306  | Images:  196\n",
      "TRAFFIC LIGHT-GREEN | Annotations: 154  | Images:  55\n",
      "TRAFFIC LIGHT-RED | Annotations: 260  | Images:  112\n",
      "TRAFFIC SIGN | Annotations: 45361  | Images:  14280\n",
      "TRAFFIC SIGN-SLOW_SIGN | Annotations: 12  | Images:  12\n",
      "TRAFFIC SIGN-SPEED_SIGN | Annotations: 1620  | Images:  1376\n",
      "TRAFFIC SIGN-STOP_SIGN | Annotations: 83  | Images:  80\n",
      "TRAILER | Annotations: 1912  | Images:  1594\n",
      "TRAIN | Annotations: 204  | Images:  196\n",
      "TRUCK | Annotations: 45711  | Images:  15829\n",
      "\n",
      "################################################\n",
      "\n",
      "Saving to Pickle File: annotation_files_Kache-Logs--Tanveer--7_40_corrected.json.pickle\n"
     ]
    }
   ],
   "source": [
    "construction_set.merge(construction_set16, include=['CONSTRUCT-BARREL','dog', 'cell phone', 'trailer', 'CONSTRUCT-CONE','CONSTRUCT-EQUIPMENT', 'CONSTRUCT-POLE', 'CONSTRUCT-POST', 'CONSTRUCT-SIGN', 'person', 'train', 'truck', 'car', 'traffic light', 'traffic light-red','traffic light-amber','traffic light-green', 'bus', 'bike', 'motor', 'traffic sign','traffic sign-slow_sign', 'rider','traffic sign-speed_sign', 'traffic sign-stop_sign'], reject_new_categories = True)"
   ]
  },
  {
   "cell_type": "code",
   "execution_count": 43,
   "metadata": {},
   "outputs": [
    {
     "name": "stdout",
     "output_type": "stream",
     "text": [
      "EXCLUDING CATEGORIES: []\n",
      "PRUNING the ANNOTATION deletions (0 total)\n",
      "Successfully merged 1000 images | and  15607 annotations\n",
      "Length of COCO Annotations: 298890\n",
      "loading annotations into memory...\n",
      "Done (t=1.72s)\n",
      "creating index...\n",
      "index created!\n",
      "\n",
      "########### DATASET DISTRIBUTION: ###########\n",
      "\n",
      "BIKE | Annotations: 80  | Images:  54\n",
      "BUS | Annotations: 577  | Images:  460\n",
      "CAR | Annotations: 87779  | Images:  19028\n",
      "CONSTRUCT-BARREL | Annotations: 74172  | Images:  6030\n",
      "CONSTRUCT-CONE | Annotations: 4653  | Images:  809\n",
      "CONSTRUCT-EQUIPMENT | Annotations: 3646  | Images:  1950\n",
      "CONSTRUCT-POLE | Annotations: 13636  | Images:  3113\n",
      "CONSTRUCT-SIGN | Annotations: 7634  | Images:  3726\n",
      "MOTOR | Annotations: 321  | Images:  297\n",
      "PERSON | Annotations: 4626  | Images:  1109\n",
      "RIDER | Annotations: 260  | Images:  234\n",
      "TRAFFIC LIGHT | Annotations: 1007  | Images:  377\n",
      "TRAFFIC LIGHT-AMBER | Annotations: 314  | Images:  201\n",
      "TRAFFIC LIGHT-GREEN | Annotations: 166  | Images:  58\n",
      "TRAFFIC LIGHT-RED | Annotations: 266  | Images:  116\n",
      "TRAFFIC SIGN | Annotations: 47838  | Images:  15030\n",
      "TRAFFIC SIGN-SLOW_SIGN | Annotations: 14  | Images:  14\n",
      "TRAFFIC SIGN-SPEED_SIGN | Annotations: 1639  | Images:  1392\n",
      "TRAFFIC SIGN-STOP_SIGN | Annotations: 84  | Images:  81\n",
      "TRAILER | Annotations: 1959  | Images:  1640\n",
      "TRAIN | Annotations: 204  | Images:  196\n",
      "TRUCK | Annotations: 48015  | Images:  16629\n",
      "\n",
      "################################################\n",
      "\n",
      "Saving to Pickle File: annotation_files_Kache-Logs--Tanveer--7_40_corrected.json.pickle\n"
     ]
    }
   ],
   "source": [
    "construction_set.merge(construction_set17, include=['CONSTRUCT-BARREL','dog', 'cell phone', 'trailer', 'CONSTRUCT-CONE','CONSTRUCT-EQUIPMENT', 'CONSTRUCT-POLE', 'CONSTRUCT-POST', 'CONSTRUCT-SIGN', 'person', 'train', 'truck', 'car', 'traffic light', 'traffic light-red','traffic light-amber','traffic light-green', 'bus', 'bike', 'motor', 'traffic sign','traffic sign-slow_sign', 'rider','traffic sign-speed_sign', 'traffic sign-stop_sign'], reject_new_categories = True)"
   ]
  },
  {
   "cell_type": "code",
   "execution_count": 44,
   "metadata": {},
   "outputs": [
    {
     "name": "stdout",
     "output_type": "stream",
     "text": [
      "EXCLUDING CATEGORIES: []\n",
      "PRUNING the ANNOTATION deletions (0 total)\n",
      "Successfully merged 1000 images | and  16710 annotations\n",
      "Length of COCO Annotations: 315600\n",
      "loading annotations into memory...\n",
      "Done (t=1.80s)\n",
      "creating index...\n",
      "index created!\n",
      "\n",
      "########### DATASET DISTRIBUTION: ###########\n",
      "\n",
      "BIKE | Annotations: 83  | Images:  57\n",
      "BUS | Annotations: 602  | Images:  482\n",
      "CAR | Annotations: 92845  | Images:  19980\n",
      "CONSTRUCT-BARREL | Annotations: 78203  | Images:  6340\n",
      "CONSTRUCT-CONE | Annotations: 4879  | Images:  847\n",
      "CONSTRUCT-EQUIPMENT | Annotations: 3820  | Images:  2056\n",
      "CONSTRUCT-POLE | Annotations: 14416  | Images:  3281\n",
      "CONSTRUCT-SIGN | Annotations: 7993  | Images:  3887\n",
      "MOTOR | Annotations: 334  | Images:  309\n",
      "PERSON | Annotations: 4792  | Images:  1153\n",
      "RIDER | Annotations: 269  | Images:  242\n",
      "TRAFFIC LIGHT | Annotations: 1039  | Images:  391\n",
      "TRAFFIC LIGHT-AMBER | Annotations: 322  | Images:  208\n",
      "TRAFFIC LIGHT-GREEN | Annotations: 172  | Images:  60\n",
      "TRAFFIC LIGHT-RED | Annotations: 268  | Images:  118\n",
      "TRAFFIC SIGN | Annotations: 50678  | Images:  15835\n",
      "TRAFFIC SIGN-SLOW_SIGN | Annotations: 14  | Images:  14\n",
      "TRAFFIC SIGN-SPEED_SIGN | Annotations: 1767  | Images:  1505\n",
      "TRAFFIC SIGN-STOP_SIGN | Annotations: 87  | Images:  84\n",
      "TRAILER | Annotations: 2127  | Images:  1758\n",
      "TRAIN | Annotations: 218  | Images:  210\n",
      "TRUCK | Annotations: 50672  | Images:  17470\n",
      "\n",
      "################################################\n",
      "\n",
      "Saving to Pickle File: annotation_files_Kache-Logs--Tanveer--7_40_corrected.json.pickle\n"
     ]
    }
   ],
   "source": [
    "construction_set.merge(construction_set18, include=['CONSTRUCT-BARREL','dog', 'cell phone', 'trailer', 'CONSTRUCT-CONE','CONSTRUCT-EQUIPMENT', 'CONSTRUCT-POLE', 'CONSTRUCT-POST', 'CONSTRUCT-SIGN', 'person', 'train', 'truck', 'car', 'traffic light', 'traffic light-red','traffic light-amber','traffic light-green', 'bus', 'bike', 'motor', 'traffic sign','traffic sign-slow_sign', 'rider','traffic sign-speed_sign', 'traffic sign-stop_sign'], reject_new_categories = True)"
   ]
  },
  {
   "cell_type": "code",
   "execution_count": 45,
   "metadata": {},
   "outputs": [
    {
     "name": "stdout",
     "output_type": "stream",
     "text": [
      "APPENDING to delete list: COCO_train2014_00003f6796795ebc20263ecb745752bb50d1a26f757f.jpg\n",
      "APPENDING to delete list: COCO_train2014_0000115ab65743b00413f908403544efb32befdc1d12.jpg\n",
      "PRUNING the IMAGE deletions (2 total)\n",
      "PRUNING the IMAGE deletions (2 total)\n",
      "EXCLUDING CATEGORIES: []\n",
      "PRUNING the ANNOTATION deletions (0 total)\n",
      "Successfully merged 998 images | and  14846 annotations\n",
      "Length of COCO Annotations: 330446\n",
      "loading annotations into memory...\n",
      "Done (t=2.06s)\n",
      "creating index...\n",
      "index created!\n",
      "\n",
      "########### DATASET DISTRIBUTION: ###########\n",
      "\n",
      "BIKE | Annotations: 86  | Images:  58\n",
      "BUS | Annotations: 652  | Images:  516\n",
      "CAR | Annotations: 97328  | Images:  20935\n",
      "CONSTRUCT-BARREL | Annotations: 82020  | Images:  6640\n",
      "CONSTRUCT-CONE | Annotations: 5046  | Images:  873\n",
      "CONSTRUCT-EQUIPMENT | Annotations: 3964  | Images:  2133\n",
      "CONSTRUCT-POLE | Annotations: 15066  | Images:  3441\n",
      "CONSTRUCT-SIGN | Annotations: 8262  | Images:  4045\n",
      "MOTOR | Annotations: 346  | Images:  320\n",
      "PERSON | Annotations: 4984  | Images:  1201\n",
      "RIDER | Annotations: 279  | Images:  251\n",
      "TRAFFIC LIGHT | Annotations: 1079  | Images:  410\n",
      "TRAFFIC LIGHT-AMBER | Annotations: 339  | Images:  219\n",
      "TRAFFIC LIGHT-GREEN | Annotations: 172  | Images:  60\n",
      "TRAFFIC LIGHT-RED | Annotations: 270  | Images:  119\n",
      "TRAFFIC SIGN | Annotations: 53225  | Images:  16614\n",
      "TRAFFIC SIGN-SLOW_SIGN | Annotations: 16  | Images:  16\n",
      "TRAFFIC SIGN-SPEED_SIGN | Annotations: 1791  | Images:  1527\n",
      "TRAFFIC SIGN-STOP_SIGN | Annotations: 89  | Images:  86\n",
      "TRAILER | Annotations: 2178  | Images:  1809\n",
      "TRAIN | Annotations: 218  | Images:  210\n",
      "TRUCK | Annotations: 53036  | Images:  18301\n",
      "\n",
      "################################################\n",
      "\n",
      "Saving to Pickle File: annotation_files_Kache-Logs--Tanveer--7_40_corrected.json.pickle\n"
     ]
    }
   ],
   "source": [
    "construction_set.merge(construction_set19, include=['CONSTRUCT-BARREL','dog', 'cell phone', 'trailer', 'CONSTRUCT-CONE','CONSTRUCT-EQUIPMENT', 'CONSTRUCT-POLE', 'CONSTRUCT-POST', 'CONSTRUCT-SIGN', 'person', 'train', 'truck', 'car', 'traffic light', 'traffic light-red','traffic light-amber','traffic light-green', 'bus', 'bike', 'motor', 'traffic sign','traffic sign-slow_sign', 'rider','traffic sign-speed_sign', 'traffic sign-stop_sign'], reject_new_categories = True)"
   ]
  },
  {
   "cell_type": "code",
   "execution_count": 46,
   "metadata": {},
   "outputs": [
    {
     "name": "stdout",
     "output_type": "stream",
     "text": [
      "APPENDING to delete list: COCO_train2014_0000aebf97a2b24016ae18bc0169c725c4ed447bb561.jpg\n",
      "APPENDING to delete list: COCO_train2014_00005ac60aa8964429602fc955982fde653eda9bf67d.jpg\n",
      "APPENDING to delete list: COCO_train2014_00001df20b89dc99a4e6ef983860b3b7e75821875c8f.jpg\n",
      "APPENDING to delete list: COCO_train2014_0000493770a6c1ae6e36e29288bae8da796c97bb1590.jpg\n",
      "APPENDING to delete list: COCO_train2014_000039552dd3b1376ceb80647fdc0d4eafb11c5c8b45.jpg\n",
      "APPENDING to delete list: COCO_train2014_00003ffcfd0c0703458feafdf423f5f25da929e2d257.jpg\n",
      "APPENDING to delete list: COCO_train2014_000042450a4a6a37ce63271d5609268833aa10c6edb5.jpg\n",
      "PRUNING the IMAGE deletions (7 total)\n",
      "PRUNING the IMAGE deletions (7 total)\n",
      "PRUNING the IMAGE deletions (7 total)\n",
      "PRUNING the IMAGE deletions (7 total)\n",
      "PRUNING the IMAGE deletions (7 total)\n",
      "PRUNING the IMAGE deletions (7 total)\n",
      "PRUNING the IMAGE deletions (7 total)\n",
      "EXCLUDING CATEGORIES: []\n",
      "PRUNING the ANNOTATION deletions (0 total)\n",
      "Successfully merged 993 images | and  16370 annotations\n",
      "Length of COCO Annotations: 346816\n",
      "loading annotations into memory...\n",
      "Done (t=2.53s)\n",
      "creating index...\n",
      "index created!\n",
      "\n",
      "########### DATASET DISTRIBUTION: ###########\n",
      "\n",
      "BIKE | Annotations: 92  | Images:  63\n",
      "BUS | Annotations: 674  | Images:  536\n",
      "CAR | Annotations: 101947  | Images:  21871\n",
      "CONSTRUCT-BARREL | Annotations: 86493  | Images:  6948\n",
      "CONSTRUCT-CONE | Annotations: 5300  | Images:  918\n",
      "CONSTRUCT-EQUIPMENT | Annotations: 4113  | Images:  2235\n",
      "CONSTRUCT-POLE | Annotations: 15982  | Images:  3603\n",
      "CONSTRUCT-SIGN | Annotations: 8821  | Images:  4261\n",
      "MOTOR | Annotations: 359  | Images:  333\n",
      "PERSON | Annotations: 5188  | Images:  1252\n",
      "RIDER | Annotations: 300  | Images:  271\n",
      "TRAFFIC LIGHT | Annotations: 1153  | Images:  432\n",
      "TRAFFIC LIGHT-AMBER | Annotations: 353  | Images:  228\n",
      "TRAFFIC LIGHT-GREEN | Annotations: 177  | Images:  62\n",
      "TRAFFIC LIGHT-RED | Annotations: 277  | Images:  122\n",
      "TRAFFIC SIGN | Annotations: 55340  | Images:  17305\n",
      "TRAFFIC SIGN-SLOW_SIGN | Annotations: 17  | Images:  17\n",
      "TRAFFIC SIGN-SPEED_SIGN | Annotations: 1898  | Images:  1608\n",
      "TRAFFIC SIGN-STOP_SIGN | Annotations: 89  | Images:  86\n",
      "TRAILER | Annotations: 2277  | Images:  1886\n",
      "TRAIN | Annotations: 232  | Images:  222\n",
      "TRUCK | Annotations: 55734  | Images:  19137\n",
      "\n",
      "################################################\n",
      "\n",
      "Saving to Pickle File: annotation_files_Kache-Logs--Tanveer--7_40_corrected.json.pickle\n"
     ]
    }
   ],
   "source": [
    "construction_set.merge(construction_set20, include=['CONSTRUCT-BARREL','dog', 'cell phone', 'trailer', 'CONSTRUCT-CONE','CONSTRUCT-EQUIPMENT', 'CONSTRUCT-POLE', 'CONSTRUCT-POST', 'CONSTRUCT-SIGN', 'person', 'train', 'truck', 'car', 'traffic light', 'traffic light-red','traffic light-amber','traffic light-green', 'bus', 'bike', 'motor', 'traffic sign','traffic sign-slow_sign', 'rider','traffic sign-speed_sign', 'traffic sign-stop_sign'], reject_new_categories = True)"
   ]
  },
  {
   "cell_type": "code",
   "execution_count": 47,
   "metadata": {},
   "outputs": [],
   "source": [
    "# coco_val_set.export(format = datasets.Format.bdd, paginate = False)"
   ]
  },
  {
   "cell_type": "code",
   "execution_count": 48,
   "metadata": {},
   "outputs": [],
   "source": [
    "# bdd_set.export(format = datasets.Format.bdd, paginate = False)"
   ]
  },
  {
   "cell_type": "code",
   "execution_count": 49,
   "metadata": {
    "scrolled": true
   },
   "outputs": [],
   "source": [
    "construction_set.export(format = datasets.Format.bdd, paginate = False)"
   ]
  },
  {
   "cell_type": "code",
   "execution_count": 50,
   "metadata": {
    "scrolled": true
   },
   "outputs": [],
   "source": [
    "# coco_set.export(format = datasets.Format.bdd, paginate = False)"
   ]
  },
  {
   "cell_type": "code",
   "execution_count": 51,
   "metadata": {},
   "outputs": [],
   "source": [
    "# annotations_file = '/media/dean/datastore/datasets/darknet/data/bdd_set/bdd100k/annotations/bdd100k_altered_annotations.json'\n",
    "# !cd $WORKING_DIRECTORY && python3 darkernet.py -b 'kache-scalabel/kache_ai/frames/' -a $annotations_file -f BDD -r True"
   ]
  },
  {
   "cell_type": "code",
   "execution_count": 52,
   "metadata": {},
   "outputs": [],
   "source": [
    "# cocodd_set.merge(coco_set, include=['person', 'train', 'truck', 'car', 'traffic light', 'bus'], reject_new_categories = True)"
   ]
  },
  {
   "cell_type": "code",
   "execution_count": 53,
   "metadata": {},
   "outputs": [],
   "source": [
    "# cocodd_set.export(format = datasets.Format.bdd, paginate = False)"
   ]
  }
 ],
 "metadata": {
  "kernelspec": {
   "display_name": "Python [conda env:ros-kache]",
   "language": "python",
   "name": "conda-env-ros-kache-py"
  },
  "language_info": {
   "codemirror_mode": {
    "name": "ipython",
    "version": 3
   },
   "file_extension": ".py",
   "mimetype": "text/x-python",
   "name": "python",
   "nbconvert_exporter": "python",
   "pygments_lexer": "ipython3",
   "version": "3.6.0"
  },
  "widgets": {
   "state": {},
   "version": "1.1.2"
  }
 },
 "nbformat": 4,
 "nbformat_minor": 2
}
