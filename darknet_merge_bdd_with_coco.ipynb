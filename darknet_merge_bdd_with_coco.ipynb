{
 "cells": [
  {
   "cell_type": "code",
   "execution_count": 1,
   "metadata": {},
   "outputs": [],
   "source": [
    "%load_ext autoreload\n",
    "%autoreload 2"
   ]
  },
  {
   "cell_type": "code",
   "execution_count": 2,
   "metadata": {},
   "outputs": [],
   "source": [
    "import os\n",
    "import yaml\n",
    "import urllib\n",
    "from PIL import Image\n",
    "from enum import Enum\n",
    "from pycocotools.coco import COCO\n",
    "import xml.etree.cElementTree as ET\n",
    "import glob\n",
    "import argparse\n",
    "import numpy as np\n",
    "import json\n",
    "import numpy\n",
    "import cv2\n",
    "from collections import OrderedDict\n",
    "import scipy.misc\n",
    "from skimage import measure   \n",
    "import random\n",
    "import skimage.io as io\n",
    "import matplotlib.pyplot as plt\n",
    "import pylab\n",
    "import shutil\n",
    "import pickle\n",
    "import pandas as pd\n",
    "from subprocess import Popen,PIPE,STDOUT,call \n",
    "from utils import datasets\n",
    "\n",
    "BDD100K_DIRECTORY = os.path.join('/media/dean/datastore1/datasets/BerkeleyDeepDrive', 'bdd100k')\n",
    "WORKING_DIRECTORY = '/media/dean/datastore1/datasets/darknet'\n",
    "\n",
    "TRAINERS_DIRECTORY = os.path.join(WORKING_DIRECTORY, 'trainers')\n",
    "ANNOTATIONS_FILE = os.path.join(BDD100K_DIRECTORY, 'labels/bdd100k_labels_images_train.json')\n",
    "VAL_ANNOTATIONS_FILE = os.path.join(BDD100K_DIRECTORY, 'labels/bdd100k_labels_images_val.json')\n",
    "COCO_ANNOTATIONS_FILE = os.path.join('/media/dean/datastore1/datasets/road_coco/darknet/data/coco/annotations/instances_train2014.json')\n",
    "COCO_VAL_ANNOTATIONS_FILE = os.path.join('/media/dean/datastore1/datasets/road_coco/darknet/data/coco/annotations/instances_val2014.json')\n",
    "\n",
    "\n",
    "BASE_DATA_CONFIG = os.path.join(WORKING_DIRECTORY, 'cfg', 'bdd100k.data')\n",
    "BASE_MODEL_CONFIG = os.path.join(WORKING_DIRECTORY, 'cfg', 'yolov3-bdd100k.cfg')"
   ]
  },
  {
   "cell_type": "code",
   "execution_count": 3,
   "metadata": {
    "scrolled": true
   },
   "outputs": [],
   "source": [
    "# ## Prepare Dataset ##\n",
    "\n",
    "\n",
    "\n",
    "# bdd_set = datasets.DataFormatter(annotations_list = ANNOTATIONS_FILE, input_format = datasets.Format.bdd,\n",
    "#                                  output_path = os.path.join(WORKING_DIRECTORY,'data/bdd_set'),\n",
    "#                                  trainer_prefix = 'COCO_train2014_0000', \n",
    "#                                  s3_bucket = 'kache-scalabel/bdd100k/images/100k/train/')\n",
    "\n"
   ]
  },
  {
   "cell_type": "code",
   "execution_count": 4,
   "metadata": {
    "scrolled": true
   },
   "outputs": [
    {
     "name": "stdout",
     "output_type": "stream",
     "text": [
      "Saving to Pickle File: BerkeleyDeepDrive_bdd100k_labels_bdd100k_labels_images_val.json.pickle\n",
      "Length of COCO Images 10000\n",
      "Length of COCO Annotations: 185526\n",
      "loading annotations into memory...\n",
      "Done (t=0.93s)\n",
      "creating index...\n",
      "index created!\n",
      "\n",
      "########### DATASET DISTRIBUTION: ###########\n",
      "\n",
      "BIKE | Annotations: 1007  | Images:  578\n",
      "BUS | Annotations: 1597  | Images:  1242\n",
      "CAR | Annotations: 102506  | Images:  9879\n",
      "MOTOR | Annotations: 452  | Images:  334\n",
      "PERSON | Annotations: 13262  | Images:  3220\n",
      "RIDER | Annotations: 649  | Images:  515\n",
      "TRAFFIC LIGHT | Annotations: 26885  | Images:  5653\n",
      "TRAFFIC SIGN | Annotations: 34908  | Images:  8221\n",
      "TRAIN | Annotations: 15  | Images:  14\n",
      "TRUCK | Annotations: 4245  | Images:  2689\n",
      "\n",
      "################################################\n",
      "\n"
     ]
    }
   ],
   "source": [
    "# ## Prepare Dataset ##\n",
    "\n",
    "\n",
    "\n",
    "# bdd_val_set = datasets.DataFormatter(annotations_list = VAL_ANNOTATIONS_FILE, input_format = datasets.Format.bdd,\n",
    "#                                  output_path = os.path.join(WORKING_DIRECTORY,'data/bdd_val_set'),\n",
    "#                                  trainer_prefix = 'COCO_val2014_0000', \n",
    "#                                  s3_bucket = 'kache-scalabel/bdd100k/images/100k/val/',\n",
    "#                                  convert_attributes = False)\n",
    "\n"
   ]
  },
  {
   "cell_type": "code",
   "execution_count": 5,
   "metadata": {},
   "outputs": [],
   "source": [
    "# coco_set = datasets.DataFormatter(annotations_list = COCO_ANNOTATIONS_FILE, input_format = datasets.Format.coco,\n",
    "#                                  output_path = os.path.join(WORKING_DIRECTORY,'data/coco_set'),use_cache = False,\n",
    "#                                  trainer_prefix = 'COCO_train2014_0000', \n",
    "#                                  s3_bucket = 'kache-scalabel/coco_dataset/images/train2014/')\n"
   ]
  },
  {
   "cell_type": "code",
   "execution_count": 6,
   "metadata": {
    "scrolled": true
   },
   "outputs": [
    {
     "name": "stdout",
     "output_type": "stream",
     "text": [
      "loading annotations into memory...\n",
      "Done (t=4.55s)\n",
      "creating index...\n",
      "index created!\n",
      "Saving to Pickle File: road_coco_darknet_data_coco_annotations_instances_val2014.json.pickle\n",
      "Length of COCO Images 40137\n",
      "Length of COCO Annotations: 291875\n",
      "loading annotations into memory...\n",
      "Done (t=1.14s)\n",
      "creating index...\n",
      "index created!\n",
      "\n",
      "########### DATASET DISTRIBUTION: ###########\n",
      "\n",
      "AIRPLANE | Annotations: 1445  | Images:  840\n",
      "APPLE | Annotations: 1782  | Images:  491\n",
      "BACKPACK | Annotations: 2891  | Images:  1832\n",
      "BANANA | Annotations: 2925  | Images:  728\n",
      "BASEBALL BAT | Annotations: 1022  | Images:  799\n",
      "BASEBALL GLOVE | Annotations: 1206  | Images:  845\n",
      "BEAR | Annotations: 462  | Images:  341\n",
      "BED | Annotations: 1450  | Images:  1292\n",
      "BENCH | Annotations: 3500  | Images:  1961\n",
      "BICYCLE | Annotations: 2474  | Images:  1114\n",
      "BIRD | Annotations: 3956  | Images:  1121\n",
      "BOAT | Annotations: 3599  | Images:  1048\n",
      "BOOK | Annotations: 8561  | Images:  1828\n",
      "BOTTLE | Annotations: 8384  | Images:  2912\n",
      "BOWL | Annotations: 4920  | Images:  2397\n",
      "BROCCOLI | Annotations: 2697  | Images:  670\n",
      "BUS | Annotations: 2027  | Images:  1350\n",
      "CAKE | Annotations: 2118  | Images:  969\n",
      "CAR | Annotations: 15014  | Images:  4180\n",
      "CARROT | Annotations: 2684  | Images:  578\n",
      "CAT | Annotations: 1669  | Images:  1480\n",
      "CELL PHONE | Annotations: 2236  | Images:  1695\n",
      "CHAIR | Annotations: 13135  | Images:  4404\n",
      "CLOCK | Annotations: 2273  | Images:  1704\n",
      "COUCH | Annotations: 1927  | Images:  1448\n",
      "COW | Annotations: 2841  | Images:  666\n",
      "CUP | Annotations: 7036  | Images:  3061\n",
      "DINING TABLE | Annotations: 5244  | Images:  3960\n",
      "DOG | Annotations: 1952  | Images:  1521\n",
      "DONUT | Annotations: 2540  | Images:  523\n",
      "ELEPHANT | Annotations: 1863  | Images:  714\n",
      "FIRE HYDRANT | Annotations: 650  | Images:  592\n",
      "FORK | Annotations: 1776  | Images:  1173\n",
      "FRISBEE | Annotations: 935  | Images:  757\n",
      "GIRAFFE | Annotations: 1767  | Images:  849\n",
      "HAIR DRIER | Annotations: 74  | Images:  70\n",
      "HANDBAG | Annotations: 4116  | Images:  2272\n",
      "HORSE | Annotations: 2194  | Images:  1001\n",
      "HOT DOG | Annotations: 1022  | Images:  452\n",
      "KEYBOARD | Annotations: 1028  | Images:  750\n",
      "KITE | Annotations: 2852  | Images:  727\n",
      "KNIFE | Annotations: 2560  | Images:  1410\n",
      "LAPTOP | Annotations: 1786  | Images:  1232\n",
      "MICROWAVE | Annotations: 539  | Images:  512\n",
      "MOTORCYCLE | Annotations: 3075  | Images:  1219\n",
      "MOUSE | Annotations: 851  | Images:  674\n",
      "ORANGE | Annotations: 2089  | Images:  568\n",
      "OVEN | Annotations: 1175  | Images:  989\n",
      "PARKING METER | Annotations: 512  | Images:  261\n",
      "PERSON | Annotations: 88153  | Images:  21634\n",
      "PIZZA | Annotations: 2105  | Images:  1117\n",
      "POTTED PLANT | Annotations: 3077  | Images:  1540\n",
      "REFRIGERATOR | Annotations: 888  | Images:  790\n",
      "REMOTE | Annotations: 1864  | Images:  1041\n",
      "SANDWICH | Annotations: 1461  | Images:  818\n",
      "SCISSORS | Annotations: 444  | Images:  302\n",
      "SHEEP | Annotations: 3216  | Images:  489\n",
      "SINK | Annotations: 1902  | Images:  1574\n",
      "SKATEBOARD | Annotations: 1710  | Images:  1092\n",
      "SKIS | Annotations: 2189  | Images:  993\n",
      "SNOWBOARD | Annotations: 794  | Images:  533\n",
      "SPOON | Annotations: 2131  | Images:  1189\n",
      "SPORTS BALL | Annotations: 2218  | Images:  1445\n",
      "STOP SIGN | Annotations: 686  | Images:  589\n",
      "SUITCASE | Annotations: 2244  | Images:  876\n",
      "SURFBOARD | Annotations: 2234  | Images:  1292\n",
      "TEDDY BEAR | Annotations: 1542  | Images:  724\n",
      "TENNIS RACKET | Annotations: 1626  | Images:  1193\n",
      "TIE | Annotations: 2253  | Images:  1288\n",
      "TOASTER | Annotations: 78  | Images:  74\n",
      "TOILET | Annotations: 1463  | Images:  1185\n",
      "TOOTHBRUSH | Annotations: 634  | Images:  341\n",
      "TRAFFIC LIGHT | Annotations: 4362  | Images:  1437\n",
      "TRAIN | Annotations: 1602  | Images:  1281\n",
      "TRUCK | Annotations: 3338  | Images:  2056\n",
      "TV | Annotations: 2057  | Images:  1577\n",
      "UMBRELLA | Annotations: 3979  | Images:  1393\n",
      "VASE | Annotations: 2267  | Images:  1200\n",
      "WINE GLASS | Annotations: 2638  | Images:  872\n",
      "ZEBRA | Annotations: 1886  | Images:  677\n",
      "\n",
      "################################################\n",
      "\n"
     ]
    }
   ],
   "source": [
    "# coco_val_set = datasets.DataFormatter(annotations_list = COCO_VAL_ANNOTATIONS_FILE, input_format = datasets.Format.coco,\n",
    "#                                  output_path = os.path.join(WORKING_DIRECTORY,'data/coco_val_set'),use_cache = False,\n",
    "#                                  trainer_prefix = 'COCO_val2014_0000', \n",
    "#                                  s3_bucket = 'kache-scalabel/coco_dataset/images/val2014/')\n"
   ]
  },
  {
   "cell_type": "code",
   "execution_count": 7,
   "metadata": {},
   "outputs": [],
   "source": [
    "# bdd_set.export(format = datasets.Format.bdd, paginate = False)"
   ]
  },
  {
   "cell_type": "code",
   "execution_count": 8,
   "metadata": {},
   "outputs": [],
   "source": [
    "# bdd_val_set.export(format = datasets.Format.bdd, paginate = False)"
   ]
  },
  {
   "cell_type": "code",
   "execution_count": 9,
   "metadata": {},
   "outputs": [],
   "source": [
    "# coco_set.export(format = datasets.Format.bdd, paginate = False)"
   ]
  },
  {
   "cell_type": "code",
   "execution_count": 10,
   "metadata": {},
   "outputs": [],
   "source": [
    "# coco_val_set.export(format = datasets.Format.bdd, paginate = False)"
   ]
  },
  {
   "cell_type": "code",
   "execution_count": 6,
   "metadata": {
    "scrolled": true
   },
   "outputs": [
    {
     "name": "stdout",
     "output_type": "stream",
     "text": [
      "loading annotations into memory...\n",
      "Done (t=4.55s)\n",
      "creating index...\n",
      "index created!\n",
      "Saving to Pickle File: road_coco_darknet_data_coco_annotations_instances_val2014.json.pickle\n",
      "Length of COCO Images 40137\n",
      "Length of COCO Annotations: 291875\n",
      "loading annotations into memory...\n",
      "Done (t=1.14s)\n",
      "creating index...\n",
      "index created!\n",
      "\n",
      "########### DATASET DISTRIBUTION: ###########\n",
      "\n",
      "AIRPLANE | Annotations: 1445  | Images:  840\n",
      "APPLE | Annotations: 1782  | Images:  491\n",
      "BACKPACK | Annotations: 2891  | Images:  1832\n",
      "BANANA | Annotations: 2925  | Images:  728\n",
      "BASEBALL BAT | Annotations: 1022  | Images:  799\n",
      "BASEBALL GLOVE | Annotations: 1206  | Images:  845\n",
      "BEAR | Annotations: 462  | Images:  341\n",
      "BED | Annotations: 1450  | Images:  1292\n",
      "BENCH | Annotations: 3500  | Images:  1961\n",
      "BICYCLE | Annotations: 2474  | Images:  1114\n",
      "BIRD | Annotations: 3956  | Images:  1121\n",
      "BOAT | Annotations: 3599  | Images:  1048\n",
      "BOOK | Annotations: 8561  | Images:  1828\n",
      "BOTTLE | Annotations: 8384  | Images:  2912\n",
      "BOWL | Annotations: 4920  | Images:  2397\n",
      "BROCCOLI | Annotations: 2697  | Images:  670\n",
      "BUS | Annotations: 2027  | Images:  1350\n",
      "CAKE | Annotations: 2118  | Images:  969\n",
      "CAR | Annotations: 15014  | Images:  4180\n",
      "CARROT | Annotations: 2684  | Images:  578\n",
      "CAT | Annotations: 1669  | Images:  1480\n",
      "CELL PHONE | Annotations: 2236  | Images:  1695\n",
      "CHAIR | Annotations: 13135  | Images:  4404\n",
      "CLOCK | Annotations: 2273  | Images:  1704\n",
      "COUCH | Annotations: 1927  | Images:  1448\n",
      "COW | Annotations: 2841  | Images:  666\n",
      "CUP | Annotations: 7036  | Images:  3061\n",
      "DINING TABLE | Annotations: 5244  | Images:  3960\n",
      "DOG | Annotations: 1952  | Images:  1521\n",
      "DONUT | Annotations: 2540  | Images:  523\n",
      "ELEPHANT | Annotations: 1863  | Images:  714\n",
      "FIRE HYDRANT | Annotations: 650  | Images:  592\n",
      "FORK | Annotations: 1776  | Images:  1173\n",
      "FRISBEE | Annotations: 935  | Images:  757\n",
      "GIRAFFE | Annotations: 1767  | Images:  849\n",
      "HAIR DRIER | Annotations: 74  | Images:  70\n",
      "HANDBAG | Annotations: 4116  | Images:  2272\n",
      "HORSE | Annotations: 2194  | Images:  1001\n",
      "HOT DOG | Annotations: 1022  | Images:  452\n",
      "KEYBOARD | Annotations: 1028  | Images:  750\n",
      "KITE | Annotations: 2852  | Images:  727\n",
      "KNIFE | Annotations: 2560  | Images:  1410\n",
      "LAPTOP | Annotations: 1786  | Images:  1232\n",
      "MICROWAVE | Annotations: 539  | Images:  512\n",
      "MOTORCYCLE | Annotations: 3075  | Images:  1219\n",
      "MOUSE | Annotations: 851  | Images:  674\n",
      "ORANGE | Annotations: 2089  | Images:  568\n",
      "OVEN | Annotations: 1175  | Images:  989\n",
      "PARKING METER | Annotations: 512  | Images:  261\n",
      "PERSON | Annotations: 88153  | Images:  21634\n",
      "PIZZA | Annotations: 2105  | Images:  1117\n",
      "POTTED PLANT | Annotations: 3077  | Images:  1540\n",
      "REFRIGERATOR | Annotations: 888  | Images:  790\n",
      "REMOTE | Annotations: 1864  | Images:  1041\n",
      "SANDWICH | Annotations: 1461  | Images:  818\n",
      "SCISSORS | Annotations: 444  | Images:  302\n",
      "SHEEP | Annotations: 3216  | Images:  489\n",
      "SINK | Annotations: 1902  | Images:  1574\n",
      "SKATEBOARD | Annotations: 1710  | Images:  1092\n",
      "SKIS | Annotations: 2189  | Images:  993\n",
      "SNOWBOARD | Annotations: 794  | Images:  533\n",
      "SPOON | Annotations: 2131  | Images:  1189\n",
      "SPORTS BALL | Annotations: 2218  | Images:  1445\n",
      "STOP SIGN | Annotations: 686  | Images:  589\n",
      "SUITCASE | Annotations: 2244  | Images:  876\n",
      "SURFBOARD | Annotations: 2234  | Images:  1292\n",
      "TEDDY BEAR | Annotations: 1542  | Images:  724\n",
      "TENNIS RACKET | Annotations: 1626  | Images:  1193\n",
      "TIE | Annotations: 2253  | Images:  1288\n",
      "TOASTER | Annotations: 78  | Images:  74\n",
      "TOILET | Annotations: 1463  | Images:  1185\n",
      "TOOTHBRUSH | Annotations: 634  | Images:  341\n",
      "TRAFFIC LIGHT | Annotations: 4362  | Images:  1437\n",
      "TRAIN | Annotations: 1602  | Images:  1281\n",
      "TRUCK | Annotations: 3338  | Images:  2056\n",
      "TV | Annotations: 2057  | Images:  1577\n",
      "UMBRELLA | Annotations: 3979  | Images:  1393\n",
      "VASE | Annotations: 2267  | Images:  1200\n",
      "WINE GLASS | Annotations: 2638  | Images:  872\n",
      "ZEBRA | Annotations: 1886  | Images:  677\n",
      "\n",
      "################################################\n",
      "\n"
     ]
    }
   ],
   "source": [
    "# coco_val_set2 = datasets.DataFormatter(annotations_list = COCO_VAL_ANNOTATIONS_FILE, input_format = datasets.Format.coco,\n",
    "#                                  output_path = os.path.join(WORKING_DIRECTORY,'data/coco_val_set'),use_cache = False,\n",
    "#                                  trainer_prefix = 'COCO_val2014_0000', \n",
    "#                                  s3_bucket = 'kache-scalabel/coco_dataset/images/val2014/')\n"
   ]
  },
  {
   "cell_type": "code",
   "execution_count": 11,
   "metadata": {},
   "outputs": [
    {
     "name": "stdout",
     "output_type": "stream",
     "text": [
      "Successfully merged 24829 images | and  110134 annotations\n",
      "Length of COCO Annotations: 295660\n",
      "loading annotations into memory...\n",
      "Done (t=2.12s)\n",
      "creating index...\n",
      "index created!\n",
      "\n",
      "########### DATASET DISTRIBUTION: ###########\n",
      "\n",
      "BIKE | Annotations: 1007  | Images:  578\n",
      "BUS | Annotations: 3624  | Images:  2592\n",
      "CAR | Annotations: 117520  | Images:  14059\n",
      "MOTOR | Annotations: 452  | Images:  334\n",
      "PERSON | Annotations: 101415  | Images:  24854\n",
      "RIDER | Annotations: 649  | Images:  515\n",
      "TRAFFIC LIGHT | Annotations: 26885  | Images:  5653\n",
      "TRAFFIC SIGN | Annotations: 34908  | Images:  8221\n",
      "TRAIN | Annotations: 1617  | Images:  1295\n",
      "TRUCK | Annotations: 7583  | Images:  4745\n",
      "\n",
      "################################################\n",
      "\n",
      "Saving to Pickle File: BerkeleyDeepDrive_bdd100k_labels_bdd100k_labels_images_val.json.pickle\n"
     ]
    }
   ],
   "source": [
    "# bdd_val_set.merge(coco_val_set2, include=['person', 'train', 'truck', 'car', 'traffic light', 'bus', 'bike', 'motor', 'traffic sign'], reject_new_categories = True)"
   ]
  },
  {
   "cell_type": "code",
   "execution_count": 12,
   "metadata": {},
   "outputs": [],
   "source": [
    "# bdd_val_set.export(format = datasets.Format.bdd, paginate = False)"
   ]
  },
  {
   "cell_type": "code",
   "execution_count": 13,
   "metadata": {},
   "outputs": [
    {
     "name": "stdout",
     "output_type": "stream",
     "text": [
      "Saving to Pickle File: BerkeleyDeepDrive_bdd100k_labels_bdd100k_labels_images_val.json.pickle\n",
      "Length of COCO Images 10000\n",
      "Length of COCO Annotations: 185526\n",
      "loading annotations into memory...\n",
      "Done (t=0.64s)\n",
      "creating index...\n",
      "index created!\n",
      "\n",
      "########### DATASET DISTRIBUTION: ###########\n",
      "\n",
      "BIKE | Annotations: 1007  | Images:  578\n",
      "BUS | Annotations: 1597  | Images:  1242\n",
      "CAR | Annotations: 102506  | Images:  9879\n",
      "MOTOR | Annotations: 452  | Images:  334\n",
      "PERSON | Annotations: 13262  | Images:  3220\n",
      "RIDER | Annotations: 649  | Images:  515\n",
      "TRAFFIC LIGHT | Annotations: 26885  | Images:  5653\n",
      "TRAFFIC SIGN | Annotations: 34908  | Images:  8221\n",
      "TRAIN | Annotations: 15  | Images:  14\n",
      "TRUCK | Annotations: 4245  | Images:  2689\n",
      "\n",
      "################################################\n",
      "\n"
     ]
    }
   ],
   "source": [
    "# ## Prepare Dataset ##\n",
    "\n",
    "\n",
    "\n",
    "# bdd_val_tmp = datasets.DataFormatter(annotations_list = VAL_ANNOTATIONS_FILE, input_format = datasets.Format.bdd,\n",
    "#                                  output_path = os.path.join(WORKING_DIRECTORY,'data/bdd_val_tmp'),\n",
    "#                                  trainer_prefix = 'COCO_val2014_0000', \n",
    "#                                  s3_bucket = 'kache-scalabel/bdd100k/images/100k/val/',\n",
    "#                                  convert_attributes = False)\n",
    "\n"
   ]
  },
  {
   "cell_type": "code",
   "execution_count": 14,
   "metadata": {},
   "outputs": [
    {
     "name": "stdout",
     "output_type": "stream",
     "text": [
      "Successfully merged 10000 images | and  121625 annotations\n",
      "Length of COCO Annotations: 231759\n",
      "loading annotations into memory...\n",
      "Done (t=0.76s)\n",
      "creating index...\n",
      "index created!\n",
      "\n",
      "########### DATASET DISTRIBUTION: ###########\n",
      "\n",
      "BUS | Annotations: 3624  | Images:  2592\n",
      "CAR | Annotations: 117520  | Images:  14059\n",
      "PERSON | Annotations: 101415  | Images:  24854\n",
      "TRAIN | Annotations: 1617  | Images:  1295\n",
      "TRUCK | Annotations: 7583  | Images:  4745\n",
      "\n",
      "################################################\n",
      "\n",
      "Saving to Pickle File: road_coco_darknet_data_coco_annotations_instances_val2014.json.pickle\n"
     ]
    }
   ],
   "source": [
    "# coco_val_set.merge(bdd_val_tmp, include=['person', 'train', 'truck', 'car', 'traffic light', 'bus', 'bike', 'motor', 'traffic sign'], reject_new_categories = True)"
   ]
  },
  {
   "cell_type": "code",
   "execution_count": 15,
   "metadata": {},
   "outputs": [],
   "source": [
    "# coco_val_set.export(format = datasets.Format.bdd, paginate = False)"
   ]
  }
 ],
 "metadata": {
  "kernelspec": {
   "display_name": "Python [default]",
   "language": "python",
   "name": "python3"
  },
  "language_info": {
   "codemirror_mode": {
    "name": "ipython",
    "version": 3
   },
   "file_extension": ".py",
   "mimetype": "text/x-python",
   "name": "python",
   "nbconvert_exporter": "python",
   "pygments_lexer": "ipython3",
   "version": "3.6.0"
  },
  "widgets": {
   "state": {},
   "version": "1.1.2"
  }
 },
 "nbformat": 4,
 "nbformat_minor": 2
}
