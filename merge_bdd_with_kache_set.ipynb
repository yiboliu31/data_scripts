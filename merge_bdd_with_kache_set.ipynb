{
 "cells": [
  {
   "cell_type": "code",
   "execution_count": 1,
   "metadata": {},
   "outputs": [],
   "source": [
    "%reload_ext autoreload\n",
    "%autoreload 2\n"
   ]
  },
  {
   "cell_type": "code",
   "execution_count": null,
   "metadata": {},
   "outputs": [],
   "source": []
  },
  {
   "cell_type": "code",
   "execution_count": 2,
   "metadata": {},
   "outputs": [],
   "source": [
    "import os\n",
    "import yaml\n",
    "import urllib\n",
    "from PIL import Image\n",
    "from enum import Enum\n",
    "from pycocotools.coco import COCO\n",
    "import xml.etree.cElementTree as ET\n",
    "import glob\n",
    "import argparse\n",
    "import numpy as np\n",
    "import json\n",
    "import numpy\n",
    "import cv2\n",
    "from collections import OrderedDict\n",
    "import scipy.misc\n",
    "from skimage import measure   \n",
    "import random\n",
    "import skimage.io as io\n",
    "import matplotlib.pyplot as plt\n",
    "import pylab\n",
    "import shutil\n",
    "import pickle\n",
    "import pandas as pd\n",
    "from subprocess import Popen,PIPE,STDOUT,call \n",
    "from utils import datasets\n",
    "\n",
    "BDD100K_DIRECTORY = os.path.join('/media/dean/datastore1/datasets/BerkeleyDeepDrive', 'bdd100k')\n",
    "WORKING_DIRECTORY = '/media/dean/datastore1/datasets/darknet'\n",
    "\n",
    "TRAINERS_DIRECTORY = os.path.join(WORKING_DIRECTORY, 'trainers')\n",
    "ANNOTATIONS_FILE = os.path.join(BDD100K_DIRECTORY, 'labels/bdd100k_labels_images_train.json')\n",
    "\n",
    "CONSTRUCTION_ANNOTATIONS_FILE = os.path.join('/media/dean/datastore1/datasets/annotation_files', 'Kache-Logs--Tanveer--7_40_corrected.json')\n",
    "\n",
    "CONSTRUCTION_ANNOTATIONS_FILE2 = os.path.join('/media/dean/datastore1/datasets/annotation_files', 'Kache-Logs--Tanveer--6_40_corrected.json')\n",
    "VAL_ANNOTATIONS_FILE = os.path.join(BDD100K_DIRECTORY, 'labels/bdd100k_labels_images_val.json')\n",
    "COCO_ANNOTATIONS_FILE = os.path.join('/media/dean/datastore/datasets/road_coco/darknet/data/coco/annotations/instances_train2014.json')\n",
    "\n",
    "BASE_DATA_CONFIG = os.path.join(WORKING_DIRECTORY, 'cfg', 'bdd100k.data')\n",
    "BASE_MODEL_CONFIG = os.path.join(WORKING_DIRECTORY, 'cfg', 'yolov3-bdd100k.cfg')"
   ]
  },
  {
   "cell_type": "code",
   "execution_count": 3,
   "metadata": {
    "scrolled": true
   },
   "outputs": [
    {
     "name": "stdout",
     "output_type": "stream",
     "text": [
      "Saving to Pickle File: annotation_files_Kache-Logs--Tanveer--7_40_corrected.json.pickle\n",
      "Length of COCO Images 1000\n",
      "Length of COCO Annotations: 11778\n",
      "loading annotations into memory...\n",
      "Done (t=0.10s)\n",
      "creating index...\n",
      "index created!\n",
      "\n",
      "########### DATASET DISTRIBUTION: ###########\n",
      "\n",
      "BIKE | Annotations: 1  | Images:  1\n",
      "BUS | Annotations: 30  | Images:  30\n",
      "CAR | Annotations: 3834  | Images:  949\n",
      "CONSTRUCT-BARREL | Annotations: 2443  | Images:  279\n",
      "CONSTRUCT-CONE | Annotations: 188  | Images:  37\n",
      "CONSTRUCT-EQUIPMENT | Annotations: 154  | Images:  71\n",
      "CONSTRUCT-POLE | Annotations: 488  | Images:  127\n",
      "CONSTRUCT-SIGN | Annotations: 219  | Images:  123\n",
      "MOTOR | Annotations: 21  | Images:  18\n",
      "PERSON | Annotations: 215  | Images:  51\n",
      "RIDER | Annotations: 14  | Images:  13\n",
      "TRAFFIC LIGHT | Annotations: 76  | Images:  30\n",
      "TRAFFIC SIGN | Annotations: 2255  | Images:  734\n",
      "TRAFFIC SIGN-SLOW_SIGN | Annotations: 1  | Images:  1\n",
      "TRAFFIC SIGN-SPEED_SIGN | Annotations: 32  | Images:  28\n",
      "TRAFFIC SIGN-STOP_SIGN | Annotations: 3  | Images:  3\n",
      "TRAILER | Annotations: 41  | Images:  39\n",
      "TRAIN | Annotations: 7  | Images:  5\n",
      "TRUCK | Annotations: 1756  | Images:  752\n",
      "\n",
      "################################################\n",
      "\n"
     ]
    }
   ],
   "source": [
    "## Prepare Dataset ##\n",
    "\n",
    "\n",
    "\n",
    "construction_set = datasets.DataFormatter(annotations_list = CONSTRUCTION_ANNOTATIONS_FILE, input_format = datasets.Format.bdd,\n",
    "                                 output_path = os.path.join(WORKING_DIRECTORY,'data/construction_set'),\n",
    "                                 trainer_prefix = 'COCO_train2014_0000', \n",
    "                                 s3_bucket = 'kache-scalabel/kache_ai/frames/', convert_attributes = True)\n",
    "\n"
   ]
  },
  {
   "cell_type": "code",
   "execution_count": 4,
   "metadata": {
    "scrolled": true
   },
   "outputs": [
    {
     "name": "stdout",
     "output_type": "stream",
     "text": [
      "Saving to Pickle File: annotation_files_Kache-Logs--Tanveer--6_40_corrected.json.pickle\n",
      "Length of COCO Images 1000\n",
      "Length of COCO Annotations: 12958\n",
      "loading annotations into memory...\n",
      "Done (t=0.11s)\n",
      "creating index...\n",
      "index created!\n",
      "\n",
      "########### DATASET DISTRIBUTION: ###########\n",
      "\n",
      "BIKE | Annotations: 9  | Images:  4\n",
      "BUS | Annotations: 6  | Images:  5\n",
      "CAR | Annotations: 4108  | Images:  939\n",
      "CONSTRUCT-BARREL | Annotations: 2908  | Images:  283\n",
      "CONSTRUCT-CONE | Annotations: 223  | Images:  38\n",
      "CONSTRUCT-EQUIPMENT | Annotations: 191  | Images:  117\n",
      "CONSTRUCT-POLE | Annotations: 569  | Images:  143\n",
      "CONSTRUCT-SIGN | Annotations: 279  | Images:  162\n",
      "MOTOR | Annotations: 13  | Images:  12\n",
      "PERSON | Annotations: 217  | Images:  57\n",
      "RIDER | Annotations: 7  | Images:  7\n",
      "TRAFFIC LIGHT | Annotations: 137  | Images:  39\n",
      "TRAFFIC SIGN | Annotations: 1955  | Images:  695\n",
      "TRAFFIC SIGN-SLOW_SIGN | Annotations: 2  | Images:  2\n",
      "TRAFFIC SIGN-SPEED_SIGN | Annotations: 92  | Images:  82\n",
      "TRAFFIC SIGN-STOP_SIGN | Annotations: 2  | Images:  2\n",
      "TRAILER | Annotations: 66  | Images:  53\n",
      "TRAIN | Annotations: 13  | Images:  13\n",
      "TRUCK | Annotations: 2161  | Images:  845\n",
      "\n",
      "################################################\n",
      "\n"
     ]
    }
   ],
   "source": [
    "## Prepare Dataset ##\n",
    "\n",
    "\n",
    "\n",
    "construction_set2 = datasets.DataFormatter(annotations_list = CONSTRUCTION_ANNOTATIONS_FILE2, input_format = datasets.Format.bdd,\n",
    "                                 output_path = os.path.join(WORKING_DIRECTORY,'data/construction_set'),\n",
    "                                 trainer_prefix = 'COCO_train2014_0000', convert_attributes = True,\n",
    "                                 s3_bucket = 'kache-scalabel/kache_ai/frames/')\n",
    "\n"
   ]
  },
  {
   "cell_type": "code",
   "execution_count": 5,
   "metadata": {},
   "outputs": [
    {
     "name": "stdout",
     "output_type": "stream",
     "text": [
      "Successfully merged 940 images | and  12066 annotations\n",
      "Length of COCO Annotations: 23844\n",
      "loading annotations into memory...\n",
      "Done (t=0.13s)\n",
      "creating index...\n",
      "index created!\n",
      "\n",
      "########### DATASET DISTRIBUTION: ###########\n",
      "\n",
      "BIKE | Annotations: 10  | Images:  5\n",
      "BUS | Annotations: 35  | Images:  34\n",
      "CAR | Annotations: 7628  | Images:  1828\n",
      "CONSTRUCT-BARREL | Annotations: 5200  | Images:  547\n",
      "CONSTRUCT-CONE | Annotations: 411  | Images:  75\n",
      "CONSTRUCT-EQUIPMENT | Annotations: 334  | Images:  181\n",
      "CONSTRUCT-POLE | Annotations: 1036  | Images:  264\n",
      "CONSTRUCT-SIGN | Annotations: 482  | Images:  275\n",
      "MOTOR | Annotations: 27  | Images:  23\n",
      "PERSON | Annotations: 425  | Images:  103\n",
      "RIDER | Annotations: 14  | Images:  13\n",
      "TRAFFIC LIGHT | Annotations: 212  | Images:  68\n",
      "TRAFFIC SIGN | Annotations: 4113  | Images:  1393\n",
      "TRAFFIC SIGN-SLOW_SIGN | Annotations: 2  | Images:  2\n",
      "TRAFFIC SIGN-SPEED_SIGN | Annotations: 121  | Images:  107\n",
      "TRAFFIC SIGN-STOP_SIGN | Annotations: 5  | Images:  5\n",
      "TRAILER | Annotations: 41  | Images:  39\n",
      "TRAIN | Annotations: 19  | Images:  17\n",
      "TRUCK | Annotations: 3729  | Images:  1541\n",
      "\n",
      "################################################\n",
      "\n",
      "Saving to Pickle File: annotation_files_Kache-Logs--Tanveer--7_40_corrected.json.pickle\n"
     ]
    }
   ],
   "source": [
    "construction_set.merge(construction_set2, include=['CONSTRUCT-BARREL','CONSTRUCT-CONE','CONSTRUCT-EQUIPMENT', 'CONSTRUCT-POLE', 'CONSTRUCT-SIGN', 'person', 'train', 'truck', 'car', 'traffic light', 'traffic light-red','traffic light-amber','traffic light-green', 'bus', 'bike', 'motor', 'traffic sign','traffic sign-slow_sign', 'traffic sign-speed_sign', 'traffic sign-stop_sign'], reject_new_categories = False)"
   ]
  },
  {
   "cell_type": "code",
   "execution_count": 6,
   "metadata": {
    "scrolled": true
   },
   "outputs": [],
   "source": [
    "construction_set.export(format = datasets.Format.bdd, paginate = False)"
   ]
  },
  {
   "cell_type": "code",
   "execution_count": 9,
   "metadata": {},
   "outputs": [],
   "source": [
    "annotations_file = '/media/dean/datastore1/datasets/darknet/data/construction_set/bdd100k/annotations/bdd100k_altered_annotations.json'\n",
    "!cd $WORKING_DIRECTORY && python3 darkernet.py -b 'kache-scalabel/kache_ai/frames/' -a $annotations_file -f BDD -r True"
   ]
  },
  {
   "cell_type": "code",
   "execution_count": null,
   "metadata": {},
   "outputs": [],
   "source": []
  },
  {
   "cell_type": "code",
   "execution_count": null,
   "metadata": {},
   "outputs": [],
   "source": []
  },
  {
   "cell_type": "code",
   "execution_count": 10,
   "metadata": {
    "scrolled": true
   },
   "outputs": [],
   "source": [
    "# KACHE_S3 = 'kache-scalabel/kache_ai/frames/'\n",
    "# annotations_file = os.path.join(WORKING_DIRECTORY,'data/kache_set/annotations/Kache-Logs--Tanveer-WithTrafficSigns_partial_complete_1.json')\n",
    "# !cd $WORKING_DIRECTORY && python3 darkernet.py -a $annotations_file -f BDD -b $KACHE_S3 -r True"
   ]
  },
  {
   "cell_type": "code",
   "execution_count": 11,
   "metadata": {
    "scrolled": true
   },
   "outputs": [],
   "source": [
    "# WORKING_DIR = '/media/dean/datastore1/datasets/kache_ai/frames/kache_set/'\n",
    "# kache_set = datasets.DataFormatter(annotations_list = '/media/dean/datastore1/datasets/kache_ai/frames/kache_set/kacheai_logs.pickle', image_list = '/media/dean/datastore1/datasets/kache_ai/frames/kache_set/', input_format = datasets.Format.kache,\n",
    "#                                  output_path = os.path.join(WORKING_DIR,'scalabel_files'), use_cache = True,\n",
    "#                                  trainer_prefix = 'COCO_train2014_0000', pickle_file = '/media/dean/datastore1/datasets/Scripts/kache_ai_frames_kache_set_kacheai_logs.pickle.pickle',\n",
    "#                                  s3_bucket = 'kache-scalabel/kache_ai/frames/', check_s3 = False, use_static_categories = True)\n"
   ]
  },
  {
   "cell_type": "code",
   "execution_count": 12,
   "metadata": {},
   "outputs": [],
   "source": [
    "# kache_set.export(format = datasets.Format.scalabel, paginate = True)"
   ]
  },
  {
   "cell_type": "code",
   "execution_count": 13,
   "metadata": {},
   "outputs": [],
   "source": [
    "# cocodd_set.merge(coco_set, include=['person', 'train', 'truck', 'car', 'traffic light', 'bus'], reject_new_categories = True)"
   ]
  },
  {
   "cell_type": "code",
   "execution_count": 14,
   "metadata": {},
   "outputs": [],
   "source": [
    "# cocodd_set.export(format = datasets.Format.bdd, paginate = False)"
   ]
  }
 ],
 "metadata": {
  "kernelspec": {
   "display_name": "Python [conda env:ros-kache]",
   "language": "python",
   "name": "conda-env-ros-kache-py"
  },
  "language_info": {
   "codemirror_mode": {
    "name": "ipython",
    "version": 3
   },
   "file_extension": ".py",
   "mimetype": "text/x-python",
   "name": "python",
   "nbconvert_exporter": "python",
   "pygments_lexer": "ipython3",
   "version": "3.6.0"
  },
  "widgets": {
   "state": {},
   "version": "1.1.2"
  }
 },
 "nbformat": 4,
 "nbformat_minor": 2
}
